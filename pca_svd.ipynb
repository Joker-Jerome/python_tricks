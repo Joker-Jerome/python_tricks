{
 "cells": [
  {
   "cell_type": "markdown",
   "metadata": {},
   "source": [
    "# Lecture 5\n",
    "\n",
    "First we'll load some data we'll use for illustration"
   ]
  },
  {
   "cell_type": "code",
   "execution_count": 1,
   "metadata": {},
   "outputs": [],
   "source": [
    "from mpl_toolkits.mplot3d import axes3d\n",
    "import matplotlib.pyplot as plt\n",
    "import matplotlib\n",
    "import numpy as np\n",
    "import time\n",
    "import numpy.linalg as la\n",
    "import math\n",
    "%matplotlib inline\n"
   ]
  },
  {
   "cell_type": "code",
   "execution_count": 2,
   "metadata": {},
   "outputs": [
    {
     "data": {
      "text/plain": [
       "(-0.5, 59.5, 59.5, -0.5)"
      ]
     },
     "execution_count": 2,
     "metadata": {},
     "output_type": "execute_result"
    },
    {
     "data": {
      "image/png": "[encoded data removed]",
      "text/plain": [
       "<Figure size 432x288 with 1 Axes>"
      ]
     },
     "metadata": {},
     "output_type": "display_data"
    }
   ],
   "source": [
    "a=plt.imread(\"yale-blue.jpg\")\n",
    "A=np.mean(a,2)\n",
    "A=A>120\n",
    "A.shape\n",
    "#plt.imshow(a)\n",
    "%matplotlib inline\n",
    "plt.imshow(A,cmap=plt.cm.gray)\n",
    "plt.axis('equal')"
   ]
  },
  {
   "cell_type": "markdown",
   "metadata": {},
   "source": [
    "We'll take the black pixels and think about them is points in 2-D space"
   ]
  },
  {
   "cell_type": "code",
   "execution_count": 3,
   "metadata": {},
   "outputs": [
    {
     "name": "stdout",
     "output_type": "stream",
     "text": [
      "time using for loops: 0.009498357772827148\n"
     ]
    }
   ],
   "source": [
    "data0=np.zeros((2,np.sum(~A)))\n",
    "itercount=0\n",
    "t0=time.time()\n",
    "for j in range(A.shape[0]):\n",
    "    for k in range(A.shape[1]):\n",
    "        if (~A[j,k]):\n",
    "            data0[:,itercount]=np.array([j,k])\n",
    "            itercount+=1\n",
    "print (\"time using for loops:\", time.time()-t0)\n",
    "#datainit=data.copy()"
   ]
  },
  {
   "cell_type": "markdown",
   "metadata": {},
   "source": [
    "Turns out there's a faster way to do this"
   ]
  },
  {
   "cell_type": "code",
   "execution_count": 4,
   "metadata": {},
   "outputs": [
    {
     "name": "stdout",
     "output_type": "stream",
     "text": [
      "time using numpy:     0.00016450881958007812\n"
     ]
    }
   ],
   "source": [
    "t0=time.time()\n",
    "## a faster more succinct way\n",
    "datafast0=np.array(np.nonzero(~A))\n",
    "print (\"time using numpy:    \",time.time()-t0)"
   ]
  },
  {
   "cell_type": "code",
   "execution_count": 5,
   "metadata": {},
   "outputs": [
    {
     "name": "stdout",
     "output_type": "stream",
     "text": [
      "0.0\n"
     ]
    }
   ],
   "source": [
    "print( np.sum(np.abs(datafast0-data0)) )"
   ]
  },
  {
   "cell_type": "code",
   "execution_count": null,
   "metadata": {},
   "outputs": [],
   "source": []
  },
  {
   "cell_type": "code",
   "execution_count": 6,
   "metadata": {},
   "outputs": [
    {
     "data": {
      "text/plain": [
       "(15.794805099423261,\n",
       " 42.205194900576736,\n",
       " -2.8579987707555765,\n",
       " 59.85799877075557)"
      ]
     },
     "execution_count": 6,
     "metadata": {},
     "output_type": "execute_result"
    },
    {
     "data": {
      "image/png": "[encoded data removed]",
      "text/plain": [
       "<Figure size 432x288 with 1 Axes>"
      ]
     },
     "metadata": {},
     "output_type": "display_data"
    }
   ],
   "source": [
    "plt.scatter( data0[0,:], data0[1,:], 10, 'k' )\n",
    "plt.axis('equal')"
   ]
  },
  {
   "cell_type": "markdown",
   "metadata": {},
   "source": [
    "#### Let's swap the axes so it looks better"
   ]
  },
  {
   "cell_type": "code",
   "execution_count": 7,
   "metadata": {},
   "outputs": [],
   "source": [
    "data1=data0.copy()\n",
    "data1[0,:]=data0[1,:]\n",
    "data1[1,:]=data0[0,:]"
   ]
  },
  {
   "cell_type": "code",
   "execution_count": 8,
   "metadata": {},
   "outputs": [
    {
     "data": {
      "text/plain": [
       "(-2.8551949005767403,\n",
       " 59.855194900576734,\n",
       " 15.792001229244425,\n",
       " 42.207998770755566)"
      ]
     },
     "execution_count": 8,
     "metadata": {},
     "output_type": "execute_result"
    },
    {
     "data": {
      "image/png": "[encoded data removed]",
      "text/plain": [
       "<Figure size 432x288 with 1 Axes>"
      ]
     },
     "metadata": {},
     "output_type": "display_data"
    }
   ],
   "source": [
    "plt.scatter( data1[0,:], data1[1,:], 10, 'k' )\n",
    "plt.axis('equal')"
   ]
  },
  {
   "cell_type": "markdown",
   "metadata": {},
   "source": [
    "#### Almost.... And, actually, isn't todays' class about linear algebra?"
   ]
  },
  {
   "cell_type": "code",
   "execution_count": 9,
   "metadata": {},
   "outputs": [
    {
     "data": {
      "text/plain": [
       "(-2.8551949005767403,\n",
       " 59.855194900576734,\n",
       " -42.20799877075557,\n",
       " -15.792001229244422)"
      ]
     },
     "execution_count": 9,
     "metadata": {},
     "output_type": "execute_result"
    },
    {
     "data": {
      "image/png": "[encoded data removed]",
      "text/plain": [
       "<Figure size 432x288 with 1 Axes>"
      ]
     },
     "metadata": {},
     "output_type": "display_data"
    }
   ],
   "source": [
    "A=np.array([[0,1],[-1,0]])\n",
    "data3 = A @ data0\n",
    "plt.scatter( data3[0,:], data3[1,:], 10, 'k' )\n",
    "plt.axis('equal')"
   ]
  },
  {
   "cell_type": "markdown",
   "metadata": {},
   "source": [
    "#### Just for cnvenience I'll make it's non-negative numbers."
   ]
  },
  {
   "cell_type": "code",
   "execution_count": 10,
   "metadata": {},
   "outputs": [
    {
     "data": {
      "text/plain": [
       "(-27.855194900576738,\n",
       " 34.855194900576734,\n",
       " -11.207998770755577,\n",
       " 15.207998770755573)"
      ]
     },
     "execution_count": 10,
     "metadata": {},
     "output_type": "execute_result"
    },
    {
     "data": {
      "image/png": "[encoded data removed]",
      "text/plain": [
       "<Figure size 432x288 with 1 Axes>"
      ]
     },
     "metadata": {},
     "output_type": "display_data"
    }
   ],
   "source": [
    "data = data3.copy()\n",
    "#data[1,:] = data[1,:]-data[1,:].min()   #### THIS IS THE ORIGINAL CODE FROM THE FIRST CLASS. I CHANGED IT A BIT.\n",
    "data = data-data.min(axis=1).reshape(-1,1)-np.array([[25],[10]])\n",
    "plt.scatter( data[0,:], data[1,:] , 10, 'k')\n",
    "plt.axis('equal')"
   ]
  },
  {
   "cell_type": "code",
   "execution_count": null,
   "metadata": {},
   "outputs": [],
   "source": []
  },
  {
   "cell_type": "markdown",
   "metadata": {},
   "source": [
    "#### let's put this into a plotting function"
   ]
  },
  {
   "cell_type": "code",
   "execution_count": 11,
   "metadata": {},
   "outputs": [
    {
     "data": {
      "image/png": "[encoded data removed]",
      "text/plain": [
       "<Figure size 432x288 with 1 Axes>"
      ]
     },
     "metadata": {},
     "output_type": "display_data"
    }
   ],
   "source": [
    "def myPlot2D( dat):\n",
    "    fig = plt.figure()\n",
    "    ax = fig.add_subplot(111)\n",
    "    plt.scatter( dat[0,:], dat[1,:] ,20,'k')\n",
    "    ax.set_xlabel('X')\n",
    "    ax.set_ylabel('Y')\n",
    "    ax.axis('equal')\n",
    "    return fig\n",
    "\n",
    "myPlot2D(data);"
   ]
  },
  {
   "cell_type": "code",
   "execution_count": 12,
   "metadata": {},
   "outputs": [
    {
     "name": "stdout",
     "output_type": "stream",
     "text": [
      "(2, 366)\n"
     ]
    }
   ],
   "source": [
    "print(data.shape)"
   ]
  },
  {
   "cell_type": "code",
   "execution_count": null,
   "metadata": {},
   "outputs": [],
   "source": []
  },
  {
   "cell_type": "markdown",
   "metadata": {},
   "source": [
    "### A Circle dataset"
   ]
  },
  {
   "cell_type": "code",
   "execution_count": 13,
   "metadata": {},
   "outputs": [
    {
     "data": {
      "image/png": "[encoded data removed]",
      "text/plain": [
       "<Figure size 432x288 with 1 Axes>"
      ]
     },
     "metadata": {},
     "output_type": "display_data"
    }
   ],
   "source": [
    "dataBindex = np.arange(0,2*math.pi,0.01)\n",
    "dataB1 = np.array([np.cos(dataBindex),np.sin(dataBindex)])\n",
    "dataB2 = np.zeros((2,100));dataB2[0,:]=np.array(np.arange(0,1,0.01))\n",
    "dataB = np.concatenate((dataB1,dataB2),axis=1)\n",
    "dataB.shape\n",
    "myPlot2D(dataB);"
   ]
  },
  {
   "cell_type": "code",
   "execution_count": null,
   "metadata": {},
   "outputs": [],
   "source": []
  },
  {
   "cell_type": "markdown",
   "metadata": {},
   "source": [
    "### We'll make another dataset that is 3-D"
   ]
  },
  {
   "cell_type": "code",
   "execution_count": 14,
   "metadata": {},
   "outputs": [],
   "source": [
    "A=np.array([[1,0],[0,1],[0,0]])\n",
    "data3D = A @ data\n",
    " "
   ]
  },
  {
   "cell_type": "code",
   "execution_count": 15,
   "metadata": {},
   "outputs": [
    {
     "data": {
      "image/png": "[encoded data removed]",
      "text/plain": [
       "<Figure size 432x288 with 1 Axes>"
      ]
     },
     "execution_count": 15,
     "metadata": {},
     "output_type": "execute_result"
    },
    {
     "data": {
      "image/png": "[encoded data removed]",
      "text/plain": [
       "<Figure size 432x288 with 1 Axes>"
      ]
     },
     "metadata": {},
     "output_type": "display_data"
    }
   ],
   "source": [
    "def myPlot3D( dat, elev = 70, azim=-100):\n",
    "    fig = plt.figure()\n",
    "    ax = fig.add_subplot(111, projection='3d')    \n",
    "    ax.plot3D(dat[0,:],dat[1,:],dat[2,:],'k.')\n",
    "    ax.set_xlabel('X')\n",
    "    ax.set_ylabel('Y')\n",
    "    ax.set_zlabel('Z')\n",
    "    ax.view_init(elev, azim)\n",
    "    ax.autoscale_view(tight=None, scalex=False, scaley=False, scalez=False)\n",
    "    return fig\n",
    "\n",
    "myPlot3D( data3D)"
   ]
  },
  {
   "cell_type": "code",
   "execution_count": null,
   "metadata": {},
   "outputs": [],
   "source": []
  },
  {
   "cell_type": "markdown",
   "metadata": {},
   "source": [
    "# Lecture 5: Vector Spaces and Hilbert Spaces (finite dimension) - Reminder\n",
    "\n",
    "A vector space over the field $\\mathbb{F}$ (in our case: real numbers $\\mathbb{F}=\\mathbb{R}$) is a set $\\mathcal{V}$ (in our case: $\\mathbb{R}^n$ together with two operations\n",
    "\n",
    "- vector addition \"+\" $:\\mathcal{V} \\times \\mathcal{V} \\mapsto \\mathcal{V}$ (if you add two vectors you get a vector)\n",
    "\n",
    "- and scalar multiplication \"$\\cdot$\" $:\\mathbb{F} \\times \\mathcal{V} \\mapsto \\mathcal{V}$ (if you multiply a real number and a vector you get a vector).\n",
    "\n",
    "The abstract description of vector spaces require these operations to satisfy certain axioms. We restrict our discussion to $\\mathbb{R}^n$ and to the natural definition of addition and product, which naturally satisfy the axioms, so we will skip them for now. \n",
    "\n",
    "Vector spaces are much more general that the vectors in $\\mathbb{R}^d$. I recommend courses like functional analysis to understand these interesting objects better!\n",
    "\n",
    "When we have an inner product defined for the vector space, we call it a  *Hilbert space*. Most of what you will run into are Hilbert spaces.\n"
   ]
  },
  {
   "cell_type": "markdown",
   "metadata": {},
   "source": [
    "#### comment about complex numbers\n",
    "\n",
    "In most of this course we use real numbers. When complex numbers are involved a few things change slightly. \n",
    "\n",
    "In particular, $<v,u> = \\overline{ <u,v> }$, and we have a conjugate transpose denoted by $A^H or A^*$. \n",
    "\n",
    "In the case of real numbers $<v,u> = { <u,v> }$ and $A^* = A^T$. But this isn't true for complex numbers!/"
   ]
  },
  {
   "cell_type": "code",
   "execution_count": null,
   "metadata": {},
   "outputs": [],
   "source": []
  },
  {
   "cell_type": "markdown",
   "metadata": {},
   "source": [
    "## Some Definitions\n",
    "\n",
    "Let $u,v \\in \\mathbb{R}^{d}$ be non-zero vectors.\n",
    "- $u$ is said to be called *normalized* if $<u,u> = \\|u\\|^2 = 1$.\n",
    "- $u$ and $v$ are said to be *orthogonal* if $<u,v> = 0$.\n",
    "\n",
    "Let ${B}$ be a set of non-zero vectors $u_1,u_2,...,u_n \\in \\mathbb{R}^{d}$.\n",
    "\n",
    "\n",
    "- A linear combination of vectors in ${B}$ is a weighted sum:\n",
    "$v = \\sum_{i=1}^n a_i u_i$.\n",
    "\n",
    "- ${B}$ is said to be orthonormal if each vector is normalized and each pair is orthogonal.\n",
    "\n",
    "- ${B}$ is said to be linearly dependent if there is some set of coefficients, not all zeros, such that $\\sum_{i=1}^n a_i u_i =0$. If such a set of coefficients does not exist, the set is called independent.\n",
    "\n",
    "- The set of all the possible linear combinations of ${B}$ is called the  *span* of ${B}$ :\n",
    "\n",
    "  $span({B}) = \\left\\{ \\sum_{i=1}^n a_i u_i :  a_i \\in \\mathbb{R} \\text{ for all } i\\right\\}$\n",
    "  \n",
    "  The span of ${B}$ is a linear space.\n",
    "\n",
    "- If any element $v \\in \\mathcal{V}$ in a vector space can be written as a linear combination of elements of ${B}$, and ${B}$ is linearly independent,\n",
    "  then ${B}$ is said to be a *basis* of $v \\in \\mathcal{V}$.\n",
    "  \n"
   ]
  },
  {
   "cell_type": "markdown",
   "metadata": {},
   "source": [
    "## Some Facts\n",
    "\n",
    "If ${B}$ is a basis of $\\mathcal{V}$, then each $v \\in \\mathcal{V}$ has a unique expansion in ${B}$. In other words, the coefficients $a_i$ in the following expression are unique:\n",
    "\\begin{equation}\n",
    "  v = \\sum_{i=1}^n a_i u_i,\n",
    "\\end{equation}\n",
    "You can't write $v$ in any other way in this basis.\n",
    "\n",
    "\n",
    "If ${B}$ and $\\tilde{{B}}$ are both bases of $\\mathcal{V}$,\n",
    "then they have the same number of (nonzero) vectors in them.\n",
    "We call this number of vectors the *dimension* of $\\mathcal{V}$.\n"
   ]
  },
  {
   "cell_type": "markdown",
   "metadata": {},
   "source": [
    "## Some examples\n",
    "\n",
    "\n",
    "The following is the natural basis for all vectors in $\\mathbb{R}^3$:\n"
   ]
  },
  {
   "cell_type": "code",
   "execution_count": 16,
   "metadata": {},
   "outputs": [
    {
     "name": "stdout",
     "output_type": "stream",
     "text": [
      "[[1. 0. 0.]\n",
      " [0. 1. 0.]\n",
      " [0. 0. 1.]]\n"
     ]
    }
   ],
   "source": [
    "B1=np.identity(3)\n",
    "print(B1)"
   ]
  },
  {
   "cell_type": "markdown",
   "metadata": {},
   "source": [
    "For reasons that will become clear later, we will mean that each column is one of the basis vectors."
   ]
  },
  {
   "cell_type": "markdown",
   "metadata": {},
   "source": [
    "Let's check some things..."
   ]
  },
  {
   "cell_type": "code",
   "execution_count": 17,
   "metadata": {},
   "outputs": [
    {
     "name": "stdout",
     "output_type": "stream",
     "text": [
      "norm of a vector:  1.0\n",
      "inner product between different :  0.0\n"
     ]
    }
   ],
   "source": [
    "j1=0\n",
    "j2=1\n",
    "print(\"norm of a vector: \", np.sqrt(B1[:,j1] @ B1[:,j1]))\n",
    "print(\"inner product between different : \", B1[:,j1] @ B1[:,j2])"
   ]
  },
  {
   "cell_type": "markdown",
   "metadata": {},
   "source": [
    "We can write any vector\n",
    "\\begin{equation}\n",
    "v= \\sum_{i=1}^3 v[i] u_i = v[1]\n",
    " \\begin{bmatrix}\n",
    "1  \\\\\n",
    "0  \\\\\n",
    "0\n",
    "\\end{bmatrix} \n",
    "+v[2] \n",
    " \\begin{bmatrix}\n",
    "0  \\\\\n",
    "1  \\\\\n",
    "0\n",
    "\\end{bmatrix} \n",
    "+v[3] \n",
    " \\begin{bmatrix}\n",
    "0  \\\\\n",
    "0  \\\\\n",
    "1\n",
    " \\end{bmatrix}.\n",
    "\\end{equation}"
   ]
  },
  {
   "cell_type": "code",
   "execution_count": 18,
   "metadata": {},
   "outputs": [
    {
     "name": "stdout",
     "output_type": "stream",
     "text": [
      "v   =  [ 2.4  3.1 -7.1]\n",
      "sum =  [ 2.4  3.1 -7.1]\n"
     ]
    }
   ],
   "source": [
    "v=np.array([2.4,3.1,-7.1])\n",
    "print(\"v   = \",v)\n",
    "print(\"sum = \",v[0]*B1[:,0]+ v[1]*B1[:,1] + v[2]*B1[:,2])"
   ]
  },
  {
   "cell_type": "markdown",
   "metadata": {},
   "source": [
    "#### This is also a basis of the same space,\n",
    "\n",
    "But $B2$ it is not orthonormal."
   ]
  },
  {
   "cell_type": "code",
   "execution_count": 19,
   "metadata": {},
   "outputs": [
    {
     "name": "stdout",
     "output_type": "stream",
     "text": [
      "[[1 0 0]\n",
      " [1 1 0]\n",
      " [0 0 1]]\n"
     ]
    }
   ],
   "source": [
    "B2=np.array([[1,0,0],[1,1,0],[0,0,1]])\n",
    "print(B2)"
   ]
  },
  {
   "cell_type": "code",
   "execution_count": 20,
   "metadata": {},
   "outputs": [
    {
     "name": "stdout",
     "output_type": "stream",
     "text": [
      "norm of a vector:  1.4142135623730951\n",
      "inner product between different :  1\n"
     ]
    }
   ],
   "source": [
    "j1=0\n",
    "j2=1\n",
    "print(\"norm of a vector: \", np.sqrt(B2[:,j1] @ B2[:,j1]))\n",
    "print(\"inner product between different : \", B2[:,j1] @ B2[:,j2])"
   ]
  },
  {
   "cell_type": "markdown",
   "metadata": {},
   "source": [
    "This is another orthogonal basis of the same space:"
   ]
  },
  {
   "cell_type": "code",
   "execution_count": 21,
   "metadata": {},
   "outputs": [
    {
     "name": "stdout",
     "output_type": "stream",
     "text": [
      "[[ 1  1  0]\n",
      " [ 1 -1  0]\n",
      " [ 0  0  1]]\n"
     ]
    }
   ],
   "source": [
    "B3=np.array([[1,1,0],[1,-1,0],[0,0,1]])\n",
    "print(B3)"
   ]
  },
  {
   "cell_type": "markdown",
   "metadata": {},
   "source": [
    "oooppsss... it's not normalized..."
   ]
  },
  {
   "cell_type": "code",
   "execution_count": 22,
   "metadata": {},
   "outputs": [
    {
     "name": "stdout",
     "output_type": "stream",
     "text": [
      "norm of a vector:  1.4142135623730951\n",
      "inner product between different :  0\n"
     ]
    }
   ],
   "source": [
    "j1=0\n",
    "j2=1\n",
    "print(\"norm of a vector: \", np.sqrt(B3[:,j1] @ B3[:,j1]))\n",
    "print(\"inner product between different : \", B3[:,j1] @ B3[:,j2])"
   ]
  },
  {
   "cell_type": "code",
   "execution_count": 23,
   "metadata": {},
   "outputs": [
    {
     "name": "stdout",
     "output_type": "stream",
     "text": [
      "[[ 0.70710678  0.70710678  0.        ]\n",
      " [ 0.70710678 -0.70710678  0.        ]\n",
      " [ 0.          0.          1.        ]]\n"
     ]
    }
   ],
   "source": [
    "B4=np.array([[1/np.sqrt(2),1/np.sqrt(2),0],[1/np.sqrt(2),-1/np.sqrt(2),0],[0,0,1]])\n",
    "print(B4)"
   ]
  },
  {
   "cell_type": "code",
   "execution_count": 24,
   "metadata": {},
   "outputs": [
    {
     "name": "stdout",
     "output_type": "stream",
     "text": [
      "norm of a vector:  0.9999999999999999\n",
      "inner product between different :  0.0\n"
     ]
    }
   ],
   "source": [
    "j1=0\n",
    "j2=1\n",
    "print(\"norm of a vector: \", np.sqrt(B4[:,j1] @ B4[:,j1]))\n",
    "print(\"inner product between different : \", B4[:,j1] @ B4[:,j2])"
   ]
  },
  {
   "cell_type": "markdown",
   "metadata": {},
   "source": [
    "#### This is not a basis because the vectors are not independent"
   ]
  },
  {
   "cell_type": "code",
   "execution_count": 25,
   "metadata": {},
   "outputs": [
    {
     "name": "stdout",
     "output_type": "stream",
     "text": [
      "[[0.70710678 1.         0.        ]\n",
      " [0.70710678 0.         1.        ]\n",
      " [0.         0.         0.        ]]\n"
     ]
    }
   ],
   "source": [
    "B5 = np.array([[1/np.sqrt(2),1,0],[1/np.sqrt(2),0,1],[0,0,0]])\n",
    "print(B5)"
   ]
  },
  {
   "cell_type": "code",
   "execution_count": 26,
   "metadata": {},
   "outputs": [
    {
     "name": "stdout",
     "output_type": "stream",
     "text": [
      "norm of a vector:  0.9999999999999999\n",
      "norm of a vector:  1.0\n",
      "norm of a vector:  1.0\n",
      "linearly dependent:  [0. 0. 0.]\n"
     ]
    }
   ],
   "source": [
    "j1=0\n",
    "print(\"norm of a vector: \", np.sqrt(B5[:,j1] @ B5[:,j1]))\n",
    "j1=1\n",
    "print(\"norm of a vector: \", np.sqrt(B5[:,j1] @ B5[:,j1]))\n",
    "j1=2\n",
    "print(\"norm of a vector: \", np.sqrt(B5[:,j1] @ B5[:,j1]))\n",
    "print(\"linearly dependent: \", B5[:,0]*np.sqrt(2)-1*B5[:,1]-1*B5[:,2] )"
   ]
  },
  {
   "cell_type": "code",
   "execution_count": null,
   "metadata": {},
   "outputs": [],
   "source": []
  },
  {
   "cell_type": "markdown",
   "metadata": {},
   "source": [
    "### This is basis of a lower dimensional space, which is a subspace of our original space:\n"
   ]
  },
  {
   "cell_type": "code",
   "execution_count": 27,
   "metadata": {},
   "outputs": [
    {
     "name": "stdout",
     "output_type": "stream",
     "text": [
      "[[ 0.70710678  0.70710678]\n",
      " [ 0.70710678 -0.70710678]\n",
      " [ 0.          0.        ]]\n"
     ]
    }
   ],
   "source": [
    "B6=np.array([[1/np.sqrt(2),1/np.sqrt(2)],[1/np.sqrt(2),-1/np.sqrt(2)],[0,0]])\n",
    "print(B6)"
   ]
  },
  {
   "cell_type": "code",
   "execution_count": 28,
   "metadata": {},
   "outputs": [
    {
     "name": "stdout",
     "output_type": "stream",
     "text": [
      "norm of a vector:  0.9999999999999999\n",
      "inner product between different :  0.0\n"
     ]
    }
   ],
   "source": [
    "j1=0\n",
    "j2=1\n",
    "print(\"norm of a vector: \", np.sqrt(B6[:,j1] @ B6[:,j1]))\n",
    "print(\"inner product between different : \", B6[:,j1] @ B6[:,j2])"
   ]
  },
  {
   "cell_type": "code",
   "execution_count": null,
   "metadata": {},
   "outputs": [],
   "source": []
  },
  {
   "cell_type": "markdown",
   "metadata": {},
   "source": [
    "## Why Orthonormal Bases\n",
    "\n",
    "Orthonormal bases are particularly convenient to work with. In fact, when we say \"basis\" we often mean \"orthonormal basis.\"\n",
    "If $B=\\{ v_1, ..., v_n \\}$ is an *orthonormal* basis of $\\mathcal{V}$, and $\\mathcal{V}$, and $a_i$ are the coefficients in the expansion\n",
    "\n",
    "\\begin{equation}\n",
    "v = \\sum_{j=1}^n a_i v_i ,\n",
    "\\end{equation}\n",
    "\n",
    "then \n",
    "\n",
    "\\begin{equation}\n",
    "a_i = <v,v_i>.\n",
    "\\end{equation}\n",
    "\n",
    "Why is that true?\n",
    "\n",
    "\\begin{equation}\n",
    "<v,v_i> = <\\sum_{j=1}^n a_j v_j , v_i> =\n",
    "\\end{equation}\n",
    "\n",
    "by linearity\n",
    "\n",
    "\\begin{equation}\n",
    "= \\sum_{j=1}^n a_j <v_j , v_i > =\n",
    "\\end{equation}\n",
    "\n",
    "and since $B$ is an orthonormal basis, $<v_j , v_i> =0$, unless $i=j$, where $<v_j , v_j> =1$:\n",
    "\n",
    "\\begin{equation}\n",
    "= a_i\n",
    "\\end{equation}\n"
   ]
  },
  {
   "cell_type": "markdown",
   "metadata": {},
   "source": [
    "#### Let's try this:"
   ]
  },
  {
   "cell_type": "code",
   "execution_count": 29,
   "metadata": {},
   "outputs": [
    {
     "name": "stdout",
     "output_type": "stream",
     "text": [
      "v   =  [ 2.4  3.1 -7.1]\n",
      "[[1. 0. 0.]\n",
      " [0. 1. 0.]\n",
      " [0. 0. 1.]]\n",
      "coefficients =  2.4 3.1 -7.1\n",
      "sum =  [ 2.4  3.1 -7.1]\n"
     ]
    }
   ],
   "source": [
    "v=np.array([2.4,3.1,-7.1])\n",
    "tmpB = B1\n",
    "print(\"v   = \",v)\n",
    "print(B1)\n",
    "a0 = v@tmpB[:,0]\n",
    "a1 = v@tmpB[:,1] \n",
    "a2 = v@tmpB[:,2]\n",
    "print(\"coefficients = \",a0,a1,a2)\n",
    "print(\"sum = \", a0*tmpB[:,0] + a1*tmpB[:,1] + a2*tmpB[:,2])"
   ]
  },
  {
   "cell_type": "markdown",
   "metadata": {},
   "source": [
    "#### Another orthonormal basis"
   ]
  },
  {
   "cell_type": "code",
   "execution_count": 30,
   "metadata": {},
   "outputs": [
    {
     "name": "stdout",
     "output_type": "stream",
     "text": [
      "v   =  [ 2.4  3.1 -7.1]\n",
      "[[ 0.70710678  0.70710678  0.        ]\n",
      " [ 0.70710678 -0.70710678  0.        ]\n",
      " [ 0.          0.          1.        ]]\n",
      "coefficients =  3.889087296526011 -0.4949747468305832 -7.1\n",
      "sum =  [ 2.4  3.1 -7.1]\n"
     ]
    }
   ],
   "source": [
    "v=np.array([2.4,3.1,-7.1])\n",
    "tmpB = B4\n",
    "print(\"v   = \",v)\n",
    "print(tmpB)\n",
    "\n",
    "a0 = v@tmpB[:,0]\n",
    "a1 = v@tmpB[:,1] \n",
    "a2 = v@tmpB[:,2]\n",
    "print(\"coefficients = \",a0,a1,a2)\n",
    "print(\"sum = \", a0*tmpB[:,0] + a1*tmpB[:,1] + a2*tmpB[:,2])"
   ]
  },
  {
   "cell_type": "markdown",
   "metadata": {},
   "source": [
    "#### Not orthonormal"
   ]
  },
  {
   "cell_type": "code",
   "execution_count": 31,
   "metadata": {},
   "outputs": [
    {
     "name": "stdout",
     "output_type": "stream",
     "text": [
      "v   =  [ 2.4  3.1 -7.1]\n",
      "[[1 0 0]\n",
      " [1 1 0]\n",
      " [0 0 1]]\n",
      "coefficients =  5.5 3.1 -7.1\n",
      "sum =  [ 5.5  8.6 -7.1]\n"
     ]
    }
   ],
   "source": [
    "v=np.array([2.4,3.1,-7.1])\n",
    "tmpB = B2\n",
    "print(\"v   = \",v)\n",
    "print(tmpB)\n",
    "\n",
    "a0 = v@tmpB[:,0]\n",
    "a1 = v@tmpB[:,1] \n",
    "a2 = v@tmpB[:,2]\n",
    "print(\"coefficients = \",a0,a1,a2)\n",
    "print(\"sum = \", a0*tmpB[:,0] + a1*tmpB[:,1] + a2*tmpB[:,2])"
   ]
  },
  {
   "cell_type": "code",
   "execution_count": null,
   "metadata": {},
   "outputs": [],
   "source": []
  },
  {
   "cell_type": "code",
   "execution_count": null,
   "metadata": {},
   "outputs": [],
   "source": []
  },
  {
   "cell_type": "code",
   "execution_count": null,
   "metadata": {},
   "outputs": [],
   "source": []
  },
  {
   "cell_type": "markdown",
   "metadata": {},
   "source": [
    "## Another way to write this\n",
    "\n",
    "\\begin{equation}\n",
    "v = \\sum_{j=1}^n a_i v_i ,\n",
    "\\end{equation}\n",
    "\n",
    "Assuming an **orthonormal basis**:\n",
    "\n",
    "Coefficient:\n",
    "\n",
    "\\begin{equation}\n",
    "    a_j = <v,v_j> = v_j^* v\n",
    "\\end{equation}\n",
    "\n",
    "Vector of coefficients:\n",
    "\n",
    "\\begin{equation}\n",
    "    a = (B^* v)\n",
    "\\end{equation}\n",
    "\n",
    "Then \n",
    "\n",
    "\\begin{equation}\n",
    "    v = B a\n",
    "\\end{equation}\n",
    "\n",
    "\n",
    "##### comment: since we use real numbers, we'll use $B^*$, $B^\\intercal$ and $B^H$ interchangeably.\n"
   ]
  },
  {
   "cell_type": "code",
   "execution_count": 32,
   "metadata": {},
   "outputs": [
    {
     "name": "stdout",
     "output_type": "stream",
     "text": [
      "v   =  [ 2.4  3.1 -7.1]\n",
      "[[ 0.70710678  0.70710678  0.        ]\n",
      " [ 0.70710678 -0.70710678  0.        ]\n",
      " [ 0.          0.          1.        ]]\n",
      "coefficients =  3.889087296526011 -0.4949747468305832 -7.1\n",
      "coeeficients =  [ 3.8890873  -0.49497475 -7.1       ]\n",
      "reconstruction =  [ 2.4  3.1 -7.1]\n"
     ]
    }
   ],
   "source": [
    "v=np.array([2.4,3.1,-7.1])\n",
    "tmpB = B4\n",
    "print(\"v   = \",v)\n",
    "print(tmpB)\n",
    "\n",
    "a0 = v@tmpB[:,0]\n",
    "a1 = v@tmpB[:,1] \n",
    "a2 = v@tmpB[:,2]\n",
    "a = tmpB.T @ v\n",
    "print(\"coefficients = \",a0,a1,a2)\n",
    "print(\"coeeficients = \", a)\n",
    "print(\"reconstruction = \", tmpB @ a)"
   ]
  },
  {
   "cell_type": "code",
   "execution_count": null,
   "metadata": {},
   "outputs": [],
   "source": []
  },
  {
   "cell_type": "markdown",
   "metadata": {},
   "source": [
    "So... what you're saying is....\n",
    "\n",
    "\\begin{equation}\n",
    "    v = B a = B B^* v \n",
    "\\end{equation}\n",
    "\n",
    "So... \n",
    "\\begin{equation}\n",
    "    B B^* = I ?\n",
    "\\end{equation}\n",
    "\n",
    "Yes! which leads us to the next topic...\n"
   ]
  },
  {
   "cell_type": "code",
   "execution_count": null,
   "metadata": {},
   "outputs": [],
   "source": []
  },
  {
   "cell_type": "code",
   "execution_count": null,
   "metadata": {},
   "outputs": [],
   "source": []
  },
  {
   "cell_type": "markdown",
   "metadata": {},
   "source": [
    "## Unitary Matrices\n",
    "\n",
    "A Unitary matrix is a square matrix which satisfies $U^* U = U U^* = I$.\n",
    "\n",
    "An orthonormal matrix is a square matrix which satisfies $U^\\intercal U = U U^\\intercal = I$. Since we are looking at real numbers in most of this course, these are usually the same as Unitary matrices.\n",
    "\n",
    "Cool fact about our orthonormal bases, the way we wrote them, they are unitary matrices!\n"
   ]
  },
  {
   "cell_type": "code",
   "execution_count": 33,
   "metadata": {},
   "outputs": [
    {
     "name": "stdout",
     "output_type": "stream",
     "text": [
      "[[1. 0. 0.]\n",
      " [0. 1. 0.]\n",
      " [0. 0. 1.]]\n",
      "[[1. 0. 0.]\n",
      " [0. 1. 0.]\n",
      " [0. 0. 1.]]\n",
      "[[1. 0. 0.]\n",
      " [0. 1. 0.]\n",
      " [0. 0. 1.]]\n"
     ]
    }
   ],
   "source": [
    "print(B1)\n",
    "print( B1 @ B1.T )\n",
    "print( B1.T @ B1)\n",
    "# not very surprising... \n"
   ]
  },
  {
   "cell_type": "code",
   "execution_count": 34,
   "metadata": {},
   "outputs": [
    {
     "name": "stdout",
     "output_type": "stream",
     "text": [
      "[[ 0.70710678  0.70710678  0.        ]\n",
      " [ 0.70710678 -0.70710678  0.        ]\n",
      " [ 0.          0.          1.        ]]\n",
      "[[ 1.00000000e+00 -2.23711432e-17  0.00000000e+00]\n",
      " [-2.23711432e-17  1.00000000e+00  0.00000000e+00]\n",
      " [ 0.00000000e+00  0.00000000e+00  1.00000000e+00]]\n",
      "[[ 1.00000000e+00 -2.23711432e-17  0.00000000e+00]\n",
      " [-2.23711432e-17  1.00000000e+00  0.00000000e+00]\n",
      " [ 0.00000000e+00  0.00000000e+00  1.00000000e+00]]\n"
     ]
    }
   ],
   "source": [
    "print(B4)\n",
    "print( B4 @ B4.T )\n",
    "print( B4.T @ B4)"
   ]
  },
  {
   "cell_type": "markdown",
   "metadata": {},
   "source": [
    "This makes sense. The columns of unitary matrices must satisfy:\n",
    "\n",
    "\\begin{equation}\n",
    " <B[:,j], B[:,j]> = 1\n",
    " \\end{equation}\n",
    " \n",
    " and for $i \\neq j$: \n",
    " \n",
    "\\begin{equation}\n",
    " <B[:,j], B[:,i]> = 0\n",
    " \\end{equation}"
   ]
  },
  {
   "cell_type": "code",
   "execution_count": null,
   "metadata": {},
   "outputs": [],
   "source": []
  },
  {
   "cell_type": "code",
   "execution_count": null,
   "metadata": {},
   "outputs": [],
   "source": []
  },
  {
   "cell_type": "code",
   "execution_count": null,
   "metadata": {},
   "outputs": [],
   "source": []
  },
  {
   "cell_type": "markdown",
   "metadata": {},
   "source": [
    "## Linear operators and bases\n"
   ]
  },
  {
   "cell_type": "markdown",
   "metadata": {},
   "source": [
    "### Easy linear operator: diagonal\n",
    "\n",
    "if $A$ is **diagonal**,\n",
    "\n",
    "\\begin{equation}\n",
    "  (A v)[i] = \\sum_j A[i,j] v[j] = A[i,i] v[i]\n",
    "\\end{equation}\n"
   ]
  },
  {
   "cell_type": "code",
   "execution_count": 35,
   "metadata": {},
   "outputs": [
    {
     "name": "stdout",
     "output_type": "stream",
     "text": [
      "v= [ 1 10]\n",
      "A= [[-1.    0.  ]\n",
      " [ 0.    0.33]]\n",
      "Av= [-1.   3.3]\n"
     ]
    }
   ],
   "source": [
    "v = np.array([1,10])\n",
    "A = np.diag([-1,0.33])\n",
    "print(\"v=\",v)\n",
    "print(\"A=\",A)\n",
    "print(\"Av=\",A@v)"
   ]
  },
  {
   "cell_type": "markdown",
   "metadata": {},
   "source": [
    "### General linear operators and bases\n",
    "\n",
    "One of the nice things about basis is that they tell us everything we need to know about ANY linear operator:\n",
    "\n",
    "\\begin{equation}\n",
    "  A v = A \\left(\\sum_{i=1}^n a_i v_i\\right) =\n",
    "\\end{equation}\n",
    "\n",
    "by linearity:\n",
    "\n",
    "\\begin{equation}\n",
    "  =  \\sum_{i=1}^n a_i \\left(A v_i\\right).\n",
    "\\end{equation}\n",
    "\n",
    "\n",
    "Let's put together the result of this section and the previous section:\n",
    "\n",
    "\\begin{equation}\n",
    "  A v = \\sum_{i=1}^n a_i \\left(A v_i\\right) = \\sum_{i=1}^n <v,v_i> \\left(A v_i\\right) = \\sum_{i=1}^n v_i^* v \\left(A v_i\\right) = \\sum_{i=1}^n \\left(A v_i\\right) v_i^* v =\n",
    "\\left(\\sum_{i=1}^n \\left(A v_i\\right) v_i^* \\right) v\n",
    "\\end{equation}\n",
    "\n",
    "In other words, the matrix $A$ can be written as:\n",
    "\n",
    "\\begin{equation}\n",
    "  A = \\left(\\sum_{i=1}^n \\left(A v_i\\right) v_i^* \\right).\n",
    "\\end{equation}\n",
    "\n",
    "Note that $\\left(A v_i\\right) $ is a column vector,\n",
    "$ v_i^* $ is a row vector,\n",
    "and $\\left(A v_i\\right) v_i^* $ is a matrix.\n",
    "$\\left(A v_i\\right) v_i^* $ happens to be a rank 1 matrix, but we won't discuss this in detail.\n",
    "But, this tells us that $A$ can be written as a sum of these rank 1 matrices.\n",
    "\n"
   ]
  },
  {
   "cell_type": "code",
   "execution_count": null,
   "metadata": {},
   "outputs": [],
   "source": []
  },
  {
   "cell_type": "code",
   "execution_count": 36,
   "metadata": {},
   "outputs": [],
   "source": [
    "np.random.seed(1234)\n",
    "A = np.random.randn(3,3)"
   ]
  },
  {
   "cell_type": "markdown",
   "metadata": {},
   "source": [
    "#### One perspective: What does the the matrix do to each basis vector:\n",
    "\n",
    "\\begin{equation}\n",
    "  A v = \\sum_{i=1}^n a_i \\left(A v_i\\right) = \\sum_{i=1}^n <v,v_i> \\left(A v_i\\right) \n",
    "\\end{equation}\n"
   ]
  },
  {
   "cell_type": "code",
   "execution_count": 37,
   "metadata": {},
   "outputs": [
    {
     "name": "stdout",
     "output_type": "stream",
     "text": [
      "v   =  [ 2.4  3.1 -7.1]\n",
      "[[ 0.70710678  0.70710678  0.        ]\n",
      " [ 0.70710678 -0.70710678  0.        ]\n",
      " [ 0.          0.          1.        ]]\n"
     ]
    }
   ],
   "source": [
    "v=np.array([2.4,3.1,-7.1])\n",
    "tmpB = B4 # one of our orthonormal bases\n",
    "print(\"v   = \",v)\n",
    "print(tmpB)"
   ]
  },
  {
   "cell_type": "code",
   "execution_count": 38,
   "metadata": {},
   "outputs": [
    {
     "name": "stdout",
     "output_type": "stream",
     "text": [
      "Av =  [-12.73279974  -9.2830465   -0.02165491]\n",
      "diff =  [1.77635684e-15 0.00000000e+00 4.44089210e-16]\n",
      "relative error=  1.1620014307080153e-16\n"
     ]
    }
   ],
   "source": [
    "a0 = tmpB[:,0].T @ v\n",
    "a1 = tmpB[:,1].T @ v\n",
    "a2 = tmpB[:,2].T @ v\n",
    "\n",
    "testAv = a0 * A @ tmpB[:,0] + a1 * A @ tmpB[:,1] + a2 * A @ tmpB[:,2]\n",
    "\n",
    "print(\"Av = \",testAv )\n",
    "print(\"diff = \", testAv - A@v)\n",
    "print(\"relative error= \", np.linalg.norm(testAv - A@v)/np.linalg.norm(A@v) )"
   ]
  },
  {
   "cell_type": "markdown",
   "metadata": {},
   "source": [
    "#### Another perspective: the matrix as a sum of rank 1 matrices\n",
    "\n",
    "\\begin{equation}\n",
    "  A = \\left(\\sum_{i=1}^n \\left(A v_i\\right) v_i^* \\right).\n",
    "\\end{equation}\n",
    "\n"
   ]
  },
  {
   "cell_type": "code",
   "execution_count": 39,
   "metadata": {},
   "outputs": [],
   "source": [
    "# How do we do this?"
   ]
  },
  {
   "cell_type": "code",
   "execution_count": 40,
   "metadata": {},
   "outputs": [
    {
     "data": {
      "text/plain": [
       "array([[-0.35977027, -0.35977027,  0.        ],\n",
       "       [-0.51662031, -0.51662031,  0.        ],\n",
       "       [ 0.11153245,  0.11153245,  0.        ]])"
      ]
     },
     "execution_count": 40,
     "metadata": {},
     "output_type": "execute_result"
    }
   ],
   "source": [
    "(A@tmpB[:,0]).reshape(-1,1) @ (tmpB[:,0].reshape(-1,1).T)"
   ]
  },
  {
   "cell_type": "code",
   "execution_count": 41,
   "metadata": {},
   "outputs": [
    {
     "data": {
      "text/plain": [
       "array([[-0.35977027, -0.35977027, -0.        ],\n",
       "       [-0.51662031, -0.51662031, -0.        ],\n",
       "       [ 0.11153245,  0.11153245,  0.        ]])"
      ]
     },
     "execution_count": 41,
     "metadata": {},
     "output_type": "execute_result"
    }
   ],
   "source": [
    "np.outer(A@tmpB[:,0] , tmpB[:,0].T)"
   ]
  },
  {
   "cell_type": "code",
   "execution_count": 42,
   "metadata": {},
   "outputs": [
    {
     "data": {
      "text/plain": [
       "array([[ 0.00000000e+00,  2.22044605e-16,  0.00000000e+00],\n",
       "       [ 0.00000000e+00,  0.00000000e+00,  0.00000000e+00],\n",
       "       [-1.11022302e-16,  1.11022302e-16,  0.00000000e+00]])"
      ]
     },
     "execution_count": 42,
     "metadata": {},
     "output_type": "execute_result"
    }
   ],
   "source": [
    "np.outer(A@tmpB[:,0] , tmpB[:,0].T)+np.outer(A@tmpB[:,1] , tmpB[:,1].T)+np.outer(A@tmpB[:,2] , tmpB[:,2].T) - A"
   ]
  },
  {
   "cell_type": "code",
   "execution_count": null,
   "metadata": {},
   "outputs": [],
   "source": []
  },
  {
   "cell_type": "code",
   "execution_count": null,
   "metadata": {},
   "outputs": [],
   "source": []
  },
  {
   "cell_type": "code",
   "execution_count": null,
   "metadata": {},
   "outputs": [],
   "source": []
  },
  {
   "cell_type": "code",
   "execution_count": null,
   "metadata": {},
   "outputs": [],
   "source": []
  },
  {
   "cell_type": "markdown",
   "metadata": {},
   "source": [
    "### What does a matrix do to data? We'll try to interpret this as we go..."
   ]
  },
  {
   "cell_type": "code",
   "execution_count": 43,
   "metadata": {},
   "outputs": [
    {
     "data": {
      "image/png": "[encoded data removed]",
      "text/plain": [
       "<Figure size 432x288 with 1 Axes>"
      ]
     },
     "metadata": {},
     "output_type": "display_data"
    }
   ],
   "source": [
    "# remember these points?\n",
    "myPlot2D( data )\n",
    "plt.show()"
   ]
  },
  {
   "cell_type": "markdown",
   "metadata": {},
   "source": [
    "#### Arbitrary matrix"
   ]
  },
  {
   "cell_type": "code",
   "execution_count": 44,
   "metadata": {},
   "outputs": [
    {
     "name": "stdout",
     "output_type": "stream",
     "text": [
      "[[-1.0856306   0.99734545]\n",
      " [ 0.2829785  -1.50629471]]\n"
     ]
    },
    {
     "data": {
      "image/png": "[encoded data removed]",
      "text/plain": [
       "<Figure size 432x288 with 1 Axes>"
      ]
     },
     "metadata": {},
     "output_type": "display_data"
    },
    {
     "data": {
      "image/png": "[encoded data removed]",
      "text/plain": [
       "<Figure size 432x288 with 1 Axes>"
      ]
     },
     "metadata": {},
     "output_type": "display_data"
    }
   ],
   "source": [
    "np.random.seed(123)\n",
    "A = np.random.randn(2,2)\n",
    "print(A)\n",
    "myPlot2D( A@data)\n",
    "plt.show()\n",
    "\n",
    "myPlot2D( A@dataB)\n",
    "plt.show()"
   ]
  },
  {
   "cell_type": "markdown",
   "metadata": {},
   "source": [
    "### Diagonal matrix"
   ]
  },
  {
   "cell_type": "code",
   "execution_count": 45,
   "metadata": {},
   "outputs": [
    {
     "name": "stdout",
     "output_type": "stream",
     "text": [
      "[[3 0]\n",
      " [0 1]]\n"
     ]
    },
    {
     "data": {
      "image/png": "[encoded data removed]",
      "text/plain": [
       "<Figure size 432x288 with 1 Axes>"
      ]
     },
     "metadata": {},
     "output_type": "display_data"
    },
    {
     "data": {
      "image/png": "[encoded data removed]",
      "text/plain": [
       "<Figure size 432x288 with 1 Axes>"
      ]
     },
     "metadata": {},
     "output_type": "display_data"
    }
   ],
   "source": [
    "Adiag = np.array([[3,0],[0,1]])\n",
    "print(Adiag)\n",
    "myPlot2D( Adiag@data)\n",
    "plt.show()\n",
    "myPlot2D( Adiag@dataB)\n",
    "plt.show()"
   ]
  },
  {
   "cell_type": "code",
   "execution_count": 46,
   "metadata": {},
   "outputs": [
    {
     "name": "stdout",
     "output_type": "stream",
     "text": [
      "[[ 1  0]\n",
      " [ 0 -1]]\n"
     ]
    },
    {
     "data": {
      "image/png": "[encoded data removed]",
      "text/plain": [
       "<Figure size 432x288 with 1 Axes>"
      ]
     },
     "metadata": {},
     "output_type": "display_data"
    },
    {
     "data": {
      "image/png": "[encoded data removed]",
      "text/plain": [
       "<Figure size 432x288 with 1 Axes>"
      ]
     },
     "metadata": {},
     "output_type": "display_data"
    }
   ],
   "source": [
    "Adiag2 = np.array([[1,0],[0,-1]])\n",
    "print(Adiag2)\n",
    "myPlot2D( Adiag2@data)\n",
    "plt.show()\n",
    "myPlot2D( Adiag2@dataB)\n",
    "plt.show()"
   ]
  },
  {
   "cell_type": "markdown",
   "metadata": {},
   "source": [
    "#### What does a unitary matrix do?"
   ]
  },
  {
   "cell_type": "code",
   "execution_count": 47,
   "metadata": {},
   "outputs": [
    {
     "name": "stdout",
     "output_type": "stream",
     "text": [
      "[[ 1.00000000e+00 -1.26599665e-17]\n",
      " [-1.26599665e-17  1.00000000e+00]]\n",
      "[[ 0.80901699  0.58778525]\n",
      " [-0.58778525  0.80901699]]\n"
     ]
    },
    {
     "data": {
      "image/png": "[encoded data removed]",
      "text/plain": [
       "<Figure size 432x288 with 1 Axes>"
      ]
     },
     "metadata": {},
     "output_type": "display_data"
    },
    {
     "data": {
      "image/png": "[encoded data removed]",
      "text/plain": [
       "<Figure size 432x288 with 1 Axes>"
      ]
     },
     "metadata": {},
     "output_type": "display_data"
    }
   ],
   "source": [
    "tt=math.pi * 0.2\n",
    "Aunitary = np.array([[math.cos(tt),math.sin(tt)],[-math.sin(tt),math.cos(tt)]])\n",
    "print(Aunitary@Aunitary.T) # check that it's unitray\n",
    "print(Aunitary)\n",
    "myPlot2D( Aunitary@data)\n",
    "plt.show()\n",
    "myPlot2D( Aunitary@dataB)\n",
    "plt.show()"
   ]
  },
  {
   "cell_type": "code",
   "execution_count": null,
   "metadata": {},
   "outputs": [],
   "source": []
  },
  {
   "cell_type": "markdown",
   "metadata": {},
   "source": [
    "#### rotate and stretch"
   ]
  },
  {
   "cell_type": "code",
   "execution_count": 48,
   "metadata": {},
   "outputs": [
    {
     "name": "stdout",
     "output_type": "stream",
     "text": [
      "[[ 2.42705098  1.76335576]\n",
      " [-0.58778525  0.80901699]]\n"
     ]
    },
    {
     "data": {
      "image/png": "[encoded data removed]",
      "text/plain": [
       "<Figure size 432x288 with 1 Axes>"
      ]
     },
     "metadata": {},
     "output_type": "display_data"
    },
    {
     "data": {
      "image/png": "[encoded data removed]",
      "text/plain": [
       "<Figure size 432x288 with 1 Axes>"
      ]
     },
     "metadata": {},
     "output_type": "display_data"
    }
   ],
   "source": [
    "A =Adiag @ Aunitary \n",
    "print(A)\n",
    "myPlot2D( A@data)\n",
    "plt.show()\n",
    "myPlot2D( A@dataB)\n",
    "plt.show()"
   ]
  },
  {
   "cell_type": "markdown",
   "metadata": {},
   "source": [
    "#### stretch and rotate"
   ]
  },
  {
   "cell_type": "code",
   "execution_count": 49,
   "metadata": {},
   "outputs": [
    {
     "name": "stdout",
     "output_type": "stream",
     "text": [
      "[[ 2.42705098  0.58778525]\n",
      " [-1.76335576  0.80901699]]\n"
     ]
    },
    {
     "data": {
      "image/png": "[encoded data removed]",
      "text/plain": [
       "<Figure size 432x288 with 1 Axes>"
      ]
     },
     "metadata": {},
     "output_type": "display_data"
    },
    {
     "data": {
      "image/png": "[encoded data removed]",
      "text/plain": [
       "<Figure size 432x288 with 1 Axes>"
      ]
     },
     "metadata": {},
     "output_type": "display_data"
    }
   ],
   "source": [
    "A = Aunitary @ Adiag\n",
    "print(A)\n",
    "myPlot2D( A@data)\n",
    "plt.show()\n",
    "myPlot2D( A@dataB)\n",
    "plt.show()"
   ]
  },
  {
   "cell_type": "markdown",
   "metadata": {},
   "source": [
    "#### rotate, stretch and rotate BACK"
   ]
  },
  {
   "cell_type": "code",
   "execution_count": 50,
   "metadata": {},
   "outputs": [
    {
     "name": "stdout",
     "output_type": "stream",
     "text": [
      "[[ 2.30901699 -0.95105652]\n",
      " [-0.95105652  1.69098301]]\n"
     ]
    },
    {
     "data": {
      "image/png": "[encoded data removed]",
      "text/plain": [
       "<Figure size 432x288 with 1 Axes>"
      ]
     },
     "metadata": {},
     "output_type": "display_data"
    },
    {
     "data": {
      "image/png": "[encoded data removed]",
      "text/plain": [
       "<Figure size 432x288 with 1 Axes>"
      ]
     },
     "metadata": {},
     "output_type": "display_data"
    }
   ],
   "source": [
    "A = Aunitary @ Adiag @ la.inv(Aunitary)\n",
    "print(A)\n",
    "myPlot2D( A@data)\n",
    "plt.show()\n",
    "myPlot2D( A@dataB)\n",
    "plt.show()"
   ]
  },
  {
   "cell_type": "code",
   "execution_count": 51,
   "metadata": {},
   "outputs": [
    {
     "name": "stdout",
     "output_type": "stream",
     "text": [
      "[[2.30901699 0.95105652]\n",
      " [0.95105652 1.69098301]]\n"
     ]
    },
    {
     "data": {
      "image/png": "[encoded data removed]",
      "text/plain": [
       "<Figure size 432x288 with 1 Axes>"
      ]
     },
     "metadata": {},
     "output_type": "display_data"
    },
    {
     "data": {
      "image/png": "[encoded data removed]",
      "text/plain": [
       "<Figure size 432x288 with 1 Axes>"
      ]
     },
     "metadata": {},
     "output_type": "display_data"
    }
   ],
   "source": [
    "# or this, which isn't the same\n",
    "A = la.inv(Aunitary) @ Adiag @ Aunitary\n",
    "print(A)\n",
    "myPlot2D( A@data)\n",
    "plt.show()\n",
    "myPlot2D( A@dataB)\n",
    "plt.show()"
   ]
  },
  {
   "cell_type": "code",
   "execution_count": null,
   "metadata": {},
   "outputs": [],
   "source": []
  },
  {
   "cell_type": "code",
   "execution_count": null,
   "metadata": {},
   "outputs": [],
   "source": []
  },
  {
   "cell_type": "code",
   "execution_count": 52,
   "metadata": {},
   "outputs": [
    {
     "data": {
      "image/png": "[encoded data removed]",
      "text/plain": [
       "<Figure size 432x288 with 1 Axes>"
      ]
     },
     "metadata": {},
     "output_type": "display_data"
    }
   ],
   "source": [
    "# remember these points?\n",
    "myPlot3D( data3D, elev = 70, azim=-100)\n",
    "plt.show()"
   ]
  },
  {
   "cell_type": "code",
   "execution_count": 53,
   "metadata": {},
   "outputs": [
    {
     "name": "stdout",
     "output_type": "stream",
     "text": [
      "[[3 0 0]\n",
      " [0 1 0]\n",
      " [0 0 1]]\n"
     ]
    },
    {
     "data": {
      "image/png": "[encoded data removed]",
      "text/plain": [
       "<Figure size 432x288 with 1 Axes>"
      ]
     },
     "metadata": {},
     "output_type": "display_data"
    },
    {
     "data": {
      "image/png": "[encoded data removed]",
      "text/plain": [
       "<Figure size 432x288 with 1 Axes>"
      ]
     },
     "metadata": {},
     "output_type": "display_data"
    }
   ],
   "source": [
    "A = np.array([[3,0,0],[0,1,0],[0,0,1]])\n",
    "print(A)\n",
    "myPlot3D( A@data3D, elev = 70, azim=-100)\n",
    "plt.show()\n",
    "\n",
    "myPlot3D( A@data3D, elev = 30, azim=-90)\n",
    "plt.show()"
   ]
  },
  {
   "cell_type": "code",
   "execution_count": 54,
   "metadata": {},
   "outputs": [
    {
     "data": {
      "image/png": "[encoded data removed]",
      "text/plain": [
       "<Figure size 432x288 with 1 Axes>"
      ]
     },
     "metadata": {},
     "output_type": "display_data"
    },
    {
     "data": {
      "image/png": "[encoded data removed]",
      "text/plain": [
       "<Figure size 432x288 with 1 Axes>"
      ]
     },
     "metadata": {},
     "output_type": "display_data"
    }
   ],
   "source": [
    "np.random.seed(123)\n",
    "A = np.random.rand(3,3)\n",
    "myPlot3D( A@data3D, elev = 70, azim=-110)\n",
    "plt.show()\n",
    "myPlot3D( A@data3D, elev = 40, azim=-90)\n",
    "plt.show()"
   ]
  },
  {
   "cell_type": "code",
   "execution_count": null,
   "metadata": {},
   "outputs": [],
   "source": []
  },
  {
   "cell_type": "code",
   "execution_count": null,
   "metadata": {},
   "outputs": [],
   "source": []
  },
  {
   "cell_type": "code",
   "execution_count": null,
   "metadata": {},
   "outputs": [],
   "source": []
  },
  {
   "cell_type": "code",
   "execution_count": null,
   "metadata": {},
   "outputs": [],
   "source": []
  },
  {
   "cell_type": "markdown",
   "metadata": {},
   "source": [
    "### What is the value of a matrix element?\n",
    "\n",
    "Suppose we have a linear operator, and we want to know the value of the matrix element. How do we write this in linear algebra notation?\n",
    "\n",
    "Recall our \"natural\" basis $B_1$: "
   ]
  },
  {
   "cell_type": "code",
   "execution_count": 55,
   "metadata": {},
   "outputs": [
    {
     "name": "stdout",
     "output_type": "stream",
     "text": [
      "[[1. 0. 0.]\n",
      " [0. 1. 0.]\n",
      " [0. 0. 1.]]\n"
     ]
    }
   ],
   "source": [
    "tmpB=B1\n",
    "print(tmpB)"
   ]
  },
  {
   "cell_type": "markdown",
   "metadata": {},
   "source": [
    "The matrix element $i,j$ relates the $j$ element of the input to the $i$ element of the output. \n",
    "\n",
    "\\begin{equation}\n",
    "Av[i] = \\sum_j A[i,j] v[j]\n",
    "\\end{equation}\n",
    "\n",
    "To see this, let's take a vector that be all zeros, except for $1$ in the $j$-th position:"
   ]
  },
  {
   "cell_type": "code",
   "execution_count": 56,
   "metadata": {},
   "outputs": [
    {
     "name": "stdout",
     "output_type": "stream",
     "text": [
      "vector e_j:  [0. 0. 1.]\n",
      "A e_j: [0.22685145 0.42310646 0.4809319 ]\n",
      "A : [[0.69646919 0.28613933 0.22685145]\n",
      " [0.55131477 0.71946897 0.42310646]\n",
      " [0.9807642  0.68482974 0.4809319 ]]\n"
     ]
    }
   ],
   "source": [
    "i=1\n",
    "j=2\n",
    "print(\"vector e_j: \", tmpB[:,j]) \n",
    "print(\"A e_j:\", A@tmpB[:,j])\n",
    "print(\"A :\", A)"
   ]
  },
  {
   "cell_type": "markdown",
   "metadata": {},
   "source": [
    "Therefore, the $i,j$ element is:\n",
    "\n",
    "\\begin{equation}\n",
    "A[i,j] = e_i^\\intercal A e_j\n",
    "\\end{equation}\n"
   ]
  },
  {
   "cell_type": "code",
   "execution_count": 57,
   "metadata": {},
   "outputs": [
    {
     "name": "stdout",
     "output_type": "stream",
     "text": [
      "vector e_j:  [0. 0. 1.]\n",
      "vector e_i:  [0. 1. 0.]\n",
      "e_i^T A e_j: 0.42310646012446096\n",
      "A[i,j] : 0.42310646012446096\n"
     ]
    }
   ],
   "source": [
    "print(\"vector e_j: \", tmpB[:,j]) \n",
    "print(\"vector e_i: \", tmpB[:,i]) \n",
    "print(\"e_i^T A e_j:\", tmpB[:,i].T @ A @tmpB[:,j]) # Does it matter that I took a transpose?\n",
    "print(\"A[i,j] :\", A[i,j])"
   ]
  },
  {
   "cell_type": "code",
   "execution_count": null,
   "metadata": {},
   "outputs": [],
   "source": []
  },
  {
   "cell_type": "code",
   "execution_count": null,
   "metadata": {},
   "outputs": [],
   "source": []
  },
  {
   "cell_type": "code",
   "execution_count": null,
   "metadata": {},
   "outputs": [],
   "source": []
  },
  {
   "cell_type": "code",
   "execution_count": null,
   "metadata": {},
   "outputs": [],
   "source": []
  },
  {
   "cell_type": "code",
   "execution_count": null,
   "metadata": {},
   "outputs": [],
   "source": []
  },
  {
   "cell_type": "code",
   "execution_count": null,
   "metadata": {},
   "outputs": [],
   "source": []
  },
  {
   "cell_type": "markdown",
   "metadata": {},
   "source": [
    "# Eigen decomposition\n",
    "\n",
    "A vector $v$ is called an eigenvector of the square matrix $A$ with eigenvalue $\\lambda$ is\n",
    "\n",
    "\\begin{equation}\n",
    "Av = \\lambda v\n",
    "\\end{equation}\n"
   ]
  },
  {
   "cell_type": "code",
   "execution_count": 58,
   "metadata": {},
   "outputs": [
    {
     "name": "stdout",
     "output_type": "stream",
     "text": [
      "A= [[ 2  0  0]\n",
      " [ 0  1  0]\n",
      " [ 0  0 -1]]\n",
      "v= [1 0 0]\n",
      "Av= [2 0 0]\n",
      "2 v= [2 0 0]\n"
     ]
    }
   ],
   "source": [
    "# \"easy\" eigenvector:\n",
    "A = np.array([[2,0,0],[0,1,0],[0,0,-1]])\n",
    "v = np.array([1,0,0])\n",
    "print(\"A=\",A)\n",
    "print(\"v=\",v)\n",
    "print(\"Av=\",A@v)\n",
    "print(\"2 v=\",2 * v)\n"
   ]
  },
  {
   "cell_type": "code",
   "execution_count": null,
   "metadata": {},
   "outputs": [],
   "source": []
  },
  {
   "cell_type": "code",
   "execution_count": 59,
   "metadata": {},
   "outputs": [
    {
     "name": "stdout",
     "output_type": "stream",
     "text": [
      "[[-1.0856306   0.99734545  0.2829785 ]\n",
      " [-1.50629471 -0.57860025  1.65143654]\n",
      " [-2.42667924 -0.42891263  1.26593626]]\n"
     ]
    }
   ],
   "source": [
    "# something more interesting:\n",
    "np.random.seed(123)\n",
    "A = np.random.randn(3,3)\n",
    "print(A)"
   ]
  },
  {
   "cell_type": "code",
   "execution_count": 60,
   "metadata": {},
   "outputs": [
    {
     "name": "stdout",
     "output_type": "stream",
     "text": [
      "[ 0.33539593+1.42242617j  0.33539593-1.42242617j -1.06908645+0.j        ]\n"
     ]
    }
   ],
   "source": [
    "DD, BB = la.eig(A)\n",
    "# eigenvalues and eigenvectors can be complex!\n",
    "print(DD)"
   ]
  },
  {
   "cell_type": "code",
   "execution_count": 61,
   "metadata": {},
   "outputs": [
    {
     "name": "stdout",
     "output_type": "stream",
     "text": [
      "[0.56128137+0.11765871j 0.56651061+0.69077638j 0.23050555+0.97758233j]\n",
      "[-1.11022302e-16-5.96744876e-16j -2.22044605e-16-6.66133815e-16j\n",
      " -2.49800181e-16-3.33066907e-16j]\n",
      "norm of difference: 1.0172522593335745e-15\n"
     ]
    }
   ],
   "source": [
    "print (A @ BB[:,0] )\n",
    "print (A @ BB[:,0] - DD[0]*BB[:,0])\n",
    "print (\"norm of difference:\", la.norm(A @ BB[:,0] - DD[0]*BB[:,0]))"
   ]
  },
  {
   "cell_type": "code",
   "execution_count": 62,
   "metadata": {},
   "outputs": [
    {
     "name": "stdout",
     "output_type": "stream",
     "text": [
      "[[0.79544734+0.00000000e+00j 0.24492935-9.53202200e-18j\n",
      "  0.71178872+1.16728646e-17j]\n",
      " [0.24492935+9.53202200e-18j 0.78146806+0.00000000e+00j\n",
      "  0.62690735-5.78256522e-18j]\n",
      " [0.71178872-1.16728646e-17j 0.62690735+5.78256522e-18j\n",
      "  1.4230846 +0.00000000e+00j]]\n",
      "[[ 0.29039641-4.75140242e-18j -0.13715078-1.58545045e-17j\n",
      "   0.71178872+1.16728646e-17j]\n",
      " [-0.13715078-1.58545045e-17j  0.49241757+7.00958681e-18j\n",
      "   0.62690735-5.78256522e-18j]\n",
      " [ 0.71178872+1.16728646e-17j  0.62690735-5.78256522e-18j\n",
      "   1.4230846 +0.00000000e+00j]]\n"
     ]
    }
   ],
   "source": [
    "# eigenvectors do not necessarily form an orthonormal basis\n",
    "print( BB @ np.matrix(BB).H) # H is conjugate transpose. It's implemented only for matrices in numpy.\n",
    "\n",
    "print( BB @ BB.T)"
   ]
  },
  {
   "cell_type": "markdown",
   "metadata": {},
   "source": [
    "Eigen decomposition:\n",
    "\n",
    "\\begin{equation}\n",
    "A = Q D Q^{-1}\n",
    "\\end{equation}\n",
    "\n",
    "Where $Q$ is a matrix of eigenvectors, and $D$ is diagonal\n"
   ]
  },
  {
   "cell_type": "code",
   "execution_count": 63,
   "metadata": {},
   "outputs": [
    {
     "name": "stdout",
     "output_type": "stream",
     "text": [
      "[[-1.77635684e-15+3.13003099e-17j -4.44089210e-16-4.25071560e-17j\n",
      "   7.77156117e-16-7.09478239e-17j]\n",
      " [-2.44249065e-15-1.76782788e-16j -3.33066907e-16-2.80185839e-16j\n",
      "   1.33226763e-15+6.11318075e-17j]\n",
      " [-1.33226763e-15-1.30584019e-16j -4.99600361e-16-3.13837503e-16j\n",
      "   8.88178420e-16+3.06121660e-17j]]\n"
     ]
    }
   ],
   "source": [
    "print( BB @ np.diag(DD) @ la.inv(BB) - A)"
   ]
  },
  {
   "cell_type": "code",
   "execution_count": null,
   "metadata": {},
   "outputs": [],
   "source": []
  },
  {
   "cell_type": "markdown",
   "metadata": {},
   "source": [
    "#### Some matrices do not have an eigenvalue decomposition..."
   ]
  },
  {
   "cell_type": "code",
   "execution_count": 64,
   "metadata": {},
   "outputs": [
    {
     "name": "stdout",
     "output_type": "stream",
     "text": [
      "[[ 0. -1.]\n",
      " [ 0.  0.]]\n"
     ]
    }
   ],
   "source": [
    "A = np.array([[1,1],[0,1]])\n",
    "DD, BB = la.eig(A)\n",
    "print( BB @ np.diag(DD) @ la.inv(BB) - A)  # that didn't really work...."
   ]
  },
  {
   "cell_type": "code",
   "execution_count": 65,
   "metadata": {},
   "outputs": [],
   "source": [
    "#A = np.array([[1,1],[0,1]])+0.0001*np.random.randn(2,2)\n",
    "#DD, BB = la.eig(A)\n",
    "#print( BB @ np.diag(DD) @ la.inv(BB) - A)  # that didn't really work...."
   ]
  },
  {
   "cell_type": "code",
   "execution_count": 66,
   "metadata": {},
   "outputs": [
    {
     "name": "stdout",
     "output_type": "stream",
     "text": [
      "[[ 1.00000000e+00 -1.00000000e+00]\n",
      " [ 0.00000000e+00  2.22044605e-16]]\n",
      "[[1.00000000e+00 4.50359963e+15]\n",
      " [0.00000000e+00 4.50359963e+15]]\n"
     ]
    }
   ],
   "source": [
    "# why?\n",
    "print(BB)\n",
    "print(la.inv(BB))"
   ]
  },
  {
   "cell_type": "code",
   "execution_count": null,
   "metadata": {},
   "outputs": [],
   "source": []
  },
  {
   "cell_type": "markdown",
   "metadata": {},
   "source": [
    "### Eigendecomposition of symmetric matrics"
   ]
  },
  {
   "cell_type": "code",
   "execution_count": 67,
   "metadata": {},
   "outputs": [
    {
     "name": "stdout",
     "output_type": "stream",
     "text": [
      "[[-1.0856306  -0.25447463 -1.07185037]\n",
      " [-0.25447463 -0.57860025  0.61126195]\n",
      " [-1.07185037  0.61126195  1.26593626]]\n"
     ]
    }
   ],
   "source": [
    "np.random.seed(123)\n",
    "A = np.random.randn(3,3)\n",
    "A = (A+A.T)/2\n",
    "print(A)"
   ]
  },
  {
   "cell_type": "code",
   "execution_count": 68,
   "metadata": {},
   "outputs": [
    {
     "name": "stdout",
     "output_type": "stream",
     "text": [
      "[ 1.86077998 -1.50120854 -0.75786603]\n"
     ]
    }
   ],
   "source": [
    "# eigenvalues are real numbers. The can be negative.\n",
    "DD, BB = la.eig(A)\n",
    "print(DD)"
   ]
  },
  {
   "cell_type": "code",
   "execution_count": 69,
   "metadata": {},
   "outputs": [
    {
     "name": "stdout",
     "output_type": "stream",
     "text": [
      "[[ 1.00000000e+00  0.00000000e+00 -3.43475248e-16]\n",
      " [ 0.00000000e+00  1.00000000e+00  2.77555756e-17]\n",
      " [-3.43475248e-16  2.77555756e-17  1.00000000e+00]]\n",
      "[[ 1.00000000e+00  0.00000000e+00 -3.43475248e-16]\n",
      " [ 0.00000000e+00  1.00000000e+00  2.77555756e-17]\n",
      " [-3.43475248e-16  2.77555756e-17  1.00000000e+00]]\n"
     ]
    }
   ],
   "source": [
    "# eigenvectors form an orthonormal basis\n",
    "print( BB @ np.matrix(BB).H) # H is conjugate transpose. It's implemented only for matrices in numpy.\n",
    "\n",
    "print( BB @ BB.T) # even this worked..."
   ]
  },
  {
   "cell_type": "code",
   "execution_count": null,
   "metadata": {},
   "outputs": [],
   "source": []
  },
  {
   "cell_type": "markdown",
   "metadata": {},
   "source": [
    "### Eigendecomposition, rotating and stretching (symmetric matrices)\n",
    "\n",
    "Haven't we seen this expression before?\n",
    "\n",
    "\\begin{equation}\n",
    "A = Q D Q^{-1}\n",
    "\\end{equation}\n",
    "\n",
    "We had the something very similar when we were investigating unitary matrices. \n",
    "\n",
    "\\begin{equation}\n",
    "A = U D U^{-1} = U D U^*\n",
    "\\end{equation}"
   ]
  },
  {
   "cell_type": "code",
   "execution_count": 70,
   "metadata": {},
   "outputs": [
    {
     "name": "stdout",
     "output_type": "stream",
     "text": [
      "[[ 2.30901699 -0.95105652]\n",
      " [-0.95105652  1.69098301]]\n"
     ]
    },
    {
     "data": {
      "image/png": "[encoded data removed]",
      "text/plain": [
       "<Figure size 432x288 with 1 Axes>"
      ]
     },
     "metadata": {},
     "output_type": "display_data"
    }
   ],
   "source": [
    "A = Aunitary @ Adiag @ la.inv(Aunitary)\n",
    "print(A)\n",
    "myPlot2D( A@data)\n",
    "plt.show()"
   ]
  },
  {
   "cell_type": "code",
   "execution_count": 71,
   "metadata": {},
   "outputs": [
    {
     "name": "stdout",
     "output_type": "stream",
     "text": [
      "[[0. 0.]\n",
      " [0. 0.]]\n"
     ]
    }
   ],
   "source": [
    "# is A symmetric?\n",
    "print(A-A.T)"
   ]
  },
  {
   "cell_type": "code",
   "execution_count": 72,
   "metadata": {},
   "outputs": [],
   "source": [
    "DD, BB = la.eig(A)"
   ]
  },
  {
   "cell_type": "code",
   "execution_count": 73,
   "metadata": {},
   "outputs": [
    {
     "name": "stdout",
     "output_type": "stream",
     "text": [
      "[[3 0]\n",
      " [0 1]]\n",
      "[3. 1.]\n"
     ]
    }
   ],
   "source": [
    "# what are the eigenvalues?\n",
    "# they are the stretching factors!\n",
    "print(Adiag)\n",
    "print(DD)\n"
   ]
  },
  {
   "cell_type": "code",
   "execution_count": 74,
   "metadata": {},
   "outputs": [
    {
     "name": "stdout",
     "output_type": "stream",
     "text": [
      "[[ 0.80901699  0.58778525]\n",
      " [-0.58778525  0.80901699]]\n",
      "[[ 0.80901699  0.58778525]\n",
      " [-0.58778525  0.80901699]]\n"
     ]
    }
   ],
   "source": [
    "# What is the unitary matrix?\n",
    "print(Aunitary)\n",
    "print(BB)"
   ]
  },
  {
   "cell_type": "code",
   "execution_count": null,
   "metadata": {},
   "outputs": [],
   "source": []
  },
  {
   "cell_type": "markdown",
   "metadata": {},
   "source": [
    "#### comment: the orders and signs can change"
   ]
  },
  {
   "cell_type": "code",
   "execution_count": 75,
   "metadata": {},
   "outputs": [
    {
     "name": "stdout",
     "output_type": "stream",
     "text": [
      "[ 3. -1.]\n"
     ]
    }
   ],
   "source": [
    "A = Aunitary.T @ np.diag([3,-1]) @ Aunitary\n",
    "DD, BB = la.eig(A)\n",
    "print(DD) # didn't change on my computer, but can change"
   ]
  },
  {
   "cell_type": "code",
   "execution_count": 76,
   "metadata": {},
   "outputs": [
    {
     "name": "stdout",
     "output_type": "stream",
     "text": [
      "[[ 0.80901699  0.58778525]\n",
      " [-0.58778525  0.80901699]]\n",
      "[[ 0.80901699 -0.58778525]\n",
      " [ 0.58778525  0.80901699]]\n"
     ]
    }
   ],
   "source": [
    "# What is the unitary matrix?\n",
    "print(Aunitary)\n",
    "print(BB)"
   ]
  },
  {
   "cell_type": "code",
   "execution_count": null,
   "metadata": {},
   "outputs": [],
   "source": []
  },
  {
   "cell_type": "markdown",
   "metadata": {},
   "source": [
    "## In other words, a symmetric matrix is simply: rotate, stretch in rotated basis, rotate back"
   ]
  },
  {
   "cell_type": "code",
   "execution_count": null,
   "metadata": {},
   "outputs": [],
   "source": []
  },
  {
   "cell_type": "code",
   "execution_count": 77,
   "metadata": {},
   "outputs": [
    {
     "name": "stdout",
     "output_type": "stream",
     "text": [
      "[0.80901699+0.58778525j 0.80901699-0.58778525j]\n",
      "[1. 1.]\n"
     ]
    }
   ],
   "source": [
    "DD,BB = la.eig(Aunitary)\n",
    "print(DD)\n",
    "print(np.abs(DD))"
   ]
  },
  {
   "cell_type": "code",
   "execution_count": null,
   "metadata": {},
   "outputs": [],
   "source": []
  },
  {
   "cell_type": "code",
   "execution_count": null,
   "metadata": {},
   "outputs": [],
   "source": []
  },
  {
   "cell_type": "markdown",
   "metadata": {},
   "source": [
    "# Orthogonal Projection\n",
    "\n",
    "An *orthogonal projection* is a linear operator $P: \\mathcal{V} \\mapsto \\mathcal{V}$ such that\n",
    "\n",
    "\\begin{equation}\n",
    "  P= P^2 = P^\\intercal .\n",
    "\\end{equation}\n",
    "\n",
    "In other words, it is a square matrix such that for any vector $v \\in \\mathbb{R}^d$\n",
    "\n",
    "\\begin{equation}\n",
    "  P v= P P v = P^\\intercal v .\n",
    "\\end{equation}\n",
    "\n",
    "Fact: the vectors projected from a vector space $\\mathcal{V}$ by the orthogonal projection $P$ give us a vector space $\\mathcal{U} \\subseteq \\mathcal{V}$.\n",
    "\n",
    "and\n",
    "$dim(\\mathcal{U}) \\leq dim(\\mathcal{V})$. \n",
    "\n",
    "Fact: suppose $n = dim(\\mathcal{V})$ and $k= dim(\\mathcal{U})$. Then,\n",
    "- $k \\leq n$.\n",
    "- There exists some basis $B=\\{v_1,...,v_n\\}$ of $\\mathcal{V}$ such that\n",
    "  $\\tilde{B}=\\{v_1,...,v_{\\bf{k}}\\}$ is a basis of $\\mathcal{V}$.\n",
    "\n",
    "\n",
    "#### Remark: The term \"projection'' is commonly abused in many ways.\n",
    "Generally, when we say \"projection\" we will mean \"orthogonal projection.\"\n",
    "Later in the course we will abuse the term further. \n",
    "\n",
    "\n",
    "#### Examples of orthogonal projection matrices:\n",
    "\n",
    "\\begin{equation}\n",
    "{\\tilde{B}}= \n",
    " \\begin{bmatrix}\n",
    "1 & 0  \\\\\n",
    "0 & 0\n",
    "\\end{bmatrix} \n",
    " ,\n",
    " \\begin{bmatrix}\n",
    "1 & 0  \\\\\n",
    "0 & 0\n",
    "\\end{bmatrix} \n",
    " .\n",
    "\\end{equation}\n",
    "We will see more of these soon.\n",
    "\n",
    "\n",
    "#### Example of projection matrices (satisfies $P= P^2$)  that are not orthogonal projection matrices \n",
    "\n",
    "(does not satisfy satisfy $P= P^\\intercal$):\n",
    "\n",
    "\\begin{equation}\n",
    "{\\tilde{B}}= \n",
    " \\begin{bmatrix}\n",
    "1 & 1  \\\\\n",
    "0 & 0\n",
    "\\end{bmatrix} \n",
    " .\n",
    "\\end{equation}"
   ]
  },
  {
   "cell_type": "code",
   "execution_count": 78,
   "metadata": {},
   "outputs": [
    {
     "name": "stdout",
     "output_type": "stream",
     "text": [
      "P= [[1 1]\n",
      " [0 0]]\n",
      "P@P= [[1 1]\n",
      " [0 0]]\n"
     ]
    }
   ],
   "source": [
    "P = np.array([[1,1],[0,0]])\n",
    "print(\"P=\",P)\n",
    "print(\"P@P=\",P@P)"
   ]
  },
  {
   "cell_type": "code",
   "execution_count": null,
   "metadata": {},
   "outputs": [],
   "source": []
  },
  {
   "cell_type": "code",
   "execution_count": null,
   "metadata": {},
   "outputs": [],
   "source": []
  },
  {
   "cell_type": "code",
   "execution_count": null,
   "metadata": {},
   "outputs": [],
   "source": []
  },
  {
   "cell_type": "markdown",
   "metadata": {},
   "source": [
    "# Change of basis\n",
    "\n",
    "We can write a vector in different bases\n",
    "\n",
    "\\begin{equation}\n",
    "v = \\sum_i a_i v_i = \\sum_i b_i u_i\n",
    "\\end{equation}\n",
    "\n",
    "For simplicity, we assume orthonormal bases. \n",
    "\n",
    "## Swapping bases: \n",
    "\n",
    "Let's assume that we have two bases that are columns of unitary matrics.\n",
    "Writing in matrix notation:\n",
    "\n",
    "\\begin{equation}\n",
    "v = \\sum_i a_i v_i = V a \n",
    "\\end{equation}\n",
    "\n",
    "Adding the identity doesn't do anything, right?\n",
    "\n",
    "\\begin{equation}\n",
    "v = I V a \n",
    "\\end{equation}\n",
    "\n",
    "And we know that $U U^* = I$:\n",
    "\n",
    "\\begin{equation}\n",
    "v = U U^* V a = U U^* v\n",
    "\\end{equation}\n",
    "\n",
    "So, $U^* v$ gives us the expansion in the basis, and $U^* V$ translates between the expansion in $V$ to the expansion in $U$. \n"
   ]
  },
  {
   "cell_type": "code",
   "execution_count": 79,
   "metadata": {},
   "outputs": [
    {
     "name": "stdout",
     "output_type": "stream",
     "text": [
      "[[ 1.00000000e+00  2.00877382e-16 -2.29038596e-17]\n",
      " [ 2.00877382e-16  1.00000000e+00  1.65292374e-16]\n",
      " [-2.29038596e-17  1.65292374e-16  1.00000000e+00]]\n",
      "[[ 1.00000000e+00 -1.14313585e-16 -5.71327434e-17]\n",
      " [-1.14313585e-16  1.00000000e+00 -7.18404598e-17]\n",
      " [-5.71327434e-17 -7.18404598e-17  1.00000000e+00]]\n"
     ]
    }
   ],
   "source": [
    "# we will soon see why this produces unitary matrics\n",
    "np.random.seed(123)\n",
    "U,D,V = la.svd(np.random.randn(3,3))\n",
    "v = np.random.randn(3)\n",
    "# are these unitary matrices?\n",
    "print(U.T @ U)\n",
    "print(V.T @ V)"
   ]
  },
  {
   "cell_type": "code",
   "execution_count": 80,
   "metadata": {},
   "outputs": [
    {
     "name": "stdout",
     "output_type": "stream",
     "text": [
      "[-0.8667404  -0.67888615 -0.09470897]\n",
      "a= [-0.446168   -0.66243445  0.76368176]\n",
      "reconstruct from a= [-0.8667404  -0.67888615 -0.09470897]\n",
      "b= [ 0.70577429 -0.51037621  0.68006904]\n",
      "reconstruct from b= [-0.8667404  -0.67888615 -0.09470897]\n",
      "translate from a to b: [ 0.70577429 -0.51037621  0.68006904]\n"
     ]
    }
   ],
   "source": [
    "print(v)\n",
    "a = V.T @ v\n",
    "print(\"a=\",a)\n",
    "print(\"reconstruct from a=\",V@a)\n",
    "b = U.T @ v\n",
    "print(\"b=\",b)\n",
    "print(\"reconstruct from b=\",U@b)\n",
    "print(\"translate from a to b:\", U.T @ V @ a)"
   ]
  },
  {
   "cell_type": "code",
   "execution_count": null,
   "metadata": {},
   "outputs": [],
   "source": []
  },
  {
   "cell_type": "markdown",
   "metadata": {},
   "source": [
    "## Matrices elements in different bases (*)\n",
    "\n",
    "The same idea applies to matrices.\n",
    "\n",
    "Suppose again that we have bases that are the columns of unitary matrices\n",
    "\n",
    "\\begin{equation}\n",
    "v = \\sum_i a_i v_i = V a\n",
    "\\end{equation}\n",
    "\n",
    "Suppose that $w= A v$ and that $\\alpha$ is the expansion coefficients of $w$\n",
    "\n",
    "\\begin{equation}\n",
    "w= A v = \\sum_i \\alpha_i v_i = V \\alpha\n",
    "\\end{equation}\n",
    "\n",
    "Then,\n",
    "\n",
    "\\begin{equation}\n",
    "\\alpha = V^* w= V^* A v = V^* A V V^* v = V^* A V a\n",
    "\\end{equation}\n",
    "\n",
    "If we now call $B = V^* A V$, we have \n",
    "\n",
    "\\begin{equation}\n",
    "\\alpha = B a\n",
    "\\end{equation}\n",
    "\n",
    "In other words, the matrix $B = V^* A V$ is the the matrix A in a new basis.\n",
    "\n"
   ]
  },
  {
   "cell_type": "code",
   "execution_count": 81,
   "metadata": {},
   "outputs": [
    {
     "name": "stdout",
     "output_type": "stream",
     "text": [
      "[ 0.31788831 -0.74891871  1.79301943]\n",
      "[ 0.31788831 -0.74891871  1.79301943]\n"
     ]
    }
   ],
   "source": [
    "A = np.random.randn(3,3)\n",
    "w = A @ v\n",
    "a = V.T @ v\n",
    "alpha = V.T @ w\n",
    "B = V.T @ A @ V\n",
    "\n",
    "print( alpha )\n",
    "print( B @ a )"
   ]
  },
  {
   "cell_type": "markdown",
   "metadata": {},
   "source": [
    "#### The nice thing about this is that we can compute anything we want in any basis we want!\n",
    "\n",
    "In our example, we can get $w$ using operations in the V basis, and get $w$ back through the expression $w=V \\alpha$:"
   ]
  },
  {
   "cell_type": "code",
   "execution_count": 82,
   "metadata": {},
   "outputs": [
    {
     "name": "stdout",
     "output_type": "stream",
     "text": [
      "[-0.81685685 -1.32821384 -1.2022661 ]\n",
      "[-0.81685685 -1.32821384 -1.2022661 ]\n"
     ]
    }
   ],
   "source": [
    "a = V.T @ v\n",
    "alpha = B @ a\n",
    "testw = V @ alpha\n",
    "print( w )\n",
    "print( testw )"
   ]
  },
  {
   "cell_type": "markdown",
   "metadata": {},
   "source": [
    "#### Why bother?\n",
    "\n",
    "Recall the eigen decomposition of a *symmetric* matrix A. There exist $D$ diagonal $V$ unitary such that \n",
    "\n",
    "\\begin{equation}\n",
    "    A = V D V^*.\n",
    "\\end{equation}\n",
    "\n",
    "So, we can do all the operations with a diagonal matrix!!!"
   ]
  },
  {
   "cell_type": "code",
   "execution_count": 83,
   "metadata": {},
   "outputs": [
    {
     "name": "stdout",
     "output_type": "stream",
     "text": [
      "[[ 1.97848453e+00 -3.88578059e-16  2.91433544e-16]\n",
      " [-3.53883589e-16 -6.72541618e-01  2.77555756e-16]\n",
      " [ 2.91433544e-16  2.22044605e-16 -1.31471728e+00]]\n",
      "[ 1.97848453 -0.67254162 -1.31471728]\n"
     ]
    }
   ],
   "source": [
    "A = np.random.randn(3,3)\n",
    "A = (A+A.T)/2\n",
    "D,V = la.eig(A)\n",
    "\n",
    "#A=np.matrix(A)\n",
    "#V=np.matrix(V)\n",
    "#v=np.matrix(v.reshape(-1,1))\n",
    "\n",
    "a = V.T @ v\n",
    "B = V.T @ A @ V\n",
    "\n",
    "print(B)\n",
    "print(D)"
   ]
  },
  {
   "cell_type": "code",
   "execution_count": 84,
   "metadata": {},
   "outputs": [
    {
     "name": "stdout",
     "output_type": "stream",
     "text": [
      "[-0.53682058  1.34559508 -0.06917093]\n",
      "[-0.53682058  1.34559508 -0.06917093]\n"
     ]
    }
   ],
   "source": [
    "a = V.T @ v\n",
    "alpha = B @ a\n",
    "testw = V @ alpha\n",
    "print( A@v )\n",
    "print( testw )"
   ]
  },
  {
   "cell_type": "code",
   "execution_count": null,
   "metadata": {},
   "outputs": [],
   "source": []
  },
  {
   "cell_type": "markdown",
   "metadata": {},
   "source": [
    "# Lower dimensional bases\n",
    "\n",
    "The columns of unitary matrices give us bases. A $d \\times d$ unitary matrix will have $d$ basis vectors, so it will give us a basis for a $d$ dimensional space. What about lower dimensional spaces?"
   ]
  },
  {
   "cell_type": "code",
   "execution_count": 85,
   "metadata": {},
   "outputs": [
    {
     "name": "stdout",
     "output_type": "stream",
     "text": [
      "[[-0.25630788  0.91016346]\n",
      " [-0.60748906 -0.41356061]\n",
      " [-0.75183995  0.02387674]]\n"
     ]
    }
   ],
   "source": [
    "np.random.seed(123)\n",
    "# we'll see later why these are unitary matrices\n",
    "U,D,V = la.svd(np.random.randn(3,3)) \n",
    "#let's take two of the columns. These are an arbitrary basis of dimension 2\n",
    "U = U[:,:2]\n",
    "print(U)"
   ]
  },
  {
   "cell_type": "code",
   "execution_count": 86,
   "metadata": {},
   "outputs": [
    {
     "name": "stdout",
     "output_type": "stream",
     "text": [
      "1.0\n",
      "1.0\n",
      "1.8735013540549517e-16\n"
     ]
    }
   ],
   "source": [
    "# check that this is a basis:\n",
    "print(la.norm(U[:,0])) # normalized?\n",
    "print(la.norm(U[:,1])) # normalized?\n",
    "print(U[:,0] @ U[:,1]) # inner product 0?"
   ]
  },
  {
   "cell_type": "code",
   "execution_count": 87,
   "metadata": {},
   "outputs": [
    {
     "name": "stdout",
     "output_type": "stream",
     "text": [
      "[[1.00000000e+00 2.00877382e-16]\n",
      " [2.00877382e-16 1.00000000e+00]]\n"
     ]
    }
   ],
   "source": [
    "# in other words\n",
    "print(U.T @ U) # Identity matrix 2x2"
   ]
  },
  {
   "cell_type": "code",
   "execution_count": 88,
   "metadata": {},
   "outputs": [
    {
     "name": "stdout",
     "output_type": "stream",
     "text": [
      "[[ 0.89409125 -0.22070353  0.21443424]\n",
      " [-0.22070353  0.54007534  0.44686007]\n",
      " [ 0.21443424  0.44686007  0.56583341]]\n"
     ]
    }
   ],
   "source": [
    "# what about...\n",
    "print(U @ U.T) # ah.... not identity matrix"
   ]
  },
  {
   "cell_type": "markdown",
   "metadata": {},
   "source": [
    "However, it is easy to see that $P=U U^*$ is a projection:\n",
    "\n",
    "\\begin{equation}\n",
    "    P P = U U^* U U^* = U I_{\\text{2 dim identity}} U^* = U U^*\n",
    "\\end{equation}\n",
    "\n"
   ]
  },
  {
   "cell_type": "code",
   "execution_count": 89,
   "metadata": {},
   "outputs": [
    {
     "name": "stdout",
     "output_type": "stream",
     "text": [
      "[[-1.11022302e-16 -8.32667268e-17 -1.38777878e-16]\n",
      " [-8.32667268e-17  1.11022302e-16  0.00000000e+00]\n",
      " [-1.38777878e-16  0.00000000e+00 -1.11022302e-16]]\n"
     ]
    }
   ],
   "source": [
    "P = U @ U.T\n",
    "print(P@P - P)"
   ]
  },
  {
   "cell_type": "markdown",
   "metadata": {},
   "source": [
    "### expand in this basis?"
   ]
  },
  {
   "cell_type": "code",
   "execution_count": 90,
   "metadata": {},
   "outputs": [
    {
     "name": "stdout",
     "output_type": "stream",
     "text": [
      "[ 0.70577429 -0.51037621]\n",
      "v=              [-0.8667404  -0.67888615 -0.09470897]\n",
      "reconstruction= [-0.64542129 -0.21767866 -0.54281543]     - doesn't work!\n"
     ]
    }
   ],
   "source": [
    "a = U.T @ v\n",
    "print(a)\n",
    "print(\"v=             \",v)\n",
    "print(\"reconstruction=\",U @a , \"    - doesn't work!\")\n"
   ]
  },
  {
   "cell_type": "code",
   "execution_count": 91,
   "metadata": {},
   "outputs": [
    {
     "name": "stdout",
     "output_type": "stream",
     "text": [
      "[ 0.70577429 -0.51037621]\n",
      "v2=             [-0.64542129 -0.21767866 -0.54281543]\n",
      "reconstruction= [-0.64542129 -0.21767866 -0.54281543]     works for v2 in the right space\n"
     ]
    }
   ],
   "source": [
    "# Only works is v is in the span of U. We can get a vector in the span of U using projection\n",
    "v2 = P@v\n",
    "a2 = U.T @ v2\n",
    "print(a2)\n",
    "print(\"v2=            \",v2)\n",
    "print(\"reconstruction=\",U @a2 , \"    works for v2 in the right space\")"
   ]
  },
  {
   "cell_type": "code",
   "execution_count": null,
   "metadata": {},
   "outputs": [],
   "source": []
  },
  {
   "cell_type": "markdown",
   "metadata": {},
   "source": [
    "## Here comes the important point!\n",
    "\n",
    "When we talk about dimensionality reduction, and very often we we use the term \"projection\" (a little incorrectly),\n",
    "what we mean is going from $\\mathbb{R}^d$ to $\\mathbb{R}^k$. \n",
    "\n",
    "In the example above, we went from $\\mathbb{R}^3$ to $\\mathbb{R}^2$. In that example, we would have taken our data vector $v$ and reduced it to the data vector $a$.\n",
    "\n"
   ]
  },
  {
   "cell_type": "code",
   "execution_count": 92,
   "metadata": {},
   "outputs": [
    {
     "data": {
      "image/png": "[encoded data removed]",
      "text/plain": [
       "<Figure size 432x288 with 1 Axes>"
      ]
     },
     "metadata": {},
     "output_type": "display_data"
    }
   ],
   "source": [
    "#remember these data?\n",
    "myPlot3D( data3D, elev = 70, azim=-100)\n",
    "plt.show()"
   ]
  },
  {
   "cell_type": "code",
   "execution_count": 93,
   "metadata": {},
   "outputs": [
    {
     "data": {
      "image/png": "[encoded data removed]",
      "text/plain": [
       "<Figure size 432x288 with 1 Axes>"
      ]
     },
     "metadata": {},
     "output_type": "display_data"
    }
   ],
   "source": [
    "# lets abuse it a little bit\n",
    "np.random.seed(12)\n",
    "M = np.random.randn(3,3)\n",
    "Z = M @ data3D\n",
    "myPlot3D( Z, elev = 70, azim=-100)\n",
    "plt.show()"
   ]
  },
  {
   "cell_type": "code",
   "execution_count": 94,
   "metadata": {},
   "outputs": [
    {
     "data": {
      "image/png": "[encoded data removed]",
      "text/plain": [
       "<Figure size 432x288 with 1 Axes>"
      ]
     },
     "metadata": {},
     "output_type": "display_data"
    }
   ],
   "source": [
    "# Trivial \"projection\": keep only the first and second coordinates\n",
    "myPlot2D( Z[:2,:])\n",
    "plt.show()"
   ]
  },
  {
   "cell_type": "code",
   "execution_count": 95,
   "metadata": {},
   "outputs": [
    {
     "data": {
      "image/png": "[encoded data removed]",
      "text/plain": [
       "<Figure size 432x288 with 1 Axes>"
      ]
     },
     "metadata": {},
     "output_type": "display_data"
    }
   ],
   "source": [
    "# \"Projection\" with the U we used before\n",
    "myPlot2D( U.T @ Z )\n",
    "plt.show()"
   ]
  },
  {
   "cell_type": "code",
   "execution_count": 96,
   "metadata": {},
   "outputs": [
    {
     "data": {
      "image/png": "[encoded data removed]",
      "text/plain": [
       "<Figure size 432x288 with 1 Axes>"
      ]
     },
     "metadata": {},
     "output_type": "display_data"
    }
   ],
   "source": [
    "# But what projection literally means is\n",
    "Z2 = U @ U.T @ Z # this is still data in R^3!\n",
    "myPlot3D( Z2, elev = 70, azim=-100)\n",
    "plt.show()"
   ]
  },
  {
   "cell_type": "code",
   "execution_count": 97,
   "metadata": {},
   "outputs": [
    {
     "data": {
      "image/png": "[encoded data removed]",
      "text/plain": [
       "<Figure size 432x288 with 1 Axes>"
      ]
     },
     "metadata": {},
     "output_type": "display_data"
    },
    {
     "data": {
      "image/png": "[encoded data removed]",
      "text/plain": [
       "<Figure size 432x288 with 1 Axes>"
      ]
     },
     "metadata": {},
     "output_type": "display_data"
    }
   ],
   "source": [
    "# The \"projection\" is NOT just the first two coordinates of the projection\n",
    "\n",
    "# first two coordinates of the projection\n",
    "myPlot2D( Z2[:2,:] )\n",
    "plt.show()\n",
    "\n",
    "# What we often call a \"projection\"\n",
    "myPlot2D( U.T @ Z )\n",
    "plt.show()"
   ]
  },
  {
   "cell_type": "code",
   "execution_count": null,
   "metadata": {},
   "outputs": [],
   "source": []
  },
  {
   "cell_type": "markdown",
   "metadata": {},
   "source": [
    "# What is the best \"projection\"?"
   ]
  },
  {
   "cell_type": "code",
   "execution_count": 98,
   "metadata": {},
   "outputs": [
    {
     "data": {
      "image/png": "[encoded data removed]",
      "text/plain": [
       "<Figure size 432x288 with 1 Axes>"
      ]
     },
     "metadata": {},
     "output_type": "display_data"
    }
   ],
   "source": [
    "U,D,V = la.svd(Z)\n",
    "U = U[:,:2]\n",
    "Z2 = U.T @ Z\n",
    "myPlot2D( Z2 )\n",
    "plt.show()"
   ]
  },
  {
   "cell_type": "markdown",
   "metadata": {},
   "source": [
    "Well, roughly...\n",
    "\n",
    "This might require some more details...\n",
    "\n",
    "Let's talk about SVD."
   ]
  },
  {
   "cell_type": "code",
   "execution_count": null,
   "metadata": {},
   "outputs": [],
   "source": []
  },
  {
   "cell_type": "markdown",
   "metadata": {},
   "source": [
    "# Singular Value Decomposition (SVD)\n",
    "\n",
    "Every $d \\times n$ matrix has the following decomposition (Full form SVD):\n",
    "\n",
    "\\begin{equation}\n",
    "    Z = U D V^*,\n",
    "\\end{equation}\n",
    "\n",
    "where $U$ is a $d \\times d$ unitary matrix, $V$ is a $n \\times n$ unitary matrix, and \n",
    "$D$ is a $d \\times n$ matrix where $D_{ij}=0$ unless $i=j$.\n",
    "\n",
    "The elements $D_{ii} = \\sigma_i$ are called *the signular values* of the matrix $Z$. They are real valued and non-negative. \n",
    "\n",
    "The columns of U are called the left singular vectors of $Z$ and the columns of $U$ are called the right singular vectors of $Z$.\n",
    "\n",
    "By convension, we sort the singular values such that $\\sigma_1 \\geq \\sigma_2 \\geq ...$\n",
    "\n",
    "Another equivalent way of writing the SVD is\n",
    "\n",
    "\\begin{equation}\n",
    "    Z = \\sum_{i=1}^{min(d,n)} \\sigma_i u_i v_i^* ,\n",
    "\\end{equation}\n",
    "where $u_i$ and $v_i$ are columns of $U$ and $V$.\n",
    "\n"
   ]
  },
  {
   "cell_type": "code",
   "execution_count": 99,
   "metadata": {},
   "outputs": [
    {
     "name": "stdout",
     "output_type": "stream",
     "text": [
      "[[0.69646919 0.28613933 0.22685145]\n",
      " [0.55131477 0.71946897 0.42310646]]\n"
     ]
    }
   ],
   "source": [
    "np.random.seed(123)\n",
    "m=2\n",
    "n=3\n",
    "A=np.random.rand(m,n)\n",
    "print(A)"
   ]
  },
  {
   "cell_type": "code",
   "execution_count": 100,
   "metadata": {},
   "outputs": [
    {
     "name": "stdout",
     "output_type": "stream",
     "text": [
      "[[1.00000000e+00 1.73421405e-16]\n",
      " [1.73421405e-16 1.00000000e+00]]\n",
      "[[ 1.00000000e+00 -6.68556092e-17  3.67791673e-18]\n",
      " [-6.68556092e-17  1.00000000e+00  5.82940292e-17]\n",
      " [ 3.67791673e-18  5.82940292e-17  1.00000000e+00]]\n",
      "D= [1.23347282 0.31233647]\n"
     ]
    }
   ],
   "source": [
    "U,D,V = la.svd(A)\n",
    "print(U.T@U)\n",
    "print(V.T@V)\n",
    "print(\"D=\",D) # Oooops, not a matrix\n"
   ]
  },
  {
   "cell_type": "code",
   "execution_count": 101,
   "metadata": {},
   "outputs": [
    {
     "name": "stdout",
     "output_type": "stream",
     "text": [
      "[[1.23347282 0.         0.        ]\n",
      " [0.         0.31233647 0.        ]]\n"
     ]
    }
   ],
   "source": [
    "Dmat = np.zeros((m,n))\n",
    "for i in range(min(m,n)):\n",
    "    Dmat[i,i]=D[i]\n",
    "print(Dmat)"
   ]
  },
  {
   "cell_type": "code",
   "execution_count": 102,
   "metadata": {},
   "outputs": [
    {
     "name": "stdout",
     "output_type": "stream",
     "text": [
      "[[0.69646919 0.28613933 0.22685145]\n",
      " [0.55131477 0.71946897 0.42310646]]\n"
     ]
    }
   ],
   "source": [
    "#print(U @ Dmat @ V.T) ### OOOOOPPPSSS! Python gives us V.T!\n",
    "print(U @ Dmat @ V)  "
   ]
  },
  {
   "cell_type": "code",
   "execution_count": 103,
   "metadata": {},
   "outputs": [
    {
     "name": "stdout",
     "output_type": "stream",
     "text": [
      "[[0.69646919 0.28613933 0.22685145]\n",
      " [0.55131477 0.71946897 0.42310646]]\n"
     ]
    }
   ],
   "source": [
    "# or the other way...\n",
    "myA = np.zeros((m,n))\n",
    "for i in range(min(m,n)):\n",
    "    myA = myA + D[i]* np.outer(U[:,i] , V[i,:])\n",
    "print(myA)"
   ]
  },
  {
   "cell_type": "markdown",
   "metadata": {},
   "source": [
    "## wait a minute! we never even looked at V2 !!! \n",
    "\n",
    "Indeed, these columns are simply ignores. \n",
    "There is a \"thin form of the SVD\". Suppose $g=min(d,n)$:\n",
    "\n",
    "\\begin{equation}\n",
    "    Z = U^{(thin)}  D^{(thin)} \\left( V^{(thin)} \\right)^*,\n",
    "\\end{equation}\n",
    "\n",
    "where $U$ is $d \\times g$, $V$ is $n \\times g$ and $D$ is diagonal $g \\times g$, "
   ]
  },
  {
   "cell_type": "markdown",
   "metadata": {},
   "source": [
    "Technical comment: when you work with large matrices, say $m \\times n$ with a very large $n$ (e.g. many samples or many pixels in images) you really don't want to get back $n \\times n$ matrices. You don't have enough RAM.\n",
    "In this case you really want the thin SVD, which you can get using:\n",
    "\n",
    "U,D,VT =np.linalg.svd(Z, ***full_matrices=False***) \n"
   ]
  },
  {
   "cell_type": "code",
   "execution_count": 104,
   "metadata": {},
   "outputs": [
    {
     "name": "stdout",
     "output_type": "stream",
     "text": [
      "(3, 3) (3,) (366, 366)\n",
      "(3, 3) (3,) (3, 366)\n"
     ]
    }
   ],
   "source": [
    "U,D,VT = la.svd(Z)\n",
    "print(U.shape, D.shape, VT.shape)\n",
    "\n",
    "U,D,VT = la.svd(Z,full_matrices=False)\n",
    "print(U.shape, D.shape, VT.shape)"
   ]
  },
  {
   "cell_type": "markdown",
   "metadata": {},
   "source": [
    "# What is the best projection?\n",
    "\n",
    "Suppose we have data  $z_i \\in \\mathbb{R}^d$. What is the $k$ dimensional projection $P$ that is the closest to the original data?\n",
    "\n",
    "\\begin{equation}\n",
    "    argmin_{P} \\sum_i \\| P z_i - z_i \\|^2.\n",
    "\\end{equation}\n",
    "\n",
    "Another way to write this if we have a matrix $Z$ with columns $z_i$:\n",
    "\n",
    "\\begin{equation}\n",
    "    argmin_{P} \\| P Z - Z \\|_{HS}^2,\n",
    "\\end{equation}\n",
    "where we're using the Frobenius norm for matrices: $\\| A \\|_{HS}^2 = \\sum_{i,j} A_{ij}^2$.\n",
    "\n",
    "It turns out that\n",
    "\n",
    "\\begin{equation}\n",
    "    \\left\\| \\sum_{i=1}^{k} \\sigma_i u_i v_i^* - Z \\right\\|_{HS}^2 = \\sum_{i=k+1}^{min(d,n)} \\sigma_i ^2\n",
    "\\end{equation}\n",
    "\n",
    "And the best projection one can get is by using the first $k$ singular values and singular vectors:\n",
    "\\begin{equation}\n",
    "    \\sum_{i=1}^{k} \\sigma_i u_i v_i^* .\n",
    "\\end{equation}\n",
    "\n",
    "This is also called the best $k$ rank approximation of the matrix."
   ]
  },
  {
   "cell_type": "code",
   "execution_count": null,
   "metadata": {},
   "outputs": [],
   "source": []
  },
  {
   "cell_type": "code",
   "execution_count": 105,
   "metadata": {},
   "outputs": [],
   "source": [
    "# in our example:\n",
    "U,D,VT = la.svd(Z)\n",
    "Zproj = D[0]*np.outer(U[:,0],VT[0,:]) + D[1]*np.outer(U[:,1],VT[1,:])"
   ]
  },
  {
   "cell_type": "code",
   "execution_count": 106,
   "metadata": {},
   "outputs": [
    {
     "data": {
      "image/png": "[encoded data removed]",
      "text/plain": [
       "<Figure size 432x288 with 1 Axes>"
      ]
     },
     "metadata": {},
     "output_type": "display_data"
    }
   ],
   "source": [
    "myPlot3D( Zproj )\n",
    "plt.show()"
   ]
  },
  {
   "cell_type": "markdown",
   "metadata": {},
   "source": [
    "I'm so not impressed... that's your best projection?\n",
    "\n",
    "So, this is the best projection, but not the best \"projection.\"\n",
    "\n",
    "In fact in your example, the projection doesn't loose anything..."
   ]
  },
  {
   "cell_type": "code",
   "execution_count": 107,
   "metadata": {},
   "outputs": [
    {
     "name": "stdout",
     "output_type": "stream",
     "text": [
      "1.2375905933222264e-13\n"
     ]
    }
   ],
   "source": [
    "print(la.norm(Z-Zproj))"
   ]
  },
  {
   "cell_type": "markdown",
   "metadata": {},
   "source": [
    "The reason is that the last singular value, the one we ommited happened to be zero!"
   ]
  },
  {
   "cell_type": "code",
   "execution_count": 108,
   "metadata": {},
   "outputs": [
    {
     "name": "stdout",
     "output_type": "stream",
     "text": [
      "[5.90266043e+02 5.69038896e+01 2.11693592e-14]\n"
     ]
    }
   ],
   "source": [
    "print(D)"
   ]
  },
  {
   "cell_type": "markdown",
   "metadata": {},
   "source": [
    "So, what is the best \"projection\" to 2D?\n",
    "\n",
    "let $U^{(k~ reduced)}$ be the first $k$ columns of $U$. Then our best \"projection\" is:\n",
    "\n",
    "\\begin{equation}\n",
    "    Z_{\"best\"} = \\left( U^{(k~ reduced)} \\right)^* Z.\n",
    "\\end{equation}\n",
    "\n",
    "\n",
    "Informally, it is the best in the sense that in minimizes the error\n",
    "\n",
    "\\begin{equation}\n",
    "   \\left\\| U^{(k~ reduced)} Z_{\"best\"} - Z \\right\\|_{HS}.\n",
    "\\end{equation}\n",
    "\n",
    "Another way to write $Z_{\"best\"}$:\n",
    "\\begin{equation}\n",
    "    Z_{\"best\"} = D^{(k~ reduced)} V^* ,\n",
    "\\end{equation}\n",
    "\n",
    "s.t\n",
    "\\begin{equation}\n",
    "    Z_{\"best\"}[i,j] = \\sigma_i V[i,j] .\n",
    "\\end{equation}\n",
    "\n",
    "\n"
   ]
  },
  {
   "cell_type": "code",
   "execution_count": 109,
   "metadata": {},
   "outputs": [
    {
     "data": {
      "image/png": "[encoded data removed]",
      "text/plain": [
       "<Figure size 432x288 with 1 Axes>"
      ]
     },
     "metadata": {},
     "output_type": "display_data"
    }
   ],
   "source": [
    "# code we had above:\n",
    "U,D,V = la.svd(Z)\n",
    "U = U[:,:2]\n",
    "Z2 = U.T @ Z\n",
    "myPlot2D( Z2 )\n",
    "plt.show()"
   ]
  },
  {
   "cell_type": "code",
   "execution_count": 110,
   "metadata": {},
   "outputs": [
    {
     "data": {
      "text/plain": [
       "array([-1.34224522e+01,  7.23940107e+00,  1.69526400e-15])"
      ]
     },
     "execution_count": 110,
     "metadata": {},
     "output_type": "execute_result"
    }
   ],
   "source": [
    "U,D,V = la.svd(Z)\n",
    "( U.T @ Z)[:,0]"
   ]
  },
  {
   "cell_type": "markdown",
   "metadata": {},
   "source": [
    "# SVD and Eigendecomposition\n",
    "\n",
    "SVD and eigendecomposition are different in many ways. For example, there are no eigenvectors defined for a matrix that isn't a square matrix, and eigenvalues can be negative or even complex valued.\n",
    "\n",
    "Here is one of the relations though:\n",
    "\n",
    "\\begin{equation}\n",
    "    AA^* = U D V^* V D^* U^* = U D D^* U^* .\n",
    "\\end{equation}\n",
    "\n",
    "$A^*A$ is a symmetric matrix. Its eigenvectors are the left signular vectors of A and its eigenvalues are $\\sigma_i^2$ (and zeros when we run out of singular values). \n",
    "\n",
    "Similarly, $A^*A$ is symmetric, and its eigenvectors are the right singular vectors of A. "
   ]
  },
  {
   "cell_type": "code",
   "execution_count": 111,
   "metadata": {},
   "outputs": [
    {
     "name": "stdout",
     "output_type": "stream",
     "text": [
      "[1.6253318  5.95898143]\n",
      "[5.95898143 1.6253318 ]\n"
     ]
    }
   ],
   "source": [
    "np.random.seed(123)\n",
    "A=np.random.randn(2,3)\n",
    "B=A@A.T\n",
    "\n",
    "eigD, eigU = la.eig(B)\n",
    "U,D,VT = la.svd(A)\n",
    "\n",
    "print(eigD)\n",
    "print(D**2) # they don't have to be in the same order!"
   ]
  },
  {
   "cell_type": "code",
   "execution_count": 112,
   "metadata": {},
   "outputs": [
    {
     "name": "stdout",
     "output_type": "stream",
     "text": [
      "[[-1.11022302e-16  1.00000000e+00]\n",
      " [ 1.00000000e+00 -5.55111512e-17]]\n"
     ]
    }
   ],
   "source": [
    "print(eigU.T @ U)  # they don't have to be in the same order!\n"
   ]
  },
  {
   "cell_type": "code",
   "execution_count": 113,
   "metadata": {},
   "outputs": [
    {
     "name": "stdout",
     "output_type": "stream",
     "text": [
      "-1.1102230246251565e-16\n",
      "1.0\n"
     ]
    }
   ],
   "source": [
    "print(eigU[:,0]@U[:,0])\n",
    "print(eigU[:,0]@U[:,1])"
   ]
  },
  {
   "cell_type": "code",
   "execution_count": null,
   "metadata": {},
   "outputs": [],
   "source": []
  },
  {
   "cell_type": "code",
   "execution_count": null,
   "metadata": {},
   "outputs": [],
   "source": []
  },
  {
   "cell_type": "markdown",
   "metadata": {},
   "source": [
    "# Principal component analysis (PCA)\n",
    "\n",
    "PCA is SVD.\n",
    "\n",
    "PCA is used for unsupervised exploration of data, to find structures. This is different from the supervised learning problem in logistic regression, where we have labels and which we wish to predict.\n",
    "\n",
    "Suppose we have *mean-zero* rows (or we set our rows to have mean zero)"
   ]
  },
  {
   "cell_type": "code",
   "execution_count": 114,
   "metadata": {},
   "outputs": [
    {
     "data": {
      "text/plain": [
       "array([ 1.78301937, -5.64619853,  0.0701986 ])"
      ]
     },
     "execution_count": 114,
     "metadata": {},
     "output_type": "execute_result"
    }
   ],
   "source": [
    "Z.mean(axis=1)"
   ]
  },
  {
   "cell_type": "code",
   "execution_count": 115,
   "metadata": {},
   "outputs": [
    {
     "name": "stdout",
     "output_type": "stream",
     "text": [
      "[0. 0. 0.]\n"
     ]
    }
   ],
   "source": [
    "Z0 = Z - Z.mean(axis=1).reshape(-1,1) # Make sure you understand what I did here!\n",
    "print(Z0.mean(axis=1))"
   ]
  },
  {
   "cell_type": "markdown",
   "metadata": {},
   "source": [
    "The weights of the first principal component is the normalized vector $v_1$ that maximizes\n",
    "\n",
    "\\begin{equation}\n",
    "    argmax_{\\|v\\|=1} \\sum_{i=1}^n <z_i, v>^2\n",
    "\\end{equation}\n",
    "\n",
    "or in other words,\n",
    "\n",
    "\\begin{equation}\n",
    "    argmax_{\\|v\\|=1} \\| v^* Z \\|^2 .\n",
    "\\end{equation}\n",
    "\n",
    "Comment: $\\|v\\|=1$ restricts the vector to have norm 1.\n",
    "\n",
    "The second principal component is the normalized vector $v_2$ that maximizes the same expression, but is also orthogonal to $v_1$ etc. \n",
    "\n",
    "These principal components turn out to be the left singular values!\n",
    "\n",
    "#### The more standard way to write SVD is with mean zero COLUMNS, and principal components being the RIGHT singular vectors."
   ]
  },
  {
   "cell_type": "code",
   "execution_count": 116,
   "metadata": {},
   "outputs": [
    {
     "name": "stdout",
     "output_type": "stream",
     "text": [
      "[-0.31361261  0.94942853 -0.01525098]\n",
      "[-0.31314891  0.94958359 -0.01512478] a little different because Z isn't centered\n",
      "[-0.31361261  0.94942853 -0.01525098] same as PCA!\n"
     ]
    }
   ],
   "source": [
    "import sklearn\n",
    "from sklearn.decomposition import PCA\n",
    "pca = PCA(n_components=2)\n",
    "pca.fit(Z.T) \n",
    "print(pca.components_[0])\n",
    "\n",
    "U,D,V = la.svd(Z)\n",
    "print(U[:,0], \"a little different because Z isn't centered\")\n",
    "U0,D0,V0 = la.svd(Z0)\n",
    "print(U0[:,0], \"same as PCA!\")"
   ]
  },
  {
   "cell_type": "code",
   "execution_count": null,
   "metadata": {},
   "outputs": [],
   "source": []
  },
  {
   "cell_type": "code",
   "execution_count": 117,
   "metadata": {},
   "outputs": [
    {
     "data": {
      "image/png": "[encoded data removed]",
      "text/plain": [
       "<Figure size 432x288 with 1 Axes>"
      ]
     },
     "metadata": {},
     "output_type": "display_data"
    }
   ],
   "source": [
    "# A couple of ways people would normally view this:\n",
    "U,D,VT = la.svd(Z0)  # note that I'm using Z0 here, which is our centered Z\n",
    "U = U[:,:2]  # = Reduced U\n",
    "Z2 = U.T @ Z # = Dmat_{reduced} @ V^*\n",
    "myPlot2D( Z2 )\n",
    "plt.show()"
   ]
  },
  {
   "cell_type": "code",
   "execution_count": 118,
   "metadata": {},
   "outputs": [
    {
     "data": {
      "image/png": "[encoded data removed]",
      "text/plain": [
       "<Figure size 432x288 with 1 Axes>"
      ]
     },
     "metadata": {},
     "output_type": "display_data"
    }
   ],
   "source": [
    "myPlot2D( VT ) # The components without scaling by D\n",
    "plt.show()"
   ]
  },
  {
   "cell_type": "code",
   "execution_count": 119,
   "metadata": {},
   "outputs": [],
   "source": [
    "# The weights, which are the left singular vectors, tell us which \"directions\" in the data are important "
   ]
  },
  {
   "cell_type": "code",
   "execution_count": null,
   "metadata": {},
   "outputs": [],
   "source": []
  },
  {
   "cell_type": "code",
   "execution_count": null,
   "metadata": {},
   "outputs": [],
   "source": []
  },
  {
   "cell_type": "code",
   "execution_count": null,
   "metadata": {},
   "outputs": [],
   "source": []
  },
  {
   "cell_type": "code",
   "execution_count": null,
   "metadata": {},
   "outputs": [],
   "source": []
  },
  {
   "cell_type": "markdown",
   "metadata": {},
   "source": [
    "#### PCA is SVD (on centered data)!\n",
    "\n"
   ]
  },
  {
   "cell_type": "markdown",
   "metadata": {},
   "source": [
    "#### PCA is SVD (on centered data)!\n",
    "\n",
    "It's important enought to say this again."
   ]
  },
  {
   "cell_type": "code",
   "execution_count": null,
   "metadata": {},
   "outputs": [],
   "source": []
  },
  {
   "cell_type": "code",
   "execution_count": null,
   "metadata": {},
   "outputs": [],
   "source": []
  },
  {
   "cell_type": "code",
   "execution_count": null,
   "metadata": {},
   "outputs": [],
   "source": []
  },
  {
   "cell_type": "code",
   "execution_count": null,
   "metadata": {},
   "outputs": [],
   "source": []
  },
  {
   "cell_type": "code",
   "execution_count": null,
   "metadata": {},
   "outputs": [],
   "source": []
  },
  {
   "cell_type": "code",
   "execution_count": null,
   "metadata": {},
   "outputs": [],
   "source": []
  },
  {
   "cell_type": "code",
   "execution_count": null,
   "metadata": {},
   "outputs": [],
   "source": []
  },
  {
   "cell_type": "code",
   "execution_count": null,
   "metadata": {},
   "outputs": [],
   "source": []
  },
  {
   "cell_type": "code",
   "execution_count": null,
   "metadata": {},
   "outputs": [],
   "source": []
  },
  {
   "cell_type": "code",
   "execution_count": null,
   "metadata": {},
   "outputs": [],
   "source": []
  },
  {
   "cell_type": "code",
   "execution_count": null,
   "metadata": {},
   "outputs": [],
   "source": []
  },
  {
   "cell_type": "markdown",
   "metadata": {},
   "source": [
    "# Technical comments about python arrays vs. matrics\n",
    "\n",
    "\n",
    "For more forml information, see https://numpy.org/devdocs/user/numpy-for-matlab-users.html\n"
   ]
  },
  {
   "cell_type": "code",
   "execution_count": 120,
   "metadata": {},
   "outputs": [
    {
     "name": "stdout",
     "output_type": "stream",
     "text": [
      "[[-1.0856306   0.99734545]\n",
      " [ 0.2829785  -1.50629471]]\n",
      "<class 'numpy.ndarray'> <class 'numpy.matrix'>\n",
      "column of A: [-1.0856306  0.2829785]\n",
      "column of B: [[-1.0856306]\n",
      " [ 0.2829785]]\n"
     ]
    }
   ],
   "source": [
    "np.random.seed(123)\n",
    "A = np.random.randn(2,2)\n",
    "print( A)\n",
    "B=np.matrix(A)\n",
    "print( type(A), type(B) )\n",
    "print(\"column of A:\", A[:,0] )\n",
    "print( \"column of B:\", B[:,0])\n"
   ]
  },
  {
   "cell_type": "code",
   "execution_count": 121,
   "metadata": {},
   "outputs": [
    {
     "name": "stdout",
     "output_type": "stream",
     "text": [
      "transpose column of A: [-1.0856306  0.2829785]\n",
      "transpose column of B.: [[-1.0856306  0.2829785]]\n"
     ]
    }
   ],
   "source": [
    "print(\"transpose column of A:\", A[:,0].T )\n",
    "print(\"transpose column of B.:\", B[:,0].T)"
   ]
  },
  {
   "cell_type": "code",
   "execution_count": 122,
   "metadata": {},
   "outputs": [
    {
     "name": "stdout",
     "output_type": "stream",
     "text": [
      " A[:,0].T @ A[:,0] = 1.2586706371825016\n",
      "B[:,0].T @ B[:,0]  = [[1.25867064]]\n"
     ]
    }
   ],
   "source": [
    "print(\" A[:,0].T @ A[:,0] =\", A[:,0].T @ A[:,0] )\n",
    "print(\"B[:,0].T @ B[:,0]  =\", B[:,0].T @ B[:,0] )"
   ]
  },
  {
   "cell_type": "code",
   "execution_count": 123,
   "metadata": {},
   "outputs": [
    {
     "name": "stdout",
     "output_type": "stream",
     "text": [
      " A[:,0] @ A[:,0].T = 1.2586706371825016\n",
      "B[:,0] @ B[:,0].T  = [[ 1.17859381 -0.30721012]\n",
      " [-0.30721012  0.08007683]]\n"
     ]
    }
   ],
   "source": [
    "#Sacrry example:\n",
    "print(\" A[:,0] @ A[:,0].T =\", A[:,0] @ A[:,0].T )\n",
    "print(\"B[:,0] @ B[:,0].T  =\", B[:,0] @ B[:,0].T )"
   ]
  },
  {
   "cell_type": "code",
   "execution_count": 124,
   "metadata": {},
   "outputs": [
    {
     "name": "stdout",
     "output_type": "stream",
     "text": [
      "B.H  = [[-1.0856306   0.2829785 ]\n",
      " [ 0.99734545 -1.50629471]]\n"
     ]
    }
   ],
   "source": [
    "# complex conjugate\n",
    "print(\"B.H  =\", B.H )"
   ]
  },
  {
   "cell_type": "code",
   "execution_count": 125,
   "metadata": {},
   "outputs": [
    {
     "ename": "AttributeError",
     "evalue": "'numpy.ndarray' object has no attribute 'H'",
     "output_type": "error",
     "traceback": [
      "\u001b[0;31m--------------------------------------------------------------\u001b[0m",
      "\u001b[0;31mAttributeError\u001b[0m               Traceback (most recent call last)",
      "\u001b[0;32m<ipython-input-125-e5e8604a0db1>\u001b[0m in \u001b[0;36m<module>\u001b[0;34m()\u001b[0m\n\u001b[0;32m----> 1\u001b[0;31m \u001b[0mprint\u001b[0m\u001b[0;34m(\u001b[0m\u001b[0;34m\"A.H  =\"\u001b[0m\u001b[0;34m,\u001b[0m \u001b[0mA\u001b[0m\u001b[0;34m.\u001b[0m\u001b[0mH\u001b[0m \u001b[0;34m)\u001b[0m\u001b[0;34m\u001b[0m\u001b[0m\n\u001b[0m\u001b[1;32m      2\u001b[0m \u001b[0;31m# ooooopppppssss\u001b[0m\u001b[0;34m\u001b[0m\u001b[0;34m\u001b[0m\u001b[0m\n",
      "\u001b[0;31mAttributeError\u001b[0m: 'numpy.ndarray' object has no attribute 'H'"
     ]
    }
   ],
   "source": [
    "print(\"A.H  =\", A.H )\n",
    "# ooooopppppssss"
   ]
  },
  {
   "cell_type": "code",
   "execution_count": 126,
   "metadata": {},
   "outputs": [
    {
     "name": "stdout",
     "output_type": "stream",
     "text": [
      "A@A: [[ 1.46082112 -2.58504491]\n",
      " [-0.73345913  2.55115108]]\n",
      "B*B: [[ 1.46082112 -2.58504491]\n",
      " [-0.73345913  2.55115108]]\n",
      "B@B: [[ 1.46082112 -2.58504491]\n",
      " [-0.73345913  2.55115108]]\n"
     ]
    }
   ],
   "source": [
    "# matrix multiplication\n",
    "print(\"A@A:\", A@A)\n",
    "print(\"B*B:\", B*B)\n",
    "print(\"B@B:\", B@B)"
   ]
  },
  {
   "cell_type": "code",
   "execution_count": 127,
   "metadata": {},
   "outputs": [
    {
     "name": "stdout",
     "output_type": "stream",
     "text": [
      "A*A: [[1.17859381 0.99469794]\n",
      " [0.08007683 2.26892377]]\n",
      "B.multiply(B): [[1.17859381 0.99469794]\n",
      " [0.08007683 2.26892377]]\n"
     ]
    }
   ],
   "source": [
    "# elementwise\n",
    "print(\"A*A:\", A*A)\n",
    "print(\"B.multiply(B):\", np.multiply(B,B))"
   ]
  },
  {
   "cell_type": "code",
   "execution_count": 128,
   "metadata": {},
   "outputs": [
    {
     "ename": "AttributeError",
     "evalue": "'numpy.ndarray' object has no attribute 'multiply'",
     "output_type": "error",
     "traceback": [
      "\u001b[0;31m--------------------------------------------------------------\u001b[0m",
      "\u001b[0;31mAttributeError\u001b[0m               Traceback (most recent call last)",
      "\u001b[0;32m<ipython-input-128-0b7f22991a56>\u001b[0m in \u001b[0;36m<module>\u001b[0;34m()\u001b[0m\n\u001b[0;32m----> 1\u001b[0;31m \u001b[0mprint\u001b[0m\u001b[0;34m(\u001b[0m\u001b[0;34m\"A.multiply(A):\"\u001b[0m\u001b[0;34m,\u001b[0m \u001b[0mA\u001b[0m\u001b[0;34m.\u001b[0m\u001b[0mmultiply\u001b[0m\u001b[0;34m(\u001b[0m\u001b[0mA\u001b[0m\u001b[0;34m)\u001b[0m\u001b[0;34m)\u001b[0m\u001b[0;34m\u001b[0m\u001b[0m\n\u001b[0m\u001b[1;32m      2\u001b[0m \u001b[0;31m#### Ooooooppppppsssss....\u001b[0m\u001b[0;34m\u001b[0m\u001b[0;34m\u001b[0m\u001b[0m\n",
      "\u001b[0;31mAttributeError\u001b[0m: 'numpy.ndarray' object has no attribute 'multiply'"
     ]
    }
   ],
   "source": [
    "print(\"A.multiply(A):\", A.multiply(A))\n",
    "#### Ooooooppppppsssss...."
   ]
  },
  {
   "cell_type": "code",
   "execution_count": null,
   "metadata": {},
   "outputs": [],
   "source": []
  },
  {
   "cell_type": "code",
   "execution_count": 129,
   "metadata": {},
   "outputs": [
    {
     "name": "stdout",
     "output_type": "stream",
     "text": [
      "v= [-0.57860025  1.65143654]\n",
      "v.T= [-0.57860025  1.65143654]\n",
      "u= [[-0.57860025]\n",
      " [ 1.65143654]]\n",
      "u.T= [[-0.57860025  1.65143654]]\n"
     ]
    }
   ],
   "source": [
    "#One of the things we shold be careful about:\n",
    "v=np.random.randn(2)\n",
    "u=np.matrix(v).T\n",
    "Amat = np.matrix(A)\n",
    "print(\"v=\",v)\n",
    "print(\"v.T=\",v.T)\n",
    "print(\"u=\",u)\n",
    "print(\"u.T=\",u.T)\n"
   ]
  },
  {
   "cell_type": "code",
   "execution_count": 130,
   "metadata": {},
   "outputs": [
    {
     "name": "stdout",
     "output_type": "stream",
     "text": [
      "In A@v, v is interpreted as column vector: [ 2.27519885 -2.65128156]\n",
      "Compare to A@u: <class 'numpy.matrix'> [[ 2.27519885]\n",
      " [-2.65128156]]\n"
     ]
    }
   ],
   "source": [
    "print(\"In A@v, v is interpreted as column vector:\", A@v)\n",
    "print(\"Compare to A@u:\", type(A@u), A@u)"
   ]
  },
  {
   "cell_type": "code",
   "execution_count": 131,
   "metadata": {},
   "outputs": [
    {
     "name": "stdout",
     "output_type": "stream",
     "text": [
      "In v @ A, v is interpreted as row vector: [ 1.09546717 -3.06461445]\n",
      "Compare to u.T @ A: <class 'numpy.matrix'> [[ 1.09546717 -3.06461445]]\n"
     ]
    }
   ],
   "source": [
    "print(\"In v @ A, v is interpreted as row vector:\", v@A)\n",
    "print(\"Compare to u.T @ A:\", type(u.T @ A), u.T @ A)"
   ]
  },
  {
   "cell_type": "code",
   "execution_count": 132,
   "metadata": {},
   "outputs": [
    {
     "name": "stdout",
     "output_type": "stream",
     "text": [
      "So, v @ v is dot product 3.062020887637484\n",
      "And v.T @ v is the same thing 3.062020887637484\n",
      "And u.T @ u is ALMOST the same thing [[3.06202089]]    -- but, note that it is a matrix\n"
     ]
    }
   ],
   "source": [
    "print(\"So, v @ v is dot product\", v@v)\n",
    "print(\"And v.T @ v is the same thing\", v.T @ v)\n",
    "print(\"And u.T @ u is ALMOST the same thing\", u.T @ u, \"   -- but, note that it is a matrix\")"
   ]
  },
  {
   "cell_type": "code",
   "execution_count": 133,
   "metadata": {},
   "outputs": [
    {
     "name": "stdout",
     "output_type": "stream",
     "text": [
      "And v @ v.T is the same thing 3.062020887637484\n",
      "BUT u @ u.T is NOT [[ 0.33477825 -0.9555216 ]\n",
      " [-0.9555216   2.72724264]]\n",
      "np.outer(v,v) the outer product [[ 0.33477825 -0.9555216 ]\n",
      " [-0.9555216   2.72724264]]\n",
      "np.outer(u,u) also works [[ 0.33477825 -0.9555216 ]\n",
      " [-0.9555216   2.72724264]]\n",
      "np.outer(u.T,u.T) also works [[ 0.33477825 -0.9555216 ]\n",
      " [-0.9555216   2.72724264]]\n"
     ]
    }
   ],
   "source": [
    "print(\"And v @ v.T is the same thing\", v @ v.T)\n",
    "print(\"BUT u @ u.T is NOT\", u @ u.T)\n",
    "print(\"np.outer(v,v) the outer product\", np.outer(v,v))\n",
    "print(\"np.outer(u,u) also works\", np.outer(u,u))\n",
    "print(\"np.outer(u.T,u.T) also works\", np.outer(u.T,u.T))"
   ]
  },
  {
   "cell_type": "markdown",
   "metadata": {},
   "source": [
    "## Dot product vs. inner product, transpose vs. conjugate transpose\n",
    "\n",
    "\\begin{equation}\n",
    "    dot(v,u) = \\sum_i v[i] u[i]\n",
    "\\end{equation}\n",
    "\n",
    "\\begin{equation}\n",
    "    <v,u> = \\sum_i v[i] \\overline{u[i]}\n",
    "\\end{equation}\n",
    "\n",
    "Therefore,\n",
    "\n",
    "\\begin{equation}\n",
    "    <v,u> =  \\overline{<u,v>}\n",
    "\\end{equation}\n",
    "\n",
    "These are the same for real numbers, but when we have comlex numbers thins are a little different...\n",
    "\n",
    "\n",
    "Comment: physicists use the bra-ket notation that I really like...\n",
    "\\begin{equation}\n",
    "    <v,u> =  <u|v>\n",
    "\\end{equation}"
   ]
  },
  {
   "cell_type": "code",
   "execution_count": 134,
   "metadata": {},
   "outputs": [
    {
     "name": "stdout",
     "output_type": "stream",
     "text": [
      "A= [[-1.0856306 -0.57860025j  0.99734545+1.65143654j]\n",
      " [ 0.2829785 -2.42667924j -1.50629471-0.42891263j]]\n",
      "A.T= [[-1.0856306 -0.57860025j  0.2829785 -2.42667924j]\n",
      " [ 0.99734545+1.65143654j -1.50629471-0.42891263j]]\n",
      "Amat= [[-1.0856306 -0.57860025j  0.99734545+1.65143654j]\n",
      " [ 0.2829785 -2.42667924j -1.50629471-0.42891263j]]\n",
      "Amat.T= [[-1.0856306 -0.57860025j  0.2829785 -2.42667924j]\n",
      " [ 0.99734545+1.65143654j -1.50629471-0.42891263j]]\n"
     ]
    }
   ],
   "source": [
    "np.random.seed(123)\n",
    "A=np.random.randn(2,2)+1j*np.random.randn(2,2)\n",
    "Amat=np.matrix(A)\n",
    "print(\"A=\",A)\n",
    "print(\"A.T=\",A.T)\n",
    "print(\"Amat=\",Amat)\n",
    "print(\"Amat.T=\",Amat.T)"
   ]
  },
  {
   "cell_type": "code",
   "execution_count": 135,
   "metadata": {},
   "outputs": [
    {
     "name": "stdout",
     "output_type": "stream",
     "text": [
      "BUT, Amat.H= [[-1.0856306 +0.57860025j  0.2829785 +2.42667924j]\n",
      " [ 0.99734545-1.65143654j -1.50629471+0.42891263j]]\n"
     ]
    }
   ],
   "source": [
    "#print(\"BUT, A.H=\",A.H) # not implemented\n",
    "print(\"BUT, Amat.H=\",Amat.H) # not implemented"
   ]
  },
  {
   "cell_type": "code",
   "execution_count": 136,
   "metadata": {},
   "outputs": [
    {
     "name": "stdout",
     "output_type": "stream",
     "text": [
      "(1+2j)\n",
      "[[1.+2.j]]\n",
      "[[3.+0.j]]\n"
     ]
    }
   ],
   "source": [
    "vv=np.array([1+1j,1])\n",
    "vv2 = np.array([1+0.5j,2j])\n",
    "uu=np.matrix(vv).T\n",
    "uu2=np.matrix(vv2).T\n",
    "print(vv@vv)\n",
    "print(uu.T@uu)\n",
    "print(uu.H@uu)"
   ]
  },
  {
   "cell_type": "code",
   "execution_count": 137,
   "metadata": {},
   "outputs": [
    {
     "name": "stdout",
     "output_type": "stream",
     "text": [
      "(1+2j)\n",
      "[[0.+2.j 1.+1.j]\n",
      " [1.+1.j 1.+0.j]]\n",
      "[[1.+2.j]]\n"
     ]
    }
   ],
   "source": [
    "#what would you expect the inner product to be?\n",
    "print(np.inner(vv,vv))\n",
    "print(np.inner(uu,uu))\n",
    "print(np.inner(uu.T,uu.T))"
   ]
  },
  {
   "cell_type": "code",
   "execution_count": 138,
   "metadata": {},
   "outputs": [
    {
     "name": "stdout",
     "output_type": "stream",
     "text": [
      "(3+0j)\n",
      "(1.5+1.5j)\n",
      "[[1.5-0.5j]]\n",
      "uu.H @ uu2 =  [[1.5+1.5j]]  , uu2.H @ uu =  [[1.5-1.5j]]\n"
     ]
    }
   ],
   "source": [
    "#yes, python has more functions for this...\n",
    "print(np.vdot(vv,vv))\n",
    "# which you would think is our inner product, but looks you have to be careful with the order...\n",
    "print(np.vdot(vv,vv2))\n",
    "print(np.vdot(uu,uu2))\n",
    "print(\"uu.H @ uu2 = \", uu.H @ uu2, \" , uu2.H @ uu = \", uu2.H @ uu)\n"
   ]
  },
  {
   "cell_type": "code",
   "execution_count": 139,
   "metadata": {},
   "outputs": [
    {
     "name": "stdout",
     "output_type": "stream",
     "text": [
      "uu@uu.H = [[2.+0.j 1.+1.j]\n",
      " [1.-1.j 1.+0.j]]\n",
      "uu@uu.T = [[0.+2.j 1.+1.j]\n",
      " [1.+1.j 1.+0.j]]\n",
      "np.outer(uu,uu)= [[0.+2.j 1.+1.j]\n",
      " [1.+1.j 1.+0.j]]\n"
     ]
    }
   ],
   "source": [
    "print(\"uu@uu.H =\",uu@uu.H)\n",
    "print(\"uu@uu.T =\", uu@uu.T)\n",
    "print(\"np.outer(uu,uu)=\", np.outer(uu,uu))"
   ]
  },
  {
   "cell_type": "code",
   "execution_count": null,
   "metadata": {},
   "outputs": [],
   "source": []
  },
  {
   "cell_type": "code",
   "execution_count": null,
   "metadata": {},
   "outputs": [],
   "source": []
  },
  {
   "cell_type": "code",
   "execution_count": null,
   "metadata": {},
   "outputs": [],
   "source": []
  },
  {
   "cell_type": "code",
   "execution_count": null,
   "metadata": {},
   "outputs": [],
   "source": []
  },
  {
   "cell_type": "code",
   "execution_count": null,
   "metadata": {},
   "outputs": [],
   "source": []
  }
 ],
 "metadata": {
  "kernelspec": {
   "display_name": "Python 3",
   "language": "python",
   "name": "python3"
  },
  "language_info": {
   "codemirror_mode": {
    "name": "ipython",
    "version": 3
   },
   "file_extension": ".py",
   "mimetype": "text/x-python",
   "name": "python",
   "nbconvert_exporter": "python",
   "pygments_lexer": "ipython3",
   "version": "3.6.5"
  }
 },
 "nbformat": 4,
 "nbformat_minor": 2
}
