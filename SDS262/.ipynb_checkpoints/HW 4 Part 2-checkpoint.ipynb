{
 "cells": [
  {
   "cell_type": "markdown",
   "metadata": {},
   "source": [
    "# Part 2: PCA\n",
    "In class we discussed how PCA can be used as a dimensionality reduction technique as well as latent factor discovery technique. In both cases we used PCA to visualize. Below, we will explore two other applications of PCA, compression and regularization.\n",
    "\n",
    "I highly recommend that you read the documentation for `np.linalg.svd` before starting."
   ]
  },
  {
   "cell_type": "code",
   "execution_count": null,
   "metadata": {},
   "outputs": [],
   "source": [
    "netid = \"xxx\"\n",
    "name = \"xxx yyy\"\n",
    "print netid\n",
    "print name"
   ]
  },
  {
   "cell_type": "markdown",
   "metadata": {},
   "source": [
    "<b>The following lines import the modules we will use.\n",
    "Do not import any others</b>"
   ]
  },
  {
   "cell_type": "code",
   "execution_count": 18,
   "metadata": {},
   "outputs": [],
   "source": [
    "import hashlib\n",
    "import numpy as np\n",
    "import matplotlib.pyplot as plt\n",
    "import pandas as pd\n",
    "from scipy import misc, ndimage\n",
    "from mpl_toolkits.mplot3d import axes3d\n",
    "%matplotlib inline"
   ]
  },
  {
   "cell_type": "markdown",
   "metadata": {},
   "source": [
    "## Compressing an image"
   ]
  },
  {
   "cell_type": "markdown",
   "metadata": {},
   "source": [
    "We are going to load an image so that we can compress it. This is a way to compress an iamge, but it is not that great, but a lot of other ideas are fundamentally based on this actual principle. You should place the yalelogo.jpeg photo in the same directory as your ipython notebooks."
   ]
  },
  {
   "cell_type": "code",
   "execution_count": null,
   "metadata": {},
   "outputs": [],
   "source": [
    "A=misc.imread(\"./yalelogo.jpeg\")"
   ]
  },
  {
   "cell_type": "markdown",
   "metadata": {},
   "source": [
    "The image starts out as a 3-D numpy array. This is because we effectively have an image for each color channel for R, G, and B. As in class, we will average out these pixel intensities. We will also threshold to obtain a purely black and white image."
   ]
  },
  {
   "cell_type": "code",
   "execution_count": null,
   "metadata": {},
   "outputs": [],
   "source": [
    "A.shape"
   ]
  },
  {
   "cell_type": "code",
   "execution_count": null,
   "metadata": {},
   "outputs": [],
   "source": [
    "Ab=(np.mean(A,2)<100)*1.0"
   ]
  },
  {
   "cell_type": "code",
   "execution_count": null,
   "metadata": {},
   "outputs": [],
   "source": [
    "plt.imshow(Ab,cmap=plt.cm.gray)"
   ]
  },
  {
   "cell_type": "markdown",
   "metadata": {},
   "source": [
    "## Problem A:\n",
    "The matrix `Ab` is a matrix of 1s and 0s. Plot the singular values of the pictures and compute the best rank $2$ approximation of the matrix and display the image."
   ]
  },
  {
   "cell_type": "code",
   "execution_count": null,
   "metadata": {},
   "outputs": [],
   "source": []
  },
  {
   "cell_type": "markdown",
   "metadata": {},
   "source": [
    "## Problem B:\n",
    "In the above we did not remove the means. Now, for each *row* compute the mean of the row and subtract that number from each of the rows. In math, if we let $M$ be our $d_1 \\times d_2$ image matrix we want to compute\n",
    "$$\n",
    "M - M 1_{d_2} 1_{d_2}^T/d_2\n",
    "$$\n",
    "where again $1_{d_2}$ is the all ones *column* vector of length $d_2$. Note, above is slightly different than what happened in class with the TOY example where we removed another mean."
   ]
  },
  {
   "cell_type": "code",
   "execution_count": null,
   "metadata": {},
   "outputs": [],
   "source": []
  },
  {
   "cell_type": "markdown",
   "metadata": {},
   "source": [
    "## Problem C:\n",
    "Now that we have removed the mean. Let's again plot the singular values of the shifted image and recompute the best rank $2$ approximation. Plot the picture by adding back the mean. Do you notice any qualitative differences between the images or the new plots of the singular values?"
   ]
  },
  {
   "cell_type": "code",
   "execution_count": null,
   "metadata": {
    "collapsed": true
   },
   "outputs": [],
   "source": []
  },
  {
   "cell_type": "markdown",
   "metadata": {},
   "source": [
    "Type your brief explanation of the qualitative differences here."
   ]
  },
  {
   "cell_type": "markdown",
   "metadata": {},
   "source": [
    "# Visualization of MNIST"
   ]
  },
  {
   "cell_type": "markdown",
   "metadata": {},
   "source": [
    "## Problem A: Load the MNIST data\n",
    "Load the MNIST dataset including the images and labels. This will involve you finding the appropriate data again. You can use the previous assignment. Should should have a `labels` array that is `60000x1` and an `mnist` 2-D array that is `60000x(28*28)`"
   ]
  },
  {
   "cell_type": "code",
   "execution_count": 5,
   "metadata": {
    "collapsed": true
   },
   "outputs": [],
   "source": [
    "import numpy as np"
   ]
  },
  {
   "cell_type": "code",
   "execution_count": 6,
   "metadata": {
    "collapsed": true
   },
   "outputs": [],
   "source": [
    "import gzip\n",
    "with gzip.open('train-images-idx3-ubyte.gz', 'rb') as f:\n",
    "    train_images = f.read()\n",
    "\n",
    "with gzip.open('train-labels-idx1-ubyte.gz','rb') as f:\n",
    "    train_labels = f.read()\n",
    "    "
   ]
  },
  {
   "cell_type": "code",
   "execution_count": 7,
   "metadata": {},
   "outputs": [],
   "source": [
    "labels=np.array(bytearray(train_labels[8:]))\n",
    "A=np.array(bytearray(train_images[16:]))\n",
    "A=A.reshape(60000,28*28)"
   ]
  },
  {
   "cell_type": "markdown",
   "metadata": {},
   "source": [
    "## Problem B: Separate the data into 0s and 8s\n",
    "Now, we will separate the data into $0$ and $8$ values. You should be left with $11774$ images."
   ]
  },
  {
   "cell_type": "code",
   "execution_count": 10,
   "metadata": {
    "collapsed": true
   },
   "outputs": [],
   "source": [
    "I=np.logical_or(labels==0,labels==8)\n",
    "mnist=A"
   ]
  },
  {
   "cell_type": "code",
   "execution_count": 11,
   "metadata": {},
   "outputs": [],
   "source": [
    "## you need to find an appropriate choice for I to subselect the appropriate examples\n",
    "mnist = mnist[I,:]"
   ]
  },
  {
   "cell_type": "markdown",
   "metadata": {},
   "source": [
    "## Problem C: Compute the average image.\n",
    "Plot a picture of the average image. That is, compute the mean over all images, and then use `plt.imshow`"
   ]
  },
  {
   "cell_type": "code",
   "execution_count": 16,
   "metadata": {},
   "outputs": [],
   "source": [
    "mu=np.mean(mnist,axis=0)\n",
    "\n",
    "plt.imshow(mu.reshape(28,28),cmap=plt.cm.gray)"
   ]
  },
  {
   "cell_type": "markdown",
   "metadata": {},
   "source": [
    "## Problem D: Subtract the average image from all of the examples\n",
    "Use broadcasting to subtract the average image from all of the examples. Same the average image as `mu` and save the new matrix as `mnist_centered`"
   ]
  },
  {
   "cell_type": "code",
   "execution_count": 21,
   "metadata": {
    "collapsed": true
   },
   "outputs": [],
   "source": [
    "mnist_centered=mnist-mu"
   ]
  },
  {
   "cell_type": "code",
   "execution_count": 22,
   "metadata": {
    "collapsed": true
   },
   "outputs": [],
   "source": [
    "assert np.all(np.isclose(np.sum(mnist_centered,axis=0),0))"
   ]
  },
  {
   "cell_type": "markdown",
   "metadata": {},
   "source": [
    "## Problem E: Perform pca and visualize the points on the 2-D V-space (head-tilt space)\n",
    "Plot the points on the 2-D V-space found by projecting your data onto the top two principal components"
   ]
  },
  {
   "cell_type": "code",
   "execution_count": 1,
   "metadata": {},
   "outputs": [
    {
     "ename": "NameError",
     "evalue": "name 'np' is not defined",
     "output_type": "error",
     "traceback": [
      "\u001b[0;31m---------------------------------------------------------------------------\u001b[0m",
      "\u001b[0;31mNameError\u001b[0m                                 Traceback (most recent call last)",
      "\u001b[0;32m<ipython-input-1-16f1db83d682>\u001b[0m in \u001b[0;36m<module>\u001b[0;34m()\u001b[0m\n\u001b[0;32m----> 1\u001b[0;31m \u001b[0mU\u001b[0m\u001b[0;34m,\u001b[0m\u001b[0mS\u001b[0m\u001b[0;34m,\u001b[0m\u001b[0mV\u001b[0m\u001b[0;34m=\u001b[0m\u001b[0mnp\u001b[0m\u001b[0;34m.\u001b[0m\u001b[0mlinalg\u001b[0m\u001b[0;34m.\u001b[0m\u001b[0msvd\u001b[0m\u001b[0;34m(\u001b[0m\u001b[0mmnist_centered\u001b[0m\u001b[0;34m,\u001b[0m\u001b[0mfull_matrices\u001b[0m\u001b[0;34m=\u001b[0m\u001b[0;36m0\u001b[0m\u001b[0;34m)\u001b[0m\u001b[0;34m\u001b[0m\u001b[0m\n\u001b[0m\u001b[1;32m      2\u001b[0m \u001b[0;34m\u001b[0m\u001b[0m\n\u001b[1;32m      3\u001b[0m \u001b[0mlowd\u001b[0m\u001b[0;34m=\u001b[0m\u001b[0mmnist_centered\u001b[0m\u001b[0;34m.\u001b[0m\u001b[0mdot\u001b[0m\u001b[0;34m(\u001b[0m\u001b[0mV\u001b[0m\u001b[0;34m[\u001b[0m\u001b[0;34m:\u001b[0m\u001b[0;36m2\u001b[0m\u001b[0;34m,\u001b[0m\u001b[0;34m:\u001b[0m\u001b[0;34m]\u001b[0m\u001b[0;34m.\u001b[0m\u001b[0mT\u001b[0m\u001b[0;34m)\u001b[0m\u001b[0;34m\u001b[0m\u001b[0m\n\u001b[1;32m      4\u001b[0m \u001b[0;34m\u001b[0m\u001b[0m\n\u001b[1;32m      5\u001b[0m \u001b[0mplt\u001b[0m\u001b[0;34m.\u001b[0m\u001b[0mplot\u001b[0m\u001b[0;34m(\u001b[0m\u001b[0mlowd\u001b[0m\u001b[0;34m[\u001b[0m\u001b[0mlabels\u001b[0m\u001b[0;34m[\u001b[0m\u001b[0mI\u001b[0m\u001b[0;34m]\u001b[0m\u001b[0;34m==\u001b[0m\u001b[0;36m8\u001b[0m\u001b[0;34m,\u001b[0m\u001b[0;36m0\u001b[0m\u001b[0;34m]\u001b[0m\u001b[0;34m,\u001b[0m\u001b[0mlowd\u001b[0m\u001b[0;34m[\u001b[0m\u001b[0mlabels\u001b[0m\u001b[0;34m[\u001b[0m\u001b[0mI\u001b[0m\u001b[0;34m]\u001b[0m\u001b[0;34m==\u001b[0m\u001b[0;36m8\u001b[0m\u001b[0;34m,\u001b[0m\u001b[0;36m1\u001b[0m\u001b[0;34m]\u001b[0m\u001b[0;34m,\u001b[0m\u001b[0;34m'r.'\u001b[0m\u001b[0;34m)\u001b[0m\u001b[0;34m\u001b[0m\u001b[0m\n",
      "\u001b[0;31mNameError\u001b[0m: name 'np' is not defined"
     ]
    }
   ],
   "source": [
    "U,S,V=np.linalg.svd(mnist_centered,full_matrices=0)\n",
    "\n",
    "lowd=mnist_centered.dot(V[:2,:].T)\n",
    "\n",
    "plt.plot(lowd[labels[I]==8,0],lowd[labels[I]==8,1],'r.')\n",
    "plt.plot(lowd[labels[I]==0,0],lowd[labels[I]==0,1],'.')"
   ]
  },
  {
   "cell_type": "markdown",
   "metadata": {},
   "source": [
    "# Linear Regression with PCA.\n",
    "\n",
    "A common technique in practice is to actually use PCA to reduce the computational complexity of the linear regression problem as well as improve the statistical performance. The method couples the idea of dimensionality reduction and regularization. Let's generate a dataset\n"
   ]
  },
  {
   "cell_type": "code",
   "execution_count": null,
   "metadata": {},
   "outputs": [],
   "source": [
    "np.random.seed(int((hashlib.md5('snn7')).hexdigest(),16) % 200000)\n",
    "n=1000\n",
    "d=700\n",
    "ustar=np.random.normal(0,1,(1,d))\n",
    "A=np.random.normal(0,1,(n,1)).dot(ustar) + np.random.normal(0,.1,(n,d))\n",
    "xstar=ustar.T\n",
    "b=A.dot(xstar)+np.random.normal(0,1,(n,1))"
   ]
  },
  {
   "cell_type": "markdown",
   "metadata": {},
   "source": [
    "In class we saw how to project the data down to a $2$-dimensional space. Now we want to see how to do that more generally. In order to do so we provide some extra background.\n",
    "\n",
    "## SVD Expansion\n",
    "Recall that the SVD of a matrix $M \\in \\mathbb{R}^{d_1 \\times d_2}$ is\n",
    "$$\n",
    "M = U S V^T\n",
    "$$\n",
    "where $U$ and $V$ are orthogonal matrices and $S$ is a diagonal matrix. The columns of $U$ are denoted the left singular vectors and the columns of $V$ are denoted that right singular vectors. Let $u_i = U[:,i]$ and $v_i = V[:,i]$. The elements $S[i,i]$ are the singular values of the matrix $M$. Let's let $R = S V^T$ (We are using $R$ for right). Then,\n",
    "$$\n",
    "M[:,i] = \\sum_{j=1}^{d_1} u_j R[j,i]\n",
    "$$\n",
    "In words, the $i^{th}$ column of $M$ is some linear combination of the orthogonal vectors $u_j$. Specifically, they are weighted by $R[j,i]$. Thus, $R[j,i]$ is denoted as the coordinate of column $i$ with respect to $u_j$. Furthermore, because the $u_j$ are orthogonal we can think of the coordinates as belonging to an orthogonal system. The use of this is that we can plot, for example, $R[1,:]$ on the $y$-axis and $R[0,:]$ on the $x$-axis as we did in class.\n",
    "### How do we find $R$?\n",
    "In order to find $R$ we can apply the orthogonality of $U$. From above, $M = U R$. Recall that $U^T U = I$. Therefore,\n",
    "$$\n",
    "R = U^T M\n",
    "$$\n",
    "From that, we can simply extract the different rows of $R$ to obtain the coordinates for each of the different singular vectors $u_j$. Now, since we sorted the diagonal entries of $S$ in decreasing order, the rows capture the information of the matrix $M$ in decreasing order as well.\n",
    "\n",
    "*Everything we just did with respect to columns carries over with the rows as well*\n",
    "\n",
    "## Where does linear regression fit?\n",
    "\n",
    "In linear regressin we have a matrix $A \\in \\mathbb{R}^{n \\times d}$ where we take $n$ to be the number of examples and $d$ is the number of features that each example has. We also have an outcomes $b \\in \\mathbb{R}^n$. The common way of solving linear regression that we have focused on is ordinary least squares (OLS) where we solve\n",
    "$$\n",
    "\\hat{x} \\in \\arg \\min_{x} \\|A x -b \\|_2^2\n",
    "$$\n",
    "Sometimes, the matrix $A$ might be well approximated by some low-rank matrix."
   ]
  },
  {
   "cell_type": "markdown",
   "metadata": {},
   "source": [
    "# Problem D:\n",
    "Find the rank $2$ matrix $\\hat{A}_2$ such that\n",
    "$$\n",
    "\\|\\hat{A}_2 - A\\|_F^2 = \\sum_{i,j} (\\hat{A}_2[i,j] - A[i,j])^2\n",
    "$$\n",
    "is minimized"
   ]
  },
  {
   "cell_type": "code",
   "execution_count": null,
   "metadata": {},
   "outputs": [],
   "source": [
    "u,s,v=np.linalg.svd(A,full_matrices=False)\n",
    "##add extra code here"
   ]
  },
  {
   "cell_type": "markdown",
   "metadata": {},
   "source": [
    "# Problem E:\n",
    "Now more generally write a python function that computes the best rank $r$ matrix $\\hat{A}_r$ such that\n",
    "$$\n",
    "\\|\\hat{A}_r - A\\|_F^2 = \\sum_{i,j} (\\hat{A}[i,j] - A[i,j])^2\n",
    "$$\n",
    "is minimized over all rank $r$ matrices."
   ]
  },
  {
   "cell_type": "code",
   "execution_count": null,
   "metadata": {
    "collapsed": true
   },
   "outputs": [],
   "source": [
    "def bestrankr(A,r):\n",
    "    return np.zeros((A.shape[0],A.shape[1]))"
   ]
  },
  {
   "cell_type": "code",
   "execution_count": null,
   "metadata": {},
   "outputs": [],
   "source": [
    "assert np.isclose(np.linalg.norm(Ahat_2-bestrankr(A,2)),0)"
   ]
  },
  {
   "cell_type": "markdown",
   "metadata": {},
   "source": [
    "# Problem F:\n",
    "We want to find a closed form solution of \n",
    "$$\n",
    "x_{k} \\in \\arg \\min_x \\|\\hat{A}_k x - b\\|_2^2\n",
    "$$\n",
    "In this case you will not be able to use `np.linalg.solve` because you will get a matrix is singular warning. Instead, use the singular value decomposition. As a hint, recall that the optimality conditions state\n",
    "$$\n",
    "\\hat{A}_k^T \\hat{A}_k x_k = \\hat{A}_k^T b\n",
    "$$\n",
    "We can't invert the matrix on the left. However, we can use that fact that if $A = U S V^T$ is the singular value decomposition, then $U^T U = I$. Algorithmically, gradient descent will still work in this setting.\n",
    "\n",
    "Write your solution with respect to the matrices $U$, $S$, and $V$. Also write a function to compute the solution."
   ]
  },
  {
   "cell_type": "markdown",
   "metadata": {},
   "source": [
    "Type your solution here:\n",
    "    $$\n",
    "x = 0 \\times U \\times V\n",
    "$$"
   ]
  },
  {
   "cell_type": "code",
   "execution_count": null,
   "metadata": {
    "collapsed": true
   },
   "outputs": [],
   "source": [
    "def computerankleastsquares(A,b,k):\n",
    "    return np.zeros((A.shape[1],1))"
   ]
  },
  {
   "cell_type": "code",
   "execution_count": null,
   "metadata": {},
   "outputs": [],
   "source": []
  },
  {
   "cell_type": "markdown",
   "metadata": {},
   "source": [
    "# Problem G:\n",
    "Now, using cross-validation from the part 1, compute the optimal $k$ for minimizing the error. You cannot use the test set."
   ]
  },
  {
   "cell_type": "code",
   "execution_count": null,
   "metadata": {
    "collapsed": true
   },
   "outputs": [],
   "source": []
  },
  {
   "cell_type": "markdown",
   "metadata": {},
   "source": [
    "Let\n",
    "$$\n",
    "V_k = \\left ( v_1 v_2 ... v_k \\right )\n",
    "$$\n",
    "be the $d \\times k$ matrix of just the first $k$ columns of the matrix $V$ of right singular vectors of the matrix $A$. Again, please read the numpy documentation for `np.linalg.svd` because of how it outputs the matrix $V$.\n",
    "\n",
    "Let's generate a new test set.\n"
   ]
  },
  {
   "cell_type": "code",
   "execution_count": null,
   "metadata": {},
   "outputs": [],
   "source": [
    "Atest=np.random.normal(0,1,(n,1)).dot(ustar) + np.random.normal(0,.1,(n,d))\n",
    "btest=Atest.dot(xstar)+np.random.normal(0,1,(n,1))"
   ]
  },
  {
   "cell_type": "markdown",
   "metadata": {},
   "source": [
    "Now on the test set, compare the test error between  $\\|A_{test} \\hat{x} - b_{test}\\|_2^2$, $\\|A_{test} x_k - b_{test}\\|_2^2$, $\\|A_{test} V_k V_k^T \\hat{x} - b_{test}\\|_2^2$, and $\\|A_{test} V_k V_k^T x_k - b_{test}\\|_2^2$. Can you explain the differences?"
   ]
  },
  {
   "cell_type": "code",
   "execution_count": null,
   "metadata": {
    "collapsed": true
   },
   "outputs": [],
   "source": []
  },
  {
   "cell_type": "markdown",
   "metadata": {},
   "source": [
    "# Problem H (Bonus):\n",
    "Can you find any connections between ridge regression from the previous problem and low-rank regularized linear regression?"
   ]
  },
  {
   "cell_type": "markdown",
   "metadata": {},
   "source": [
    "Type your solution here."
   ]
  },
  {
   "cell_type": "code",
   "execution_count": 37,
   "metadata": {},
   "outputs": [
    {
     "data": {
      "text/plain": [
       "[<matplotlib.lines.Line2D at 0x10db6f210>]"
      ]
     },
     "execution_count": 37,
     "metadata": {},
     "output_type": "execute_result"
    },
    {
     "data": {
      "image/png": "[encoded data removed]",
      "text/plain": [
       "<matplotlib.figure.Figure at 0x12745c450>"
      ]
     },
     "metadata": {},
     "output_type": "display_data"
    }
   ],
   "source": [
    "t=np.linspace(0,.00001,num=1000)\n",
    "plt.plot(t,np.exp(t)-1-t-t**2)"
   ]
  },
  {
   "cell_type": "code",
   "execution_count": null,
   "metadata": {
    "collapsed": true
   },
   "outputs": [],
   "source": []
  }
 ],
 "metadata": {
  "kernelspec": {
   "display_name": "Python 3",
   "language": "python",
   "name": "python3"
  },
  "language_info": {
   "codemirror_mode": {
    "name": "ipython",
    "version": 3
   },
   "file_extension": ".py",
   "mimetype": "text/x-python",
   "name": "python",
   "nbconvert_exporter": "python",
   "pygments_lexer": "ipython3",
   "version": "3.6.5"
  }
 },
 "nbformat": 4,
 "nbformat_minor": 1
}
