{
 "cells": [
  {
   "cell_type": "markdown",
   "metadata": {},
   "source": [
    "# HW3, Movies\n",
    "You will write you homework into this notebook.\n",
    "You should probably create another notebook to test out your solutions.\n",
    "After you are finished, make sure that your notebook can be run.\n",
    "Run your notebook, and submit the results.\n",
    "Do not delete the notebook cells that we supplied.\n",
    "Add as many cells as you need.\n",
    "\n",
    "<b>Fill in your name and netid in the following lines</b>"
   ]
  },
  {
   "cell_type": "code",
   "execution_count": 1,
   "metadata": {
    "collapsed": false
   },
   "outputs": [
    {
     "name": "stdout",
     "output_type": "stream",
     "text": [
      "xxx\n",
      "xxx yyy\n"
     ]
    }
   ],
   "source": [
    "netid = \"xxx\"\n",
    "name = \"xxx yyy\"\n",
    "print netid\n",
    "print name"
   ]
  },
  {
   "cell_type": "markdown",
   "metadata": {},
   "source": [
    "<b>The following lines import the modules we will use.\n",
    "Do not import any others</b>"
   ]
  },
  {
   "cell_type": "code",
   "execution_count": 2,
   "metadata": {
    "collapsed": false
   },
   "outputs": [],
   "source": [
    "import pickle\n",
    "import hashlib\n",
    "import numpy as np\n",
    "import matplotlib.pyplot as plt\n",
    "import pandas as pd\n",
    "%matplotlib notebook"
   ]
  },
  {
   "cell_type": "markdown",
   "metadata": {},
   "source": [
    "## 1. Create a DataFrame by reading in movies.csv"
   ]
  },
  {
   "cell_type": "code",
   "execution_count": 3,
   "metadata": {
    "collapsed": true
   },
   "outputs": [],
   "source": [
    "moviedata=pd.read_csv(\"movies.csv\")"
   ]
  },
  {
   "cell_type": "code",
   "execution_count": null,
   "metadata": {
    "collapsed": true
   },
   "outputs": [],
   "source": []
  },
  {
   "cell_type": "markdown",
   "metadata": {},
   "source": [
    "## keep only the following columns:\n",
    "title, id, rtAllCriticsRating, rtAllCriticsNumReviews\n",
    "\n",
    "Feel free to give them more useful names.  Produce something like this.\n",
    "It does not have to be exactly like this.  This is just an example.\n",
    "Anything you can use to solve the rest will suffice."
   ]
  },
  {
   "cell_type": "code",
   "execution_count": 4,
   "metadata": {
    "collapsed": false
   },
   "outputs": [],
   "source": [
    "moviedata=moviedata[[\"title\",\"id\",\"rtAllCriticsRating\",\"rtAllCriticsNumReviews\"]]"
   ]
  },
  {
   "cell_type": "markdown",
   "metadata": {},
   "source": [
    "## 3. Make the ratings numeric.\n",
    "Check the dtypes of your DataFrame.  \n",
    "If the movie ratings are strings, force them to be numeric (say float64).\n",
    "Remove all movies with null ratings and all movies that have no reviews.\n",
    "Give evidence that you did this successfully.\n",
    "\n",
    "Hint: look up the Pandas function `to_numeric`.  It gives one way of doing this.  There are others.\n",
    "    "
   ]
  },
  {
   "cell_type": "code",
   "execution_count": 5,
   "metadata": {
    "collapsed": false
   },
   "outputs": [],
   "source": [
    "movieNum=moviedata\n",
    "mytonumeric=lambda (x): pd.to_numeric(x,errors=\"coerce\")"
   ]
  },
  {
   "cell_type": "code",
   "execution_count": 6,
   "metadata": {
    "collapsed": false
   },
   "outputs": [],
   "source": [
    "G=movieNum[[\"rtAllCriticsRating\",\"rtAllCriticsNumReviews\"]].apply(mytonumeric)"
   ]
  },
  {
   "cell_type": "code",
   "execution_count": 7,
   "metadata": {
    "collapsed": false
   },
   "outputs": [
    {
     "data": {
      "text/plain": [
       "(9312, 4)"
      ]
     },
     "execution_count": 7,
     "metadata": {},
     "output_type": "execute_result"
    }
   ],
   "source": [
    "movieNum[[\"rtAllCriticsRating\",\"rtAllCriticsNumReviews\"]]=G\n",
    "movieNumA=movieNum[movieNum.rtAllCriticsNumReviews>0]\n",
    "movieNumA.shape"
   ]
  },
  {
   "cell_type": "markdown",
   "metadata": {
    "collapsed": false
   },
   "source": [
    "## Sanity check: you should now have 9312 movies in your table.\n",
    "Show us that you do."
   ]
  },
  {
   "cell_type": "code",
   "execution_count": 8,
   "metadata": {
    "collapsed": false
   },
   "outputs": [
    {
     "data": {
      "text/plain": [
       "(9312, 4)"
      ]
     },
     "execution_count": 8,
     "metadata": {},
     "output_type": "execute_result"
    }
   ],
   "source": [
    "movieNumA.shape"
   ]
  },
  {
   "cell_type": "markdown",
   "metadata": {},
   "source": [
    "## 4. Show us the 10 movies with the highest ratings, and the 10 with the lowest ratings.\n",
    "We show the top and bottom 3."
   ]
  },
  {
   "cell_type": "code",
   "execution_count": 9,
   "metadata": {
    "collapsed": false
   },
   "outputs": [
    {
     "data": {
      "text/html": [
       "<div>\n",
       "<table border=\"1\" class=\"dataframe\">\n",
       "  <thead>\n",
       "    <tr style=\"text-align: right;\">\n",
       "      <th></th>\n",
       "      <th>title</th>\n",
       "      <th>id</th>\n",
       "      <th>rtAllCriticsRating</th>\n",
       "      <th>rtAllCriticsNumReviews</th>\n",
       "    </tr>\n",
       "  </thead>\n",
       "  <tbody>\n",
       "    <tr>\n",
       "      <th>6263</th>\n",
       "      <td>T�ky� monogatari</td>\n",
       "      <td>6643</td>\n",
       "      <td>9.6</td>\n",
       "      <td>34.0</td>\n",
       "    </tr>\n",
       "    <tr>\n",
       "      <th>7595</th>\n",
       "      <td>Our Hospitality</td>\n",
       "      <td>8609</td>\n",
       "      <td>9.5</td>\n",
       "      <td>17.0</td>\n",
       "    </tr>\n",
       "    <tr>\n",
       "      <th>8060</th>\n",
       "      <td>Orph�e</td>\n",
       "      <td>25954</td>\n",
       "      <td>9.5</td>\n",
       "      <td>15.0</td>\n",
       "    </tr>\n",
       "    <tr>\n",
       "      <th>842</th>\n",
       "      <td>Citizen Kane</td>\n",
       "      <td>923</td>\n",
       "      <td>9.4</td>\n",
       "      <td>54.0</td>\n",
       "    </tr>\n",
       "    <tr>\n",
       "      <th>6591</th>\n",
       "      <td>Ordet</td>\n",
       "      <td>6981</td>\n",
       "      <td>9.4</td>\n",
       "      <td>11.0</td>\n",
       "    </tr>\n",
       "    <tr>\n",
       "      <th>7525</th>\n",
       "      <td>Show Boat</td>\n",
       "      <td>8502</td>\n",
       "      <td>9.4</td>\n",
       "      <td>8.0</td>\n",
       "    </tr>\n",
       "    <tr>\n",
       "      <th>1138</th>\n",
       "      <td>Chinatown</td>\n",
       "      <td>1252</td>\n",
       "      <td>9.3</td>\n",
       "      <td>47.0</td>\n",
       "    </tr>\n",
       "    <tr>\n",
       "      <th>2502</th>\n",
       "      <td>Les quatre cents coups</td>\n",
       "      <td>2731</td>\n",
       "      <td>9.3</td>\n",
       "      <td>48.0</td>\n",
       "    </tr>\n",
       "    <tr>\n",
       "      <th>7987</th>\n",
       "      <td>Greed</td>\n",
       "      <td>25753</td>\n",
       "      <td>9.3</td>\n",
       "      <td>16.0</td>\n",
       "    </tr>\n",
       "    <tr>\n",
       "      <th>8080</th>\n",
       "      <td>Pickpocket</td>\n",
       "      <td>26052</td>\n",
       "      <td>9.3</td>\n",
       "      <td>19.0</td>\n",
       "    </tr>\n",
       "  </tbody>\n",
       "</table>\n",
       "</div>"
      ],
      "text/plain": [
       "                       title     id  rtAllCriticsRating  \\\n",
       "6263        T�ky� monogatari   6643                 9.6   \n",
       "7595         Our Hospitality   8609                 9.5   \n",
       "8060                  Orph�e  25954                 9.5   \n",
       "842             Citizen Kane    923                 9.4   \n",
       "6591                   Ordet   6981                 9.4   \n",
       "7525               Show Boat   8502                 9.4   \n",
       "1138               Chinatown   1252                 9.3   \n",
       "2502  Les quatre cents coups   2731                 9.3   \n",
       "7987                   Greed  25753                 9.3   \n",
       "8080              Pickpocket  26052                 9.3   \n",
       "\n",
       "      rtAllCriticsNumReviews  \n",
       "6263                    34.0  \n",
       "7595                    17.0  \n",
       "8060                    15.0  \n",
       "842                     54.0  \n",
       "6591                    11.0  \n",
       "7525                     8.0  \n",
       "1138                    47.0  \n",
       "2502                    48.0  \n",
       "7987                    16.0  \n",
       "8080                    19.0  "
      ]
     },
     "execution_count": 9,
     "metadata": {},
     "output_type": "execute_result"
    }
   ],
   "source": [
    "movieNumA.nlargest(10,\"rtAllCriticsRating\")"
   ]
  },
  {
   "cell_type": "code",
   "execution_count": 10,
   "metadata": {
    "collapsed": false
   },
   "outputs": [
    {
     "data": {
      "text/html": [
       "<div>\n",
       "<table border=\"1\" class=\"dataframe\">\n",
       "  <thead>\n",
       "    <tr style=\"text-align: right;\">\n",
       "      <th></th>\n",
       "      <th>title</th>\n",
       "      <th>id</th>\n",
       "      <th>rtAllCriticsRating</th>\n",
       "      <th>rtAllCriticsNumReviews</th>\n",
       "    </tr>\n",
       "  </thead>\n",
       "  <tbody>\n",
       "    <tr>\n",
       "      <th>32</th>\n",
       "      <td>Wings of Courage</td>\n",
       "      <td>33</td>\n",
       "      <td>0.0</td>\n",
       "      <td>4.0</td>\n",
       "    </tr>\n",
       "    <tr>\n",
       "      <th>36</th>\n",
       "      <td>Across the Sea of Time</td>\n",
       "      <td>37</td>\n",
       "      <td>0.0</td>\n",
       "      <td>4.0</td>\n",
       "    </tr>\n",
       "    <tr>\n",
       "      <th>57</th>\n",
       "      <td>Le confessionnal</td>\n",
       "      <td>59</td>\n",
       "      <td>0.0</td>\n",
       "      <td>1.0</td>\n",
       "    </tr>\n",
       "    <tr>\n",
       "      <th>121</th>\n",
       "      <td>The Neverending Story III</td>\n",
       "      <td>126</td>\n",
       "      <td>0.0</td>\n",
       "      <td>3.0</td>\n",
       "    </tr>\n",
       "    <tr>\n",
       "      <th>122</th>\n",
       "      <td>Jupiter's Wife</td>\n",
       "      <td>128</td>\n",
       "      <td>0.0</td>\n",
       "      <td>4.0</td>\n",
       "    </tr>\n",
       "    <tr>\n",
       "      <th>123</th>\n",
       "      <td>Pie in the Sky</td>\n",
       "      <td>129</td>\n",
       "      <td>0.0</td>\n",
       "      <td>2.0</td>\n",
       "    </tr>\n",
       "    <tr>\n",
       "      <th>127</th>\n",
       "      <td>Sonic Outlaws</td>\n",
       "      <td>134</td>\n",
       "      <td>0.0</td>\n",
       "      <td>3.0</td>\n",
       "    </tr>\n",
       "    <tr>\n",
       "      <th>180</th>\n",
       "      <td>The Reckless Moment</td>\n",
       "      <td>189</td>\n",
       "      <td>0.0</td>\n",
       "      <td>3.0</td>\n",
       "    </tr>\n",
       "    <tr>\n",
       "      <th>233</th>\n",
       "      <td>Gumby: The Movie</td>\n",
       "      <td>244</td>\n",
       "      <td>0.0</td>\n",
       "      <td>4.0</td>\n",
       "    </tr>\n",
       "    <tr>\n",
       "      <th>270</th>\n",
       "      <td>Nobody's Fool</td>\n",
       "      <td>281</td>\n",
       "      <td>0.0</td>\n",
       "      <td>4.0</td>\n",
       "    </tr>\n",
       "  </tbody>\n",
       "</table>\n",
       "</div>"
      ],
      "text/plain": [
       "                         title   id  rtAllCriticsRating  \\\n",
       "32            Wings of Courage   33                 0.0   \n",
       "36      Across the Sea of Time   37                 0.0   \n",
       "57            Le confessionnal   59                 0.0   \n",
       "121  The Neverending Story III  126                 0.0   \n",
       "122             Jupiter's Wife  128                 0.0   \n",
       "123             Pie in the Sky  129                 0.0   \n",
       "127              Sonic Outlaws  134                 0.0   \n",
       "180        The Reckless Moment  189                 0.0   \n",
       "233           Gumby: The Movie  244                 0.0   \n",
       "270              Nobody's Fool  281                 0.0   \n",
       "\n",
       "     rtAllCriticsNumReviews  \n",
       "32                      4.0  \n",
       "36                      4.0  \n",
       "57                      1.0  \n",
       "121                     3.0  \n",
       "122                     4.0  \n",
       "123                     2.0  \n",
       "127                     3.0  \n",
       "180                     3.0  \n",
       "233                     4.0  \n",
       "270                     4.0  "
      ]
     },
     "execution_count": 10,
     "metadata": {},
     "output_type": "execute_result"
    }
   ],
   "source": [
    "movieNumA.nsmallest(10,\"rtAllCriticsRating\")"
   ]
  },
  {
   "cell_type": "code",
   "execution_count": null,
   "metadata": {
    "collapsed": true
   },
   "outputs": [],
   "source": []
  },
  {
   "cell_type": "code",
   "execution_count": null,
   "metadata": {
    "collapsed": true
   },
   "outputs": [],
   "source": []
  },
  {
   "cell_type": "code",
   "execution_count": null,
   "metadata": {
    "collapsed": true
   },
   "outputs": [],
   "source": []
  },
  {
   "cell_type": "markdown",
   "metadata": {},
   "source": [
    "## 5. Create a DataFrame from `movie_actors.csv`."
   ]
  },
  {
   "cell_type": "code",
   "execution_count": 11,
   "metadata": {
    "collapsed": false
   },
   "outputs": [],
   "source": [
    "movieactors=pd.read_csv(\"movie_actors.csv\")"
   ]
  },
  {
   "cell_type": "code",
   "execution_count": null,
   "metadata": {
    "collapsed": true
   },
   "outputs": [],
   "source": []
  },
  {
   "cell_type": "markdown",
   "metadata": {},
   "source": [
    "Apply head() to it.  You should get something like the following.\n",
    "The movieID is the same as in our other file.\n",
    "We will identify the actors by their actorIDs.\n",
    "We will ignore the ranking, which is the order in which the actors were listed."
   ]
  },
  {
   "cell_type": "code",
   "execution_count": 12,
   "metadata": {
    "collapsed": false
   },
   "outputs": [
    {
     "data": {
      "text/html": [
       "<div>\n",
       "<table border=\"1\" class=\"dataframe\">\n",
       "  <thead>\n",
       "    <tr style=\"text-align: right;\">\n",
       "      <th></th>\n",
       "      <th>movieID</th>\n",
       "      <th>actorID</th>\n",
       "      <th>actorName</th>\n",
       "      <th>ranking</th>\n",
       "    </tr>\n",
       "  </thead>\n",
       "  <tbody>\n",
       "    <tr>\n",
       "      <th>0</th>\n",
       "      <td>1</td>\n",
       "      <td>annie_potts</td>\n",
       "      <td>Annie Potts</td>\n",
       "      <td>10</td>\n",
       "    </tr>\n",
       "    <tr>\n",
       "      <th>1</th>\n",
       "      <td>1</td>\n",
       "      <td>bill_farmer</td>\n",
       "      <td>Bill Farmer</td>\n",
       "      <td>20</td>\n",
       "    </tr>\n",
       "    <tr>\n",
       "      <th>2</th>\n",
       "      <td>1</td>\n",
       "      <td>don_rickles</td>\n",
       "      <td>Don Rickles</td>\n",
       "      <td>3</td>\n",
       "    </tr>\n",
       "    <tr>\n",
       "      <th>3</th>\n",
       "      <td>1</td>\n",
       "      <td>erik_von_detten</td>\n",
       "      <td>Erik von Detten</td>\n",
       "      <td>13</td>\n",
       "    </tr>\n",
       "    <tr>\n",
       "      <th>4</th>\n",
       "      <td>1</td>\n",
       "      <td>greg-berg</td>\n",
       "      <td>Greg Berg</td>\n",
       "      <td>17</td>\n",
       "    </tr>\n",
       "  </tbody>\n",
       "</table>\n",
       "</div>"
      ],
      "text/plain": [
       "   movieID          actorID        actorName  ranking\n",
       "0        1      annie_potts      Annie Potts       10\n",
       "1        1      bill_farmer      Bill Farmer       20\n",
       "2        1      don_rickles      Don Rickles        3\n",
       "3        1  erik_von_detten  Erik von Detten       13\n",
       "4        1        greg-berg        Greg Berg       17"
      ]
     },
     "execution_count": 12,
     "metadata": {},
     "output_type": "execute_result"
    }
   ],
   "source": [
    "movieactors.head()"
   ]
  },
  {
   "cell_type": "markdown",
   "metadata": {},
   "source": [
    "## 6. Merge these two DataFrames together on movieID.\n",
    "This will take a little work.\n",
    "You should get something like the following."
   ]
  },
  {
   "cell_type": "code",
   "execution_count": 13,
   "metadata": {
    "collapsed": false
   },
   "outputs": [],
   "source": [
    "movieactors=movieactors.rename(columns = {'movieID':'id'})"
   ]
  },
  {
   "cell_type": "code",
   "execution_count": 14,
   "metadata": {
    "collapsed": true
   },
   "outputs": [],
   "source": [
    "moviemerged=movieactors.merge(movieNumA,on=\"id\")"
   ]
  },
  {
   "cell_type": "markdown",
   "metadata": {},
   "source": [
    "## 7. The best actors.\n",
    "For each actor, compute the average rating of the movies in which that actor appears.  View this as a rating of that actor.  Find the 10 actors with the highest ratings.  We give the top 3."
   ]
  },
  {
   "cell_type": "code",
   "execution_count": 15,
   "metadata": {
    "collapsed": false
   },
   "outputs": [
    {
     "data": {
      "text/html": [
       "<div>\n",
       "<table border=\"1\" class=\"dataframe\">\n",
       "  <thead>\n",
       "    <tr style=\"text-align: right;\">\n",
       "      <th></th>\n",
       "      <th>id</th>\n",
       "      <th>actorID</th>\n",
       "      <th>actorName</th>\n",
       "      <th>ranking</th>\n",
       "      <th>title</th>\n",
       "      <th>rtAllCriticsRating</th>\n",
       "      <th>rtAllCriticsNumReviews</th>\n",
       "    </tr>\n",
       "  </thead>\n",
       "  <tbody>\n",
       "    <tr>\n",
       "      <th>0</th>\n",
       "      <td>1</td>\n",
       "      <td>annie_potts</td>\n",
       "      <td>Annie Potts</td>\n",
       "      <td>10</td>\n",
       "      <td>Toy story</td>\n",
       "      <td>9.0</td>\n",
       "      <td>73.0</td>\n",
       "    </tr>\n",
       "    <tr>\n",
       "      <th>1</th>\n",
       "      <td>1</td>\n",
       "      <td>bill_farmer</td>\n",
       "      <td>Bill Farmer</td>\n",
       "      <td>20</td>\n",
       "      <td>Toy story</td>\n",
       "      <td>9.0</td>\n",
       "      <td>73.0</td>\n",
       "    </tr>\n",
       "    <tr>\n",
       "      <th>2</th>\n",
       "      <td>1</td>\n",
       "      <td>don_rickles</td>\n",
       "      <td>Don Rickles</td>\n",
       "      <td>3</td>\n",
       "      <td>Toy story</td>\n",
       "      <td>9.0</td>\n",
       "      <td>73.0</td>\n",
       "    </tr>\n",
       "    <tr>\n",
       "      <th>3</th>\n",
       "      <td>1</td>\n",
       "      <td>erik_von_detten</td>\n",
       "      <td>Erik von Detten</td>\n",
       "      <td>13</td>\n",
       "      <td>Toy story</td>\n",
       "      <td>9.0</td>\n",
       "      <td>73.0</td>\n",
       "    </tr>\n",
       "    <tr>\n",
       "      <th>4</th>\n",
       "      <td>1</td>\n",
       "      <td>greg-berg</td>\n",
       "      <td>Greg Berg</td>\n",
       "      <td>17</td>\n",
       "      <td>Toy story</td>\n",
       "      <td>9.0</td>\n",
       "      <td>73.0</td>\n",
       "    </tr>\n",
       "  </tbody>\n",
       "</table>\n",
       "</div>"
      ],
      "text/plain": [
       "   id          actorID        actorName  ranking      title  \\\n",
       "0   1      annie_potts      Annie Potts       10  Toy story   \n",
       "1   1      bill_farmer      Bill Farmer       20  Toy story   \n",
       "2   1      don_rickles      Don Rickles        3  Toy story   \n",
       "3   1  erik_von_detten  Erik von Detten       13  Toy story   \n",
       "4   1        greg-berg        Greg Berg       17  Toy story   \n",
       "\n",
       "   rtAllCriticsRating  rtAllCriticsNumReviews  \n",
       "0                 9.0                    73.0  \n",
       "1                 9.0                    73.0  \n",
       "2                 9.0                    73.0  \n",
       "3                 9.0                    73.0  \n",
       "4                 9.0                    73.0  "
      ]
     },
     "execution_count": 15,
     "metadata": {},
     "output_type": "execute_result"
    }
   ],
   "source": [
    "moviemerged.head()"
   ]
  },
  {
   "cell_type": "code",
   "execution_count": 16,
   "metadata": {
    "collapsed": false
   },
   "outputs": [
    {
     "data": {
      "text/html": [
       "<div>\n",
       "<table border=\"1\" class=\"dataframe\">\n",
       "  <thead>\n",
       "    <tr style=\"text-align: right;\">\n",
       "      <th></th>\n",
       "      <th>rtAllCriticsRating</th>\n",
       "    </tr>\n",
       "    <tr>\n",
       "      <th>actorID</th>\n",
       "      <th></th>\n",
       "    </tr>\n",
       "  </thead>\n",
       "  <tbody>\n",
       "    <tr>\n",
       "      <th>mitsuhiro_mori</th>\n",
       "      <td>9.6</td>\n",
       "    </tr>\n",
       "    <tr>\n",
       "      <th>shiro_osaka</th>\n",
       "      <td>9.6</td>\n",
       "    </tr>\n",
       "    <tr>\n",
       "      <th>toru-abe</th>\n",
       "      <td>9.6</td>\n",
       "    </tr>\n",
       "  </tbody>\n",
       "</table>\n",
       "</div>"
      ],
      "text/plain": [
       "                rtAllCriticsRating\n",
       "actorID                           \n",
       "mitsuhiro_mori                 9.6\n",
       "shiro_osaka                    9.6\n",
       "toru-abe                       9.6"
      ]
     },
     "execution_count": 16,
     "metadata": {},
     "output_type": "execute_result"
    }
   ],
   "source": [
    "(moviemerged[[\"actorID\",\"rtAllCriticsRating\"]].groupby(\"actorID\")).aggregate(np.mean).nlargest(3,\"rtAllCriticsRating\")"
   ]
  },
  {
   "cell_type": "code",
   "execution_count": null,
   "metadata": {
    "collapsed": true
   },
   "outputs": [],
   "source": []
  },
  {
   "cell_type": "markdown",
   "metadata": {},
   "source": [
    "Some of these actors might look great just because they appeared in only one movie,\n",
    "and it was good.  \n",
    "We now restrict to actors that appeared in many movies."
   ]
  },
  {
   "cell_type": "markdown",
   "metadata": {
    "collapsed": true
   },
   "source": [
    "## 8. Restricting to popular actors.\n",
    "For each actor, find the number of movies in which that actor appeared.\n",
    "Create a new DataFrame only contining actors who appeared in at least 37 movies.\n",
    "This should give you 101 actors and 4500 rows.\n",
    "\n",
    "Hint: one approach uses the Pandas method `isin` mentioned at the end of Lecture 6.\n",
    "Another approach produces counts of movies per actor, like that below."
   ]
  },
  {
   "cell_type": "code",
   "execution_count": 17,
   "metadata": {
    "collapsed": false
   },
   "outputs": [
    {
     "data": {
      "text/html": [
       "<div>\n",
       "<table border=\"1\" class=\"dataframe\">\n",
       "  <thead>\n",
       "    <tr style=\"text-align: right;\">\n",
       "      <th></th>\n",
       "      <th>id</th>\n",
       "      <th>actorID</th>\n",
       "      <th>actorName</th>\n",
       "      <th>ranking</th>\n",
       "      <th>title</th>\n",
       "      <th>rtAllCriticsRating</th>\n",
       "      <th>rtAllCriticsNumReviews</th>\n",
       "    </tr>\n",
       "  </thead>\n",
       "  <tbody>\n",
       "    <tr>\n",
       "      <th>0</th>\n",
       "      <td>1</td>\n",
       "      <td>annie_potts</td>\n",
       "      <td>Annie Potts</td>\n",
       "      <td>10</td>\n",
       "      <td>Toy story</td>\n",
       "      <td>9.0</td>\n",
       "      <td>73.0</td>\n",
       "    </tr>\n",
       "    <tr>\n",
       "      <th>1</th>\n",
       "      <td>1</td>\n",
       "      <td>bill_farmer</td>\n",
       "      <td>Bill Farmer</td>\n",
       "      <td>20</td>\n",
       "      <td>Toy story</td>\n",
       "      <td>9.0</td>\n",
       "      <td>73.0</td>\n",
       "    </tr>\n",
       "    <tr>\n",
       "      <th>2</th>\n",
       "      <td>1</td>\n",
       "      <td>don_rickles</td>\n",
       "      <td>Don Rickles</td>\n",
       "      <td>3</td>\n",
       "      <td>Toy story</td>\n",
       "      <td>9.0</td>\n",
       "      <td>73.0</td>\n",
       "    </tr>\n",
       "    <tr>\n",
       "      <th>3</th>\n",
       "      <td>1</td>\n",
       "      <td>erik_von_detten</td>\n",
       "      <td>Erik von Detten</td>\n",
       "      <td>13</td>\n",
       "      <td>Toy story</td>\n",
       "      <td>9.0</td>\n",
       "      <td>73.0</td>\n",
       "    </tr>\n",
       "    <tr>\n",
       "      <th>4</th>\n",
       "      <td>1</td>\n",
       "      <td>greg-berg</td>\n",
       "      <td>Greg Berg</td>\n",
       "      <td>17</td>\n",
       "      <td>Toy story</td>\n",
       "      <td>9.0</td>\n",
       "      <td>73.0</td>\n",
       "    </tr>\n",
       "  </tbody>\n",
       "</table>\n",
       "</div>"
      ],
      "text/plain": [
       "   id          actorID        actorName  ranking      title  \\\n",
       "0   1      annie_potts      Annie Potts       10  Toy story   \n",
       "1   1      bill_farmer      Bill Farmer       20  Toy story   \n",
       "2   1      don_rickles      Don Rickles        3  Toy story   \n",
       "3   1  erik_von_detten  Erik von Detten       13  Toy story   \n",
       "4   1        greg-berg        Greg Berg       17  Toy story   \n",
       "\n",
       "   rtAllCriticsRating  rtAllCriticsNumReviews  \n",
       "0                 9.0                    73.0  \n",
       "1                 9.0                    73.0  \n",
       "2                 9.0                    73.0  \n",
       "3                 9.0                    73.0  \n",
       "4                 9.0                    73.0  "
      ]
     },
     "execution_count": 17,
     "metadata": {},
     "output_type": "execute_result"
    }
   ],
   "source": [
    "moviemerged.head()"
   ]
  },
  {
   "cell_type": "code",
   "execution_count": 18,
   "metadata": {
    "collapsed": true
   },
   "outputs": [],
   "source": [
    "BIGACTORS=moviemerged.actorID.value_counts()[moviemerged.actorID.value_counts()>=37].index"
   ]
  },
  {
   "cell_type": "code",
   "execution_count": 19,
   "metadata": {
    "collapsed": false
   },
   "outputs": [],
   "source": [
    "moviebigactors=moviemerged[moviemerged['actorID'].isin(BIGACTORS)]"
   ]
  },
  {
   "cell_type": "code",
   "execution_count": 20,
   "metadata": {
    "collapsed": false
   },
   "outputs": [
    {
     "data": {
      "text/plain": [
       "(2499, 7)"
      ]
     },
     "execution_count": 20,
     "metadata": {},
     "output_type": "execute_result"
    }
   ],
   "source": [
    "BIGMOVIES=moviebigactors.id.value_counts()[moviebigactors.id.value_counts()>=2].index\n",
    "moviefiltered=moviebigactors[moviebigactors['id'].isin(BIGMOVIES)]\n",
    "moviefiltered.shape"
   ]
  },
  {
   "cell_type": "code",
   "execution_count": 21,
   "metadata": {
    "collapsed": false
   },
   "outputs": [
    {
     "data": {
      "text/html": [
       "<div>\n",
       "<table border=\"1\" class=\"dataframe\">\n",
       "  <thead>\n",
       "    <tr style=\"text-align: right;\">\n",
       "      <th></th>\n",
       "      <th>id</th>\n",
       "      <th>actorID</th>\n",
       "      <th>actorName</th>\n",
       "      <th>ranking</th>\n",
       "      <th>title</th>\n",
       "      <th>rtAllCriticsRating</th>\n",
       "      <th>rtAllCriticsNumReviews</th>\n",
       "      <th>countmovies</th>\n",
       "      <th>movie_count</th>\n",
       "    </tr>\n",
       "  </thead>\n",
       "  <tbody>\n",
       "    <tr>\n",
       "      <th>0</th>\n",
       "      <td>1</td>\n",
       "      <td>annie_potts</td>\n",
       "      <td>Annie Potts</td>\n",
       "      <td>10</td>\n",
       "      <td>Toy story</td>\n",
       "      <td>9.0</td>\n",
       "      <td>73.0</td>\n",
       "      <td>10</td>\n",
       "      <td>24</td>\n",
       "    </tr>\n",
       "    <tr>\n",
       "      <th>1</th>\n",
       "      <td>1</td>\n",
       "      <td>bill_farmer</td>\n",
       "      <td>Bill Farmer</td>\n",
       "      <td>20</td>\n",
       "      <td>Toy story</td>\n",
       "      <td>9.0</td>\n",
       "      <td>73.0</td>\n",
       "      <td>8</td>\n",
       "      <td>24</td>\n",
       "    </tr>\n",
       "    <tr>\n",
       "      <th>2</th>\n",
       "      <td>1</td>\n",
       "      <td>don_rickles</td>\n",
       "      <td>Don Rickles</td>\n",
       "      <td>3</td>\n",
       "      <td>Toy story</td>\n",
       "      <td>9.0</td>\n",
       "      <td>73.0</td>\n",
       "      <td>13</td>\n",
       "      <td>24</td>\n",
       "    </tr>\n",
       "    <tr>\n",
       "      <th>3</th>\n",
       "      <td>1</td>\n",
       "      <td>erik_von_detten</td>\n",
       "      <td>Erik von Detten</td>\n",
       "      <td>13</td>\n",
       "      <td>Toy story</td>\n",
       "      <td>9.0</td>\n",
       "      <td>73.0</td>\n",
       "      <td>11</td>\n",
       "      <td>24</td>\n",
       "    </tr>\n",
       "    <tr>\n",
       "      <th>4</th>\n",
       "      <td>1</td>\n",
       "      <td>greg-berg</td>\n",
       "      <td>Greg Berg</td>\n",
       "      <td>17</td>\n",
       "      <td>Toy story</td>\n",
       "      <td>9.0</td>\n",
       "      <td>73.0</td>\n",
       "      <td>4</td>\n",
       "      <td>24</td>\n",
       "    </tr>\n",
       "  </tbody>\n",
       "</table>\n",
       "</div>"
      ],
      "text/plain": [
       "   id          actorID        actorName  ranking      title  \\\n",
       "0   1      annie_potts      Annie Potts       10  Toy story   \n",
       "1   1      bill_farmer      Bill Farmer       20  Toy story   \n",
       "2   1      don_rickles      Don Rickles        3  Toy story   \n",
       "3   1  erik_von_detten  Erik von Detten       13  Toy story   \n",
       "4   1        greg-berg        Greg Berg       17  Toy story   \n",
       "\n",
       "   rtAllCriticsRating  rtAllCriticsNumReviews  countmovies  movie_count  \n",
       "0                 9.0                    73.0           10           24  \n",
       "1                 9.0                    73.0            8           24  \n",
       "2                 9.0                    73.0           13           24  \n",
       "3                 9.0                    73.0           11           24  \n",
       "4                 9.0                    73.0            4           24  "
      ]
     },
     "execution_count": 21,
     "metadata": {},
     "output_type": "execute_result"
    }
   ],
   "source": [
    "G=moviemerged.actorID.value_counts().to_frame()\n",
    "G=G.rename(columns = {'actorID':'countmovies'})\n",
    "indices=G.index\n",
    "G[\"actorID\"]=indices\n",
    "G\n",
    "moviemergewithcount=moviemerged.merge(G,on=\"actorID\")\n",
    "\n",
    "G=moviemerged.id.value_counts().to_frame()\n",
    "G=G.rename(columns={'id':'movie_count'})\n",
    "indices=G.index\n",
    "G[\"id\"]=indices\n",
    "moviemergewithallcount=moviemergewithcount.merge(G,on=\"id\")\n",
    "moviemergewithallcount.head()"
   ]
  },
  {
   "cell_type": "code",
   "execution_count": 22,
   "metadata": {
    "collapsed": false
   },
   "outputs": [],
   "source": [
    "moviedf=moviemergewithallcount[(moviemergewithallcount.countmovies>=37)&(moviemergewithallcount.movie_count>=37)]"
   ]
  },
  {
   "cell_type": "markdown",
   "metadata": {},
   "source": [
    "## 9. Restricting the movies.\n",
    "\n",
    "Now, create a DataFrame that only contains those popular actors and only those movies in which at least two of them appeared. This should leave you with 1032 movies and a DataFrame with 2499 lines.  This is the DataFrame we will use for the rest of this homework."
   ]
  },
  {
   "cell_type": "code",
   "execution_count": 23,
   "metadata": {
    "collapsed": false
   },
   "outputs": [
    {
     "data": {
      "text/plain": [
       "1032"
      ]
     },
     "execution_count": 23,
     "metadata": {},
     "output_type": "execute_result"
    }
   ],
   "source": [
    "len(moviefiltered.id.unique())"
   ]
  },
  {
   "cell_type": "markdown",
   "metadata": {},
   "source": [
    "## 10. Confirm that each movie appears at least twice in this table.\n",
    "Also compute the minimum number of times that an actor appears in this table.  We got 5."
   ]
  },
  {
   "cell_type": "code",
   "execution_count": 25,
   "metadata": {
    "collapsed": false
   },
   "outputs": [
    {
     "name": "stdout",
     "output_type": "stream",
     "text": [
      "True 5\n"
     ]
    }
   ],
   "source": [
    "print np.all(moviefiltered.id.value_counts()>=2),np.min(moviefiltered.actorID.value_counts())"
   ]
  },
  {
   "cell_type": "markdown",
   "metadata": {},
   "source": [
    "## 11. Within this set find the 10 highest and lowest rated actors by giving them a rating equal to the average of the ratings of the movies in which they appear."
   ]
  },
  {
   "cell_type": "code",
   "execution_count": 26,
   "metadata": {
    "collapsed": false
   },
   "outputs": [
    {
     "data": {
      "text/html": [
       "<div>\n",
       "<table border=\"1\" class=\"dataframe\">\n",
       "  <thead>\n",
       "    <tr style=\"text-align: right;\">\n",
       "      <th></th>\n",
       "      <th>rtAllCriticsRating</th>\n",
       "    </tr>\n",
       "    <tr>\n",
       "      <th>actorID</th>\n",
       "      <th></th>\n",
       "    </tr>\n",
       "  </thead>\n",
       "  <tbody>\n",
       "    <tr>\n",
       "      <th>al_pacino</th>\n",
       "      <td>6.982609</td>\n",
       "    </tr>\n",
       "    <tr>\n",
       "      <th>jack_lemmon</th>\n",
       "      <td>6.973333</td>\n",
       "    </tr>\n",
       "    <tr>\n",
       "      <th>tom_hanks</th>\n",
       "      <td>6.810526</td>\n",
       "    </tr>\n",
       "    <tr>\n",
       "      <th>charlton_heston</th>\n",
       "      <td>6.788235</td>\n",
       "    </tr>\n",
       "    <tr>\n",
       "      <th>meryl_streep</th>\n",
       "      <td>6.719231</td>\n",
       "    </tr>\n",
       "    <tr>\n",
       "      <th>robert_duvall</th>\n",
       "      <td>6.708824</td>\n",
       "    </tr>\n",
       "    <tr>\n",
       "      <th>john_wayne</th>\n",
       "      <td>6.700000</td>\n",
       "    </tr>\n",
       "    <tr>\n",
       "      <th>clint_eastwood</th>\n",
       "      <td>6.690476</td>\n",
       "    </tr>\n",
       "    <tr>\n",
       "      <th>robert_de_niro</th>\n",
       "      <td>6.587234</td>\n",
       "    </tr>\n",
       "    <tr>\n",
       "      <th>jack_nicholson</th>\n",
       "      <td>6.533333</td>\n",
       "    </tr>\n",
       "  </tbody>\n",
       "</table>\n",
       "</div>"
      ],
      "text/plain": [
       "                 rtAllCriticsRating\n",
       "actorID                            \n",
       "al_pacino                  6.982609\n",
       "jack_lemmon                6.973333\n",
       "tom_hanks                  6.810526\n",
       "charlton_heston            6.788235\n",
       "meryl_streep               6.719231\n",
       "robert_duvall              6.708824\n",
       "john_wayne                 6.700000\n",
       "clint_eastwood             6.690476\n",
       "robert_de_niro             6.587234\n",
       "jack_nicholson             6.533333"
      ]
     },
     "execution_count": 26,
     "metadata": {},
     "output_type": "execute_result"
    }
   ],
   "source": [
    "(moviefiltered[[\"actorID\",\"rtAllCriticsRating\"]].groupby(\"actorID\")).aggregate(np.mean).nlargest(10,\"rtAllCriticsRating\")"
   ]
  },
  {
   "cell_type": "code",
   "execution_count": 27,
   "metadata": {
    "collapsed": false
   },
   "outputs": [
    {
     "data": {
      "text/html": [
       "<div>\n",
       "<table border=\"1\" class=\"dataframe\">\n",
       "  <thead>\n",
       "    <tr style=\"text-align: right;\">\n",
       "      <th></th>\n",
       "      <th>rtAllCriticsRating</th>\n",
       "    </tr>\n",
       "    <tr>\n",
       "      <th>actorID</th>\n",
       "      <th></th>\n",
       "    </tr>\n",
       "  </thead>\n",
       "  <tbody>\n",
       "    <tr>\n",
       "      <th>keith_david</th>\n",
       "      <td>4.730769</td>\n",
       "    </tr>\n",
       "    <tr>\n",
       "      <th>dan_aykroyd</th>\n",
       "      <td>4.810345</td>\n",
       "    </tr>\n",
       "    <tr>\n",
       "      <th>frank_welker</th>\n",
       "      <td>4.842105</td>\n",
       "    </tr>\n",
       "    <tr>\n",
       "      <th>rip_torn</th>\n",
       "      <td>4.973684</td>\n",
       "    </tr>\n",
       "    <tr>\n",
       "      <th>bruce_willis</th>\n",
       "      <td>4.995833</td>\n",
       "    </tr>\n",
       "    <tr>\n",
       "      <th>whoopi_goldberg</th>\n",
       "      <td>5.204545</td>\n",
       "    </tr>\n",
       "    <tr>\n",
       "      <th>max_von_sydow</th>\n",
       "      <td>5.256250</td>\n",
       "    </tr>\n",
       "    <tr>\n",
       "      <th>john_cleese</th>\n",
       "      <td>5.333333</td>\n",
       "    </tr>\n",
       "    <tr>\n",
       "      <th>marshall_bell</th>\n",
       "      <td>5.342308</td>\n",
       "    </tr>\n",
       "    <tr>\n",
       "      <th>antonio_banderas</th>\n",
       "      <td>5.373913</td>\n",
       "    </tr>\n",
       "  </tbody>\n",
       "</table>\n",
       "</div>"
      ],
      "text/plain": [
       "                  rtAllCriticsRating\n",
       "actorID                             \n",
       "keith_david                 4.730769\n",
       "dan_aykroyd                 4.810345\n",
       "frank_welker                4.842105\n",
       "rip_torn                    4.973684\n",
       "bruce_willis                4.995833\n",
       "whoopi_goldberg             5.204545\n",
       "max_von_sydow               5.256250\n",
       "john_cleese                 5.333333\n",
       "marshall_bell               5.342308\n",
       "antonio_banderas            5.373913"
      ]
     },
     "execution_count": 27,
     "metadata": {},
     "output_type": "execute_result"
    }
   ],
   "source": [
    "(moviefiltered[[\"actorID\",\"rtAllCriticsRating\"]].groupby(\"actorID\")).aggregate(np.mean).nsmallest(10,\"rtAllCriticsRating\")"
   ]
  },
  {
   "cell_type": "markdown",
   "metadata": {
    "collapsed": true
   },
   "source": [
    "# Rating by Least Squares\n",
    "The drawback of the above rating scheme is that it does not distinguish each actor's \n",
    "individual contribution to a movie.  We would like to do that by assigning a rating to each actor so that the rating of every movie is the average of the ratings of actors in it.\n",
    "\n",
    "We can't do that exactly, but we can try to come close with least squares.\n"
   ]
  },
  {
   "cell_type": "markdown",
   "metadata": {
    "collapsed": true
   },
   "source": [
    "# 12. Building the matrix\n",
    "Construct a matrix whose rows are indexed by the movies and whose columns are indexed by the actors in the last DataFrame.  I don't mean \"indexed\" in a formal sense.  Rather, it should have 101 columns and 1032 rows.  It should have a nonzero in row r and column c when actor c appears in movie r.  In this case, the entry should be the the reciprocal of the number of actors in that movie.  This way, multiplying by a vector encoding the ratings of actors will compute the average rating of the actors in each movie.\n",
    "\n",
    "Hint: it is possible to do this using either DataFrame operations or Dictionaries.  Some might find the Pandas `iterrows` or `itertuples` method, or the Python function `zip`, to be useful.\n",
    "\n",
    "If you case you cannot construct this matrix, we will create a file that you can use to include it.  This will allow you to complete the rest of the problem set (at some loss of points)."
   ]
  },
  {
   "cell_type": "code",
   "execution_count": null,
   "metadata": {
    "collapsed": false
   },
   "outputs": [],
   "source": [
    "actors=moviefiltered.actorID.unique()\n",
    "movies=moviefiltered.id.unique()\n",
    "a=pd.DataFrame(data=0.,index=movies,columns=actors)\n",
    "L=moviefiltered.groupby(by=\"id\",as_index=False)\n",
    "V={j[0]:j[1].shape[0] for j in L}"
   ]
  },
  {
   "cell_type": "code",
   "execution_count": null,
   "metadata": {
    "collapsed": false
   },
   "outputs": [],
   "source": [
    "for j in moviefiltered.itertuples():\n",
    "    t_movieid=j.id\n",
    "    t_actorid=j.actorID\n",
    "    a[t_actorid][t_movieid]=1.0/(V[t_movieid])"
   ]
  },
  {
   "cell_type": "code",
   "execution_count": null,
   "metadata": {
    "collapsed": false
   },
   "outputs": [],
   "source": [
    "moviefiltered.head()\n",
    "mydict={}\n",
    "for j in moviefiltered.itertuples():\n",
    "    if j.id in mydict:\n",
    "        mydict[j.id].append(j.actorID)\n",
    "    else:\n",
    "        mydict[j.id]=[j.actorID]\n",
    "\n",
    "Adict=dict.fromkeys(moviefiltered.id.unique())\n",
    "v=dict.fromkeys(moviefiltered.actorID.unique(),0)\n",
    "for j in moviefiltered.itertuples():\n",
    "    if Adict[j.id]:\n",
    "        Adict[j.id][j.actorID]=1.0/len(mydict[j.id])\n",
    "    else:\n",
    "        Adict[j.id]=v.copy()\n",
    "        Adict[j.id][j.actorID]=1.0/len(mydict[j.id])\n",
    "\n",
    "bigmat=pd.DataFrame.from_dict(Adict,orient='index')"
   ]
  },
  {
   "cell_type": "code",
   "execution_count": null,
   "metadata": {
    "collapsed": false
   },
   "outputs": [],
   "source": [
    "bigmat.shape"
   ]
  },
  {
   "cell_type": "code",
   "execution_count": null,
   "metadata": {
    "collapsed": false
   },
   "outputs": [],
   "source": [
    "np.sum(np.isclose(a.sum(axis=1),1))"
   ]
  },
  {
   "cell_type": "markdown",
   "metadata": {
    "collapsed": true
   },
   "source": [
    "## 13. Make a vector of the movie ratings, indexed in the same way as the columns of the matrix."
   ]
  },
  {
   "cell_type": "code",
   "execution_count": null,
   "metadata": {
    "collapsed": false
   },
   "outputs": [],
   "source": [
    "moviefiltered.head()\n",
    "A=bigmat"
   ]
  },
  {
   "cell_type": "code",
   "execution_count": null,
   "metadata": {
    "collapsed": false
   },
   "outputs": [],
   "source": [
    "GG=moviefiltered[[\"id\",\"rtAllCriticsRating\"]].groupby(by=\"id\",as_index=False)\n",
    "b=GG.aggregate(np.mean).set_index(\"id\")\n",
    "b.head()"
   ]
  },
  {
   "cell_type": "markdown",
   "metadata": {},
   "source": [
    "## 14. Solve the least squares problem to find the ratings for actors.\n",
    "Then, compute the mean of the squares of the entries of the vector\n",
    "$$ Ax - b$$.\n",
    "To test how good this is, also compute the mean of the squares of\n",
    "b minus the mean of b."
   ]
  },
  {
   "cell_type": "code",
   "execution_count": null,
   "metadata": {
    "collapsed": false
   },
   "outputs": [],
   "source": [
    "xhat=np.linalg.solve(A.T.dot(A),A.T.dot(b))\n",
    "VA=A.dot(xhat)\n",
    "VA.columns=[\"rtAllCriticsRating\"]\n",
    "\n",
    "np.linalg.norm(VA-b)**2/A.shape[0]"
   ]
  },
  {
   "cell_type": "code",
   "execution_count": null,
   "metadata": {
    "collapsed": false
   },
   "outputs": [],
   "source": [
    "np.linalg.norm(b.mean()-b)**2/A.shape[0]"
   ]
  },
  {
   "cell_type": "markdown",
   "metadata": {},
   "source": [
    "## 15. According to these ratings, whose are the 10 best and worst actors (out of the 101 we are considering)?"
   ]
  },
  {
   "cell_type": "code",
   "execution_count": null,
   "metadata": {
    "collapsed": true
   },
   "outputs": [],
   "source": []
  },
  {
   "cell_type": "code",
   "execution_count": null,
   "metadata": {
    "collapsed": true
   },
   "outputs": [],
   "source": []
  },
  {
   "cell_type": "markdown",
   "metadata": {
    "collapsed": true
   },
   "source": [
    "# Should we believe these top (and bottom) 10 lists?\n",
    "We will divide the movies into a training set and a test set.\n",
    "We will use the training set to assign ratings to actors, and then see how well they explain the ratings of movies in the test set.\n",
    "We will use your netid to determine which movies go in which set."
   ]
  },
  {
   "cell_type": "markdown",
   "metadata": {},
   "source": [
    "## 16. Map movies to train and test.\n",
    "Create a pandas Series or a list or an array containing the movie ids.\n",
    "The following function assigns True or False to a movie id.\n",
    "Apply it to all of the movie ids in the 101 we are considering.\n",
    "Verify that the number of True values is about 87.5%.\n",
    "You can do this by computing the sum of a boolean vector."
   ]
  },
  {
   "cell_type": "code",
   "execution_count": null,
   "metadata": {
    "collapsed": false
   },
   "outputs": [],
   "source": [
    "# DO NOT CHANGE THIS CODE!\n",
    "def is_train(movie_id):\n",
    "    hash_object = hashlib.md5(netid + str(movie_id))\n",
    "    hex_hash = hash_object.hexdigest()\n",
    "    return int(hex_hash[0],16) < 14   \n",
    "is_train('1')"
   ]
  },
  {
   "cell_type": "code",
   "execution_count": null,
   "metadata": {
    "collapsed": false
   },
   "outputs": [],
   "source": [
    "A.index"
   ]
  },
  {
   "cell_type": "code",
   "execution_count": null,
   "metadata": {
    "collapsed": false
   },
   "outputs": [],
   "source": [
    "trainingindex=([is_train(x) for x in A.index])"
   ]
  },
  {
   "cell_type": "markdown",
   "metadata": {
    "collapsed": true
   },
   "source": [
    "## 17. Compute the Least Squares Solution on the trainind data.\n",
    "Then, report the top and bottom 10 actors under this new rating vector."
   ]
  },
  {
   "cell_type": "code",
   "execution_count": null,
   "metadata": {
    "collapsed": false
   },
   "outputs": [],
   "source": [
    "Atrain=A[trainingindex]\n",
    "btrain=b[trainingindex]\n",
    "xhat=np.linalg.solve(Atrain.T.dot(Atrain)+np.identity(101)*0.1,Atrain.T.dot(btrain))\n",
    "VA=Atrain.dot(xhat)\n",
    "VA.columns=[\"rtAllCriticsRating\"]\n",
    "\n",
    "np.linalg.norm(VA-btrain)**2/Atrain.shape[0]"
   ]
  },
  {
   "cell_type": "markdown",
   "metadata": {
    "collapsed": true
   },
   "source": [
    "## 17. Evaluate how the least squares solution on train performs on test.\n",
    "This time, compute the mean squared error on the ratings of movies in the test set, and compare it to the mean squared error if we just guessed the average rating for those movies."
   ]
  },
  {
   "cell_type": "code",
   "execution_count": null,
   "metadata": {
    "collapsed": false
   },
   "outputs": [],
   "source": [
    "VA=A[np.logical_not(trainingindex)].dot(xhat)\n",
    "VA.columns=[\"rtAllCriticsRating\"]\n",
    "np.linalg.norm(VA-b[np.logical_not(trainingindex)])**2/np.sum(np.logical_not(trainingindex))"
   ]
  },
  {
   "cell_type": "code",
   "execution_count": null,
   "metadata": {
    "collapsed": false
   },
   "outputs": [],
   "source": [
    "np.linalg.norm(np.mean(b[np.logical_not(trainingindex)])-b[np.logical_not(trainingindex)])**2/np.sum(np.logical_not(trainingindex))"
   ]
  },
  {
   "cell_type": "markdown",
   "metadata": {
    "collapsed": true
   },
   "source": [
    "## 18. How stable were your top 10 and bottom 10?\n",
    "Give any observations you can make about the difference between dividing into train and test, \n",
    "and when we run on the whole data.  That is, what do you think of these actor ratings that we created?  Give your answer in a Markdown cell."
   ]
  },
  {
   "cell_type": "code",
   "execution_count": null,
   "metadata": {
    "collapsed": true
   },
   "outputs": [],
   "source": []
  },
  {
   "cell_type": "code",
   "execution_count": null,
   "metadata": {
    "collapsed": true
   },
   "outputs": [],
   "source": []
  }
 ],
 "metadata": {
  "anaconda-cloud": {},
  "kernelspec": {
   "display_name": "Python 2",
   "language": "python",
   "name": "python2"
  },
  "language_info": {
   "codemirror_mode": {
    "name": "ipython",
    "version": 2
   },
   "file_extension": ".py",
   "mimetype": "text/x-python",
   "name": "python",
   "nbconvert_exporter": "python",
   "pygments_lexer": "ipython2",
   "version": "2.7.12"
  }
 },
 "nbformat": 4,
 "nbformat_minor": 0
}
