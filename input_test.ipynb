{
 "cells": [
  {
   "cell_type": "markdown",
   "metadata": {},
   "source": [
    "### module loading"
   ]
  },
  {
   "cell_type": "code",
   "execution_count": 1,
   "metadata": {
    "collapsed": true
   },
   "outputs": [],
   "source": [
    "import numpy as np\n",
    "import pandas as pd"
   ]
  },
  {
   "cell_type": "code",
   "execution_count": 2,
   "metadata": {
    "collapsed": true
   },
   "outputs": [],
   "source": [
    "from sklearn import linear_model"
   ]
  },
  {
   "cell_type": "code",
   "execution_count": 5,
   "metadata": {},
   "outputs": [],
   "source": [
    "from input_process import input_process_pkb"
   ]
  },
  {
   "cell_type": "code",
   "execution_count": 7,
   "metadata": {
    "collapsed": true
   },
   "outputs": [],
   "source": [
    "# input dir\n",
    "input_dir = \"/Users/jerome/Projects/PKB2_development/data/simu_toy_regression/\""
   ]
  },
  {
   "cell_type": "markdown",
   "metadata": {},
   "source": [
    "### input object"
   ]
  },
  {
   "cell_type": "code",
   "execution_count": 26,
   "metadata": {},
   "outputs": [
    {
     "name": "stdout",
     "output_type": "stream",
     "text": [
      "\n",
      "IPython CPU timings (estimated):\n",
      "  User   :       0.00 s.\n",
      "  System :       0.00 s.\n",
      "Wall time:       0.01 s.\n"
     ]
    }
   ],
   "source": [
    "%run -t arg_reading.py regression /Users/jerome/Projects/PKB2_development/data/simu_toy_regression /Users/jerome/Projects/PKB2_development/data/simu_toy_regression/results predictor.txt predictor_sets.txt response.txt poly3 L1 -maxiter 300 -rate 0.01 -pen 1 -test test_label4.txt -clinical clinical.txt"
   ]
  },
  {
   "cell_type": "code",
   "execution_count": 28,
   "metadata": {},
   "outputs": [],
   "source": [
    "pickle_file = \"args.pickle\" \n",
    "fo = open(pickle_file,'rb')  \n",
    "args = pickle.load(fo)\n"
   ]
  },
  {
   "cell_type": "code",
   "execution_count": 30,
   "metadata": {},
   "outputs": [],
   "source": [
    "inputs = input_process_pkb.input_obj(args)"
   ]
  },
  {
   "cell_type": "code",
   "execution_count": 32,
   "metadata": {},
   "outputs": [
    {
     "data": {
      "text/plain": [
       "['Lambda',\n",
       " 'Ngroup',\n",
       " 'Npred',\n",
       " 'Npred_clin',\n",
       " 'Ntest',\n",
       " 'Ntrain',\n",
       " '__class__',\n",
       " '__delattr__',\n",
       " '__dict__',\n",
       " '__dir__',\n",
       " '__doc__',\n",
       " '__eq__',\n",
       " '__format__',\n",
       " '__ge__',\n",
       " '__getattribute__',\n",
       " '__gt__',\n",
       " '__hash__',\n",
       " '__init__',\n",
       " '__init_subclass__',\n",
       " '__le__',\n",
       " '__lt__',\n",
       " '__module__',\n",
       " '__ne__',\n",
       " '__new__',\n",
       " '__reduce__',\n",
       " '__reduce_ex__',\n",
       " '__repr__',\n",
       " '__setattr__',\n",
       " '__sizeof__',\n",
       " '__str__',\n",
       " '__subclasshook__',\n",
       " '__weakref__',\n",
       " 'clinical_file',\n",
       " 'data_preprocessing',\n",
       " 'data_split',\n",
       " 'group_file',\n",
       " 'group_names',\n",
       " 'hasClinical',\n",
       " 'hasTest',\n",
       " 'input_folder',\n",
       " 'input_summary',\n",
       " 'kernel',\n",
       " 'loaded',\n",
       " 'maxiter',\n",
       " 'method',\n",
       " 'model_param',\n",
       " 'nu',\n",
       " 'output_folder',\n",
       " 'pen',\n",
       " 'pred_sets',\n",
       " 'problem',\n",
       " 'proc_input',\n",
       " 'test_clinical',\n",
       " 'test_file',\n",
       " 'test_predictors',\n",
       " 'test_response',\n",
       " 'train_clinical',\n",
       " 'train_predictor_file',\n",
       " 'train_predictors',\n",
       " 'train_response',\n",
       " 'train_response_file']"
      ]
     },
     "execution_count": 32,
     "metadata": {},
     "output_type": "execute_result"
    }
   ],
   "source": [
    "dir(inputs)"
   ]
  },
  {
   "cell_type": "code",
   "execution_count": null,
   "metadata": {
    "collapsed": true
   },
   "outputs": [],
   "source": []
  }
 ],
 "metadata": {
  "kernelspec": {
   "display_name": "Python 3",
   "language": "python",
   "name": "python3"
  },
  "language_info": {
   "codemirror_mode": {
    "name": "ipython",
    "version": 3
   },
   "file_extension": ".py",
   "mimetype": "text/x-python",
   "name": "python",
   "nbconvert_exporter": "python",
   "pygments_lexer": "ipython3",
   "version": "3.6.3"
  }
 },
 "nbformat": 4,
 "nbformat_minor": 2
}
