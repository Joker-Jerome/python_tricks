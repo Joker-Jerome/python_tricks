{
 "cells": [
  {
   "cell_type": "code",
   "execution_count": 1,
   "metadata": {
    "collapsed": true
   },
   "outputs": [],
   "source": [
    "# modules"
   ]
  },
  {
   "cell_type": "code",
   "execution_count": 3,
   "metadata": {},
   "outputs": [
    {
     "name": "stdout",
     "output_type": "stream",
     "text": [
      "Homework5.ipynb             merge_data.py\r\n",
      "Pipe.ipynb                  multiprocessing.ipynb\r\n",
      "README.md                   ontology.ipynb\r\n",
      "Untitled.ipynb              outbed.txt\r\n",
      "\u001b[1m\u001b[34m__pycache__\u001b[m\u001b[m                 pickle_script.py\r\n",
      "count_dict.py               pool_variable.py\r\n",
      "explore_json.py             propagating-signal-mp.py\r\n",
      "filter_bed                  propagating-signal-multi.py\r\n",
      "filter_bed.py               propagating-signal-p.py\r\n",
      "first_occurrence.py         propagating-signal.py\r\n",
      "gen_task.py                 rpy2.ipynb\r\n",
      "input_test.ipynb            scope.ipynb\r\n",
      "interacting_with_OS.ipynb   test.bedgraph\r\n",
      "join_df.py                  test2.bedgraph\r\n",
      "match_list.py               testfile\r\n"
     ]
    }
   ],
   "source": [
    "# !cmd\n",
    "!ls"
   ]
  },
  {
   "cell_type": "code",
   "execution_count": 4,
   "metadata": {},
   "outputs": [
    {
     "name": "stdout",
     "output_type": "stream",
     "text": [
      "total 2592\n",
      "-rw-r--r--@ 1 jerome  staff  247716 May  7 21:57 Homework5.ipynb\n",
      "-rw-r--r--  1 jerome  staff    1708 May  6 17:26 Pipe.ipynb\n",
      "-rw-r--r--  1 jerome  staff      15 Mar 13  2018 README.md\n",
      "-rw-r--r--  1 jerome  staff    2261 May  1 16:04 Untitled.ipynb\n",
      "drwxr-xr-x  3 jerome  staff     102 Mar 14  2018 \u001b[1m\u001b[34m__pycache__\u001b[m\u001b[m\n",
      "-rw-r--r--  1 jerome  staff     152 Mar 13  2018 count_dict.py\n",
      "-rw-r--r--@ 1 jerome  staff    2435 May  1 22:20 explore_json.py\n",
      "-rw-r--r--  1 jerome  staff     504 Sep  1 00:02 filter_bed\n",
      "-rw-r--r--@ 1 jerome  staff     761 Sep 11 16:56 filter_bed.py\n",
      "-rw-r--r--  1 jerome  staff     174 Mar 13  2018 first_occurrence.py\n",
      "-rw-r--r--@ 1 jerome  staff     663 Apr 27 21:07 gen_task.py\n",
      "-rw-r--r--  1 jerome  staff    4560 Mar 14  2018 input_test.ipynb\n",
      "-rw-r--r--  1 jerome  staff      72 Sep 14 14:49 interacting_with_OS.ipynb\n",
      "-rw-r--r--  1 jerome  staff     851 Mar 14  2018 join_df.py\n",
      "-rw-r--r--  1 jerome  staff     278 May  1 23:42 match_list.py\n",
      "-rw-r--r--@ 1 jerome  staff    1683 Sep 11 16:57 merge_data.py\n",
      "-rw-r--r--  1 jerome  staff    5889 Mar 13  2018 multiprocessing.ipynb\n",
      "-rw-r--r--  1 jerome  staff  955306 May  7 16:22 ontology.ipynb\n",
      "-rw-r--r--  1 jerome  staff      80 Sep  1 00:46 outbed.txt\n",
      "-rw-r--r--  1 jerome  staff     401 Mar 14  2018 pickle_script.py\n",
      "-rw-r--r--@ 1 jerome  staff     477 May  1 23:01 pool_variable.py\n",
      "-rw-r--r--  1 jerome  staff    1566 May  7 21:52 propagating-signal-mp.py\n",
      "-rw-r--r--@ 1 jerome  staff    1484 May  7 19:59 propagating-signal-multi.py\n",
      "-rw-r--r--@ 1 jerome  staff    1250 Apr 17 11:46 propagating-signal-p.py\n",
      "-rw-r--r--@ 1 jerome  staff     851 Apr 17 11:47 propagating-signal.py\n",
      "-rw-r--r--  1 jerome  staff    6291 Apr 29 18:32 rpy2.ipynb\n",
      "-rw-r--r--  1 jerome  staff    1043 May  4 18:27 scope.ipynb\n",
      "-rw-r--r--  1 jerome  staff      33 Aug 31 23:54 test.bedgraph\n",
      "-rw-r--r--  1 jerome  staff     778 Sep  1 00:44 test2.bedgraph\n",
      "-rw-r--r--  1 jerome  staff       0 Mar 14  2018 testfile\n"
     ]
    }
   ],
   "source": [
    "!ls -l"
   ]
  },
  {
   "cell_type": "code",
   "execution_count": 6,
   "metadata": {},
   "outputs": [],
   "source": [
    "output = !pwd\n"
   ]
  },
  {
   "cell_type": "code",
   "execution_count": 8,
   "metadata": {},
   "outputs": [
    {
     "data": {
      "text/plain": [
       "'/Users/jerome/Projects/python_tricks'"
      ]
     },
     "execution_count": 8,
     "metadata": {},
     "output_type": "execute_result"
    }
   ],
   "source": [
    "output[0]"
   ]
  },
  {
   "cell_type": "code",
   "execution_count": null,
   "metadata": {
    "collapsed": true
   },
   "outputs": [],
   "source": [
    "# %cd\n",
    "%cd "
   ]
  },
  {
   "cell_type": "code",
   "execution_count": 10,
   "metadata": {},
   "outputs": [
    {
     "name": "stdout",
     "output_type": "stream",
     "text": [
      "Python 3.6.3 |Anaconda custom (64-bit)| (default, Oct  6 2017, 12:04:38) \n",
      "[GCC 4.2.1 Compatible Clang 4.0.1 (tags/RELEASE_401/final)] on darwin\n",
      "Type \"help\", \"copyright\", \"credits\" or \"license\" for more information.\n",
      ">>> \n",
      "KeyboardInterrupt\n",
      ">>> \n",
      ">>> "
     ]
    }
   ],
   "source": [
    "# !python\n",
    "!python"
   ]
  },
  {
   "cell_type": "code",
   "execution_count": 16,
   "metadata": {},
   "outputs": [
    {
     "name": "stdout",
     "output_type": "stream",
     "text": [
      "ifconfig: interface ethO does not exist\r\n"
     ]
    }
   ],
   "source": [
    "!ifconfig ethO | grep \"inet \""
   ]
  },
  {
   "cell_type": "code",
   "execution_count": 22,
   "metadata": {},
   "outputs": [
    {
     "name": "stdout",
     "output_type": "stream",
     "text": [
      "Automatic pdb calling has been turned ON\n"
     ]
    }
   ],
   "source": [
    "# debugger\n",
    "%pdb"
   ]
  },
  {
   "cell_type": "code",
   "execution_count": 24,
   "metadata": {},
   "outputs": [
    {
     "ename": "NameError",
     "evalue": "name 'c' is not defined",
     "output_type": "error",
     "traceback": [
      "\u001b[0;31m---------------------------------------------------------------------------\u001b[0m",
      "\u001b[0;31mNameError\u001b[0m                                 Traceback (most recent call last)",
      "\u001b[0;32m<ipython-input-24-18547e7795aa>\u001b[0m in \u001b[0;36m<module>\u001b[0;34m()\u001b[0m\n\u001b[0;32m----> 1\u001b[0;31m \u001b[0ma\u001b[0m \u001b[0;34m=\u001b[0m \u001b[0mc\u001b[0m\u001b[0;34m\u001b[0m\u001b[0m\n\u001b[0m",
      "\u001b[0;31mNameError\u001b[0m: name 'c' is not defined"
     ]
    },
    {
     "name": "stdout",
     "output_type": "stream",
     "text": [
      "> \u001b[0;32m<ipython-input-24-18547e7795aa>\u001b[0m(1)\u001b[0;36m<module>\u001b[0;34m()\u001b[0m\n",
      "\u001b[0;32m----> 1 \u001b[0;31m\u001b[0ma\u001b[0m \u001b[0;34m=\u001b[0m \u001b[0mc\u001b[0m\u001b[0;34m\u001b[0m\u001b[0m\n",
      "\u001b[0m\n",
      "ipdb> u\n",
      "*** Oldest frame\n",
      "ipdb> u\n",
      "*** Oldest frame\n",
      "ipdb> d\n",
      "*** Newest frame\n",
      "ipdb> d\n",
      "*** Newest frame\n",
      "ipdb> s\n"
     ]
    }
   ],
   "source": [
    "a = c"
   ]
  },
  {
   "cell_type": "code",
   "execution_count": null,
   "metadata": {
    "collapsed": true
   },
   "outputs": [],
   "source": []
  }
 ],
 "metadata": {
  "kernelspec": {
   "display_name": "Python 3",
   "language": "python",
   "name": "python3"
  },
  "language_info": {
   "codemirror_mode": {
    "name": "ipython",
    "version": 3
   },
   "file_extension": ".py",
   "mimetype": "text/x-python",
   "name": "python",
   "nbconvert_exporter": "python",
   "pygments_lexer": "ipython3",
   "version": "3.6.3"
  }
 },
 "nbformat": 4,
 "nbformat_minor": 2
}
