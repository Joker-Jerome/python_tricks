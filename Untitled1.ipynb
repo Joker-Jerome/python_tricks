{
 "cells": [
  {
   "cell_type": "code",
   "execution_count": 2,
   "metadata": {},
   "outputs": [],
   "source": [
    "from matplotlib import pyplot\n",
    "import numpy\n",
    "import time\n",
    "import multiprocessing\n",
    "import sys\n",
    "\n",
    "start = time.time()\n",
    "\n",
    "# initial conditions\n",
    "size = 1000\n",
    "num_processes = 2\n",
    "\n",
    "y = multiprocessing.Array('d', 1000, lock=False)\n",
    "y_new = multiprocessing.Array('d', 1000, lock=False)\n",
    "y[480:520] = [1] * 40\n",
    "y_new[480:520] = [1] * 40"
   ]
  },
  {
   "cell_type": "code",
   "execution_count": 6,
   "metadata": {},
   "outputs": [
    {
     "data": {
      "text/plain": [
       "[1.0, 1.0, 1.0, 1.0, 1.0, 1.0, 1.0, 1.0, 1.0, 1.0]"
      ]
     },
     "execution_count": 6,
     "metadata": {},
     "output_type": "execute_result"
    }
   ],
   "source": []
  }
 ],
 "metadata": {
  "kernelspec": {
   "display_name": "Python 3",
   "language": "python",
   "name": "python3"
  },
  "language_info": {
   "codemirror_mode": {
    "name": "ipython",
    "version": 3
   },
   "file_extension": ".py",
   "mimetype": "text/x-python",
   "name": "python",
   "nbconvert_exporter": "python",
   "pygments_lexer": "ipython3",
   "version": "3.6.3"
  }
 },
 "nbformat": 4,
 "nbformat_minor": 2
}
