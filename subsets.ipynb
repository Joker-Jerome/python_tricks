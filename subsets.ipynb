{
 "cells": [
  {
   "cell_type": "markdown",
   "metadata": {},
   "source": [
    "# backtracking "
   ]
  },
  {
   "cell_type": "markdown",
   "metadata": {},
   "source": [
    "### subsets"
   ]
  },
  {
   "cell_type": "code",
   "execution_count": 4,
   "metadata": {},
   "outputs": [],
   "source": [
    "class Solution(object):\n",
    "#    def subsets(self, nums: List[int]) -> List[List[int]]:\n",
    "    def subsets(self, nums):\n",
    "        \"\"\"\n",
    "        :type nums: List[int]\n",
    "        :rtype: List[List[int]]\n",
    "        \"\"\"\n",
    "        nums.sort()\n",
    "        res = [[]]\n",
    "        res.append(list(nums))\n",
    "        for ls in range(1, len(nums)):\n",
    "            self.get_subsets(res, nums, [], ls, 0)\n",
    "        return res\n",
    "    \n",
    "    def get_subsets(self, res, nums, curr_set, ls, index):\n",
    "        # recursive\n",
    "        if ls == 0:\n",
    "            res.append(list(curr_set))\n",
    "        elif index < len(nums):\n",
    "            curr_set.append(nums[index])\n",
    "            self.get_subsets(res, nums, curr_set, ls - 1, index + 1)\n",
    "            curr_set.pop()\n",
    "            self.get_subsets(res, nums, curr_set, ls, index + 1)   "
   ]
  },
  {
   "cell_type": "code",
   "execution_count": 7,
   "metadata": {},
   "outputs": [
    {
     "data": {
      "text/plain": [
       "[[],\n",
       " [1, 2, 3, 4],\n",
       " [1],\n",
       " [2],\n",
       " [3],\n",
       " [4],\n",
       " [1, 2],\n",
       " [1, 3],\n",
       " [1, 4],\n",
       " [2, 3],\n",
       " [2, 4],\n",
       " [3, 4],\n",
       " [1, 2, 3],\n",
       " [1, 2, 4],\n",
       " [1, 3, 4],\n",
       " [2, 3, 4]]"
      ]
     },
     "execution_count": 7,
     "metadata": {},
     "output_type": "execute_result"
    }
   ],
   "source": [
    "obj_solution = Solution()\n",
    "Solution.subsets(obj_solution, [1,2,3,4])"
   ]
  },
  {
   "cell_type": "code",
   "execution_count": 8,
   "metadata": {},
   "outputs": [
    {
     "data": {
      "text/plain": [
       "[[],\n",
       " [1, 2, 3, 4, 4, 4],\n",
       " [1],\n",
       " [2],\n",
       " [3],\n",
       " [4],\n",
       " [4],\n",
       " [4],\n",
       " [1, 2],\n",
       " [1, 3],\n",
       " [1, 4],\n",
       " [1, 4],\n",
       " [1, 4],\n",
       " [2, 3],\n",
       " [2, 4],\n",
       " [2, 4],\n",
       " [2, 4],\n",
       " [3, 4],\n",
       " [3, 4],\n",
       " [3, 4],\n",
       " [4, 4],\n",
       " [4, 4],\n",
       " [4, 4],\n",
       " [1, 2, 3],\n",
       " [1, 2, 4],\n",
       " [1, 2, 4],\n",
       " [1, 2, 4],\n",
       " [1, 3, 4],\n",
       " [1, 3, 4],\n",
       " [1, 3, 4],\n",
       " [1, 4, 4],\n",
       " [1, 4, 4],\n",
       " [1, 4, 4],\n",
       " [2, 3, 4],\n",
       " [2, 3, 4],\n",
       " [2, 3, 4],\n",
       " [2, 4, 4],\n",
       " [2, 4, 4],\n",
       " [2, 4, 4],\n",
       " [3, 4, 4],\n",
       " [3, 4, 4],\n",
       " [3, 4, 4],\n",
       " [4, 4, 4],\n",
       " [1, 2, 3, 4],\n",
       " [1, 2, 3, 4],\n",
       " [1, 2, 3, 4],\n",
       " [1, 2, 4, 4],\n",
       " [1, 2, 4, 4],\n",
       " [1, 2, 4, 4],\n",
       " [1, 3, 4, 4],\n",
       " [1, 3, 4, 4],\n",
       " [1, 3, 4, 4],\n",
       " [1, 4, 4, 4],\n",
       " [2, 3, 4, 4],\n",
       " [2, 3, 4, 4],\n",
       " [2, 3, 4, 4],\n",
       " [2, 4, 4, 4],\n",
       " [3, 4, 4, 4],\n",
       " [1, 2, 3, 4, 4],\n",
       " [1, 2, 3, 4, 4],\n",
       " [1, 2, 3, 4, 4],\n",
       " [1, 2, 4, 4, 4],\n",
       " [1, 3, 4, 4, 4],\n",
       " [2, 3, 4, 4, 4]]"
      ]
     },
     "execution_count": 8,
     "metadata": {},
     "output_type": "execute_result"
    }
   ],
   "source": [
    "obj_solution = Solution()\n",
    "# Can't handle the case with duplicate items \n",
    "Solution.subsets(obj_solution, [1,2,3,4,4,4])"
   ]
  },
  {
   "cell_type": "code",
   "execution_count": 10,
   "metadata": {},
   "outputs": [],
   "source": [
    "class Solution(object):\n",
    "#    def subsets(self, nums: List[int]) -> List[List[int]]:\n",
    "    def subsets(self, nums):\n",
    "        \"\"\"\n",
    "        :type nums: List[int]\n",
    "        :rtype: List[List[int]]\n",
    "        \"\"\"\n",
    "        nums = list(set(nums))\n",
    "        nums.sort()\n",
    "        res = [[]]\n",
    "        res.append(list(nums))\n",
    "        for ls in range(1, len(nums)):\n",
    "            self.get_subsets(res, nums, [], ls, 0)\n",
    "        return res\n",
    "    \n",
    "    def get_subsets(self, res, nums, curr_set, ls, index):\n",
    "        # recursive\n",
    "        if ls == 0:\n",
    "            res.append(list(curr_set))\n",
    "        elif index < len(nums):\n",
    "            curr_set.append(nums[index])\n",
    "            self.get_subsets(res, nums, curr_set, ls - 1, index + 1)\n",
    "            curr_set.pop()\n",
    "            self.get_subsets(res, nums, curr_set, ls, index + 1)  "
   ]
  },
  {
   "cell_type": "code",
   "execution_count": 11,
   "metadata": {},
   "outputs": [
    {
     "data": {
      "text/plain": [
       "[[],\n",
       " [1, 2, 3, 4],\n",
       " [1],\n",
       " [2],\n",
       " [3],\n",
       " [4],\n",
       " [1, 2],\n",
       " [1, 3],\n",
       " [1, 4],\n",
       " [2, 3],\n",
       " [2, 4],\n",
       " [3, 4],\n",
       " [1, 2, 3],\n",
       " [1, 2, 4],\n",
       " [1, 3, 4],\n",
       " [2, 3, 4]]"
      ]
     },
     "execution_count": 11,
     "metadata": {},
     "output_type": "execute_result"
    }
   ],
   "source": [
    "obj_solution = Solution()\n",
    "# Can't handle the case with duplicate items \n",
    "Solution.subsets(obj_solution, [1,2,3,4,4,4])"
   ]
  },
  {
   "cell_type": "code",
   "execution_count": null,
   "metadata": {},
   "outputs": [],
   "source": []
  },
  {
   "cell_type": "code",
   "execution_count": null,
   "metadata": {},
   "outputs": [],
   "source": []
  },
  {
   "cell_type": "markdown",
   "metadata": {},
   "source": [
    "### subset II "
   ]
  },
  {
   "cell_type": "code",
   "execution_count": null,
   "metadata": {},
   "outputs": [],
   "source": []
  },
  {
   "cell_type": "code",
   "execution_count": null,
   "metadata": {},
   "outputs": [],
   "source": []
  },
  {
   "cell_type": "code",
   "execution_count": null,
   "metadata": {},
   "outputs": [],
   "source": []
  },
  {
   "cell_type": "code",
   "execution_count": null,
   "metadata": {},
   "outputs": [],
   "source": []
  }
 ],
 "metadata": {
  "kernelspec": {
   "display_name": "Python 3",
   "language": "python",
   "name": "python3"
  },
  "language_info": {
   "codemirror_mode": {
    "name": "ipython",
    "version": 3
   },
   "file_extension": ".py",
   "mimetype": "text/x-python",
   "name": "python",
   "nbconvert_exporter": "python",
   "pygments_lexer": "ipython3",
   "version": "3.6.3"
  }
 },
 "nbformat": 4,
 "nbformat_minor": 2
}
